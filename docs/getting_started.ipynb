{
 "cells": [
  {
   "cell_type": "markdown",
   "metadata": {},
   "source": [
    "[![Open In Colab](https://colab.research.google.com/assets/colab-badge.svg)](https://colab.research.google.com/github/moshi4/pyCirclize/blob/main/docs/getting_started.ipynb)"
   ]
  },
  {
   "cell_type": "code",
   "execution_count": 1,
   "metadata": {},
   "outputs": [],
   "source": [
    "# %pip install pycirclizely"
   ]
  },
  {
   "attachments": {},
   "cell_type": "markdown",
   "metadata": {},
   "source": [
    "## 1. Circular Layout Design\n",
    "\n",
    "pyCirclizely uses a circular layout design with **Sectors** and **Tracks** inspired by [circlize](https://jokergoo.github.io/circlize_book/book/introduction.html#principle-of-design) (R package).\n",
    "Different types of data can be assigned to each sector, and multiple tracks for data plotting can be freely placed within a sector."
   ]
  },
  {
   "attachments": {},
   "cell_type": "markdown",
   "metadata": {},
   "source": [
    "### 1-1. Set Sectors\n",
    "\n",
    "The size of each data is required to set the sectors in a circular layout, \n",
    "and the space size between sectors can also be set.  \n",
    "For example, if the data size of each sector is `A=10, B=15, C=12, D=20, E=15` and \n",
    "the space between sectors is `5 degrees`, it can be set up with the following code."
   ]
  },
  {
   "cell_type": "code",
   "execution_count": null,
   "metadata": {},
   "outputs": [],
   "source": [
    "from pycirclizely import Circos\n",
    "\n",
    "# Initialize circos sectors\n",
    "sectors = {\"A\": 10, \"B\": 15, \"C\": 12, \"D\": 20, \"E\": 15}\n",
    "circos = Circos(sectors, space=5)\n",
    "\n",
    "for sector in circos.sectors:\n",
    "    # Plot sector axis & name text\n",
    "    sector.axis(fillcolor=\"green\", line=dict(color=\"red\", dash=\"dashdot\", width=10), opacity=1)\n",
    "    sector.text(f\"Sector: {sector.name}={sector.size}\")\n",
    "\n",
    "fig = circos.plotfig()\n",
    "fig"
   ]
  },
  {
   "attachments": {},
   "cell_type": "markdown",
   "metadata": {},
   "source": [
    "From the data size of each sector and the space size between sectors, \n",
    "the appropriate circular layout of the sectors is set as shown in the figure above.\n",
    "\n",
    "In addition, user can freely set the start-end degrees of the circular layout \n",
    "in the range from -360 to 360. The following code is an example of setting `start=-270` and `end=30`."
   ]
  },
  {
   "cell_type": "code",
   "execution_count": null,
   "metadata": {},
   "outputs": [],
   "source": [
    "from pycirclizely import Circos\n",
    "\n",
    "# Initialize circos sectors\n",
    "sectors = {\"A\": 10, \"B\": 15, \"C\": 12, \"D\": 20, \"E\": 15}\n",
    "circos = Circos(sectors, space=5, start=-270, end=30)\n",
    "\n",
    "for sector in circos.sectors:\n",
    "    # Plot sector axis & name text\n",
    "    sector.axis(fillcolor=\"green\", line=dict(color=\"red\", dash=\"dashdot\", width=10), opacity=1)\n",
    "    sector.text(f\"Sector: {sector.name}={sector.size}\")\n",
    "\n",
    "fig = circos.plotfig()\n",
    "fig"
   ]
  },
  {
   "attachments": {},
   "cell_type": "markdown",
   "metadata": {},
   "source": [
    "### 1-2. Set Tracks\n",
    "\n",
    "User can freely place tracks within the sector radius range (0 - 100). \n",
    "The following code is an example of placing 3 tracks in each sector."
   ]
  },
  {
   "cell_type": "code",
   "execution_count": null,
   "metadata": {},
   "outputs": [],
   "source": [
    "from pycirclizely import Circos\n",
    "\n",
    "# Initialize circos sectors\n",
    "sectors = {\"A\": 10, \"B\": 15, \"C\": 12, \"D\": 20, \"E\": 15}\n",
    "circos = Circos(sectors, space=5)\n",
    "\n",
    "for sector in circos.sectors:\n",
    "    # Plot sector axis & name text\n",
    "    sector.axis(fillcolor=None, line=dict(color=\"black\", dash=\"dashdot\", width=2), opacity=0.5)\n",
    "    sector.text(f\"Sector: {sector.name}={sector.size}\", font=dict(size=20))\n",
    "    # Set Track01 (Radius: 75 - 100)\n",
    "    track1 = sector.add_track((75, 100))\n",
    "    track1.axis(fillcolor=\"tomato\", opacity=0.5)\n",
    "    track1.text(track1.name)\n",
    "    # Set Track02 (Radius: 45 - 70)\n",
    "    track2 = sector.add_track((45, 70))\n",
    "    track2.axis(fillcolor=\"cyan\", opacity=0.5)\n",
    "    track2.text(track2.name)\n",
    "    # Set Track03 (Radius: 15 - 40)\n",
    "    track3 = sector.add_track((15, 40))\n",
    "    track3.axis(fillcolor=\"lime\", opacity=0.5)\n",
    "    track3.text(track3.name)\n",
    "\n",
    "fig = circos.plotfig()\n",
    "fig"
   ]
  },
  {
   "attachments": {},
   "cell_type": "markdown",
   "metadata": {},
   "source": [
    "In the above figure example, the tracks are just placed, but in reality, \n",
    "various numerical and statistical data are plotted to the tracks.\n",
    "The next section explains how to plot within a track."
   ]
  },
  {
   "attachments": {},
   "cell_type": "markdown",
   "metadata": {},
   "source": [
    "## 2. Plot Data on Track\n",
    "\n",
    "Track has a variety of plotting functions. This section shows how to perform basic plotting on track.  \n",
    "\n",
    "Lines, Points, and Bars can be plotted with the `track.line()`, `track.scatter()`, and `track.bar()` methods, respectively.\n",
    "Also xticks can be plotted with the `track.xticks_by_interval()` method. Following is an example code."
   ]
  },
  {
   "cell_type": "code",
   "execution_count": null,
   "metadata": {},
   "outputs": [],
   "source": [
    "from pycirclizely import Circos\n",
    "import numpy as np\n",
    "np.random.seed(0)\n",
    "\n",
    "sectors = {\"A\": 10, \"B\": 15, \"C\": 12, \"D\": 20, \"E\": 15}\n",
    "circos = Circos(sectors, space=5)\n",
    "for sector in circos.sectors:\n",
    "    # Plot sector name\n",
    "    sector.text(f\"Sector: {sector.name}\", font=dict(size=20))\n",
    "    # Create x positions & randomized y values for data plotting\n",
    "    x = np.arange(sector.start, sector.end) + 0.5\n",
    "    y = np.random.randint(0, 100, len(x))\n",
    "    # Plot line\n",
    "    line_track = sector.add_track((75, 100), r_pad_ratio=0.1)\n",
    "    line_track.axis()\n",
    "    line_track.xticks_by_interval(1)\n",
    "    line_track.line(x, y)\n",
    "    # Plot points\n",
    "    points_track = sector.add_track((45, 70), r_pad_ratio=0.1)\n",
    "    points_track.axis()\n",
    "    points_track.scatter(x, y)\n",
    "    # Plot bar\n",
    "    bar_track = sector.add_track((15, 40), r_pad_ratio=0.1)\n",
    "    bar_track.axis()\n",
    "    bar_track.bar(x, y)\n",
    "\n",
    "fig = circos.plotfig()\n",
    "fig"
   ]
  },
  {
   "attachments": {},
   "cell_type": "markdown",
   "metadata": {},
   "source": [
    "User can also plot more data in a complex circular layout as follows."
   ]
  },
  {
   "cell_type": "code",
   "execution_count": null,
   "metadata": {},
   "outputs": [],
   "source": [
    "import numpy as np\n",
    "\n",
    "from pycirclizely import Circos\n",
    "from pycirclizely.utils import ColorCycler\n",
    "\n",
    "np.random.seed(0)\n",
    "\n",
    "sectors = {\"A\": 200, \"B\": 140, \"C\": 160}\n",
    "sector_colors = {\"A\": \"red\", \"B\": \"blue\", \"C\": \"green\"}\n",
    "circos = Circos(sectors, space=10, start=90, end=360, endspace=False)\n",
    "\n",
    "for sector in circos.sectors:\n",
    "    # Outer Track\n",
    "    outer_track = sector.add_track((95, 100))\n",
    "    outer_track.text(sector.name, color=\"white\")\n",
    "    outer_track.axis(fc=sector_colors[sector.name])\n",
    "    outer_track.xticks_by_interval(interval=10, label_orientation=\"vertical\")\n",
    "    # Rectangle Track\n",
    "    rect_track = sector.add_track((90, 95))\n",
    "    rect_size = 10\n",
    "    for i in range(int(rect_track.size / rect_size)):\n",
    "        x1, x2 = i * rect_size, i * rect_size + rect_size\n",
    "        rect_track.rect(x1, x2, ec=\"black\", lw=0.5, color=ColorCycler())\n",
    "        rect_track.text(str(i + 1), (x1 + x2) / 2, size=8, color=\"white\")\n",
    "    # Generate random x, y plot data\n",
    "    x = np.arange(1, int(sector.size), 2)\n",
    "    y = np.random.randint(0, 10, len(x))\n",
    "    # Line Track\n",
    "    line_track = sector.add_track((80, 90), r_pad_ratio=0.1)\n",
    "    line_track.axis()\n",
    "    line_track.line(x, y, color=\"blue\")\n",
    "    # Scatter Track\n",
    "    scatter_track = sector.add_track((70, 80), r_pad_ratio=0.1)\n",
    "    scatter_track.axis()\n",
    "    scatter_track.bar(x, y, width=0.8, color=\"orange\")\n",
    "    # Bar Track\n",
    "    bar_track = sector.add_track((60, 70), r_pad_ratio=0.1)\n",
    "    bar_track.axis()\n",
    "    bar_track.scatter(x, y, color=\"green\", s=3)\n",
    "    # Fill Track\n",
    "    fill_track = sector.add_track((50, 60), r_pad_ratio=0.1)\n",
    "    fill_track.axis()\n",
    "    fill_track.fill_between(x, y, y2=0, fc=\"red\", ec=\"black\", lw=0.5, alpha=0.5)\n",
    "    # Line + Bar + Scatter Track\n",
    "    line_bar_scatter_track = sector.add_track((40, 50), r_pad_ratio=0.1)\n",
    "    line_bar_scatter_track.axis()\n",
    "    line_bar_scatter_track.line(x, y, color=\"blue\")\n",
    "    line_bar_scatter_track.bar(x, y, width=0.8, color=\"orange\")\n",
    "    line_bar_scatter_track.scatter(x, y, color=\"green\", s=3)\n",
    "\n",
    "# Plot text description\n",
    "text_common_kws = dict(ha=\"left\", va=\"center\", size=8)\n",
    "circos.text(\" 01. Outer Track\", r=97.5, color=\"black\", **text_common_kws)\n",
    "circos.text(\" 02. Rectangle Track\", r=92.5, color=\"grey\", **text_common_kws)\n",
    "circos.text(\" 03. Line Track\", r=85, color=\"blue\", **text_common_kws)\n",
    "circos.text(\" 04. Bar Track\", r=75, color=\"orange\", **text_common_kws)\n",
    "circos.text(\" 05. Scatter Track\", r=65, color=\"green\", **text_common_kws)\n",
    "circos.text(\" 06. Fill between Track\", r=55, color=\"red\", **text_common_kws)\n",
    "circos.text(\" 07. Line + Bar + Scatter Track\", r=45, color=\"purple\", **text_common_kws)\n",
    "\n",
    "fig = circos.plotfig()"
   ]
  },
  {
   "attachments": {},
   "cell_type": "markdown",
   "metadata": {},
   "source": [
    "## 3. Plot Link\n",
    "\n",
    "pyCirclize implements the function to plot links within or between data in a sector.\n",
    "This function enables user to visualize interrelationships such as networks and flows between data."
   ]
  },
  {
   "cell_type": "code",
   "execution_count": null,
   "metadata": {},
   "outputs": [],
   "source": [
    "from pycirclizely import Circos\n",
    "\n",
    "sectors = {\"A\": 10, \"B\": 20, \"C\": 15}\n",
    "name2color = {\"A\": \"red\", \"B\": \"blue\", \"C\": \"green\"}\n",
    "circos = Circos(sectors, space=5)\n",
    "for sector in circos.sectors:\n",
    "    track = sector.add_track((95, 100))\n",
    "    track.axis(fc=name2color[sector.name])\n",
    "    track.text(sector.name, color=\"white\", size=12)\n",
    "    track.xticks_by_interval(1)\n",
    "\n",
    "# Plot links\n",
    "circos.link((\"A\", 0, 1), (\"A\", 7, 8))\n",
    "circos.link((\"A\", 1, 2), (\"A\", 7, 6))\n",
    "circos.link((\"A\", 9, 10), (\"B\", 4, 3))\n",
    "circos.link((\"B\", 5, 7), (\"C\", 6, 8))\n",
    "circos.link((\"B\", 18, 16), (\"B\", 11, 13))\n",
    "circos.link((\"C\", 1, 3), (\"B\", 2, 0))\n",
    "circos.link((\"C\", 11.5, 14), (\"A\", 4, 3))\n",
    "\n",
    "fig = circos.plotfig()"
   ]
  },
  {
   "attachments": {},
   "cell_type": "markdown",
   "metadata": {},
   "source": [
    "User can freely set the plotting style of each link, such as color, texture, and direction."
   ]
  },
  {
   "cell_type": "code",
   "execution_count": null,
   "metadata": {},
   "outputs": [],
   "source": [
    "from pycirclizely import Circos\n",
    "\n",
    "sectors = {\"A\": 10, \"B\": 20, \"C\": 15}\n",
    "name2color = {\"A\": \"red\", \"B\": \"blue\", \"C\": \"green\"}\n",
    "circos = Circos(sectors, space=5)\n",
    "for sector in circos.sectors:\n",
    "    track = sector.add_track((95, 100))\n",
    "    track.axis(fc=name2color[sector.name])\n",
    "    track.text(sector.name, color=\"white\", size=12)\n",
    "    track.xticks_by_interval(1)\n",
    "\n",
    "# Plot links with various styles\n",
    "circos.link((\"A\", 0, 1), (\"A\", 7, 8))\n",
    "circos.link((\"A\", 1, 2), (\"A\", 7, 6), color=\"skyblue\")\n",
    "circos.link((\"A\", 9, 10), (\"B\", 4, 3), direction=1, color=\"tomato\")\n",
    "circos.link((\"B\", 5, 7), (\"C\", 6, 8), direction=1, ec=\"black\", lw=1, hatch=\"//\")\n",
    "circos.link(\n",
    "    (\"B\", 18, 16),\n",
    "    (\"B\", 11, 13),\n",
    "    r1=90,\n",
    "    r2=90,\n",
    "    color=\"violet\",\n",
    "    ec=\"red\",\n",
    "    lw=2,\n",
    "    ls=\"dashed\",\n",
    ")\n",
    "circos.link((\"C\", 1, 3), (\"B\", 2, 0), direction=1, color=\"limegreen\")\n",
    "circos.link(\n",
    "    (\"C\", 11.5, 14),\n",
    "    (\"A\", 4, 3),\n",
    "    direction=2,\n",
    "    color=\"chocolate\",\n",
    "    ec=\"black\",\n",
    "    lw=1,\n",
    "    ls=\"dotted\",\n",
    ")\n",
    "\n",
    "fig = circos.plotfig()"
   ]
  },
  {
   "attachments": {},
   "cell_type": "markdown",
   "metadata": {},
   "source": [
    "Of course, it is also possible to combine data plots to track with link plots."
   ]
  },
  {
   "cell_type": "code",
   "execution_count": null,
   "metadata": {},
   "outputs": [],
   "source": [
    "import numpy as np\n",
    "\n",
    "from pycirclizely import Circos\n",
    "\n",
    "np.random.seed(0)\n",
    "\n",
    "# Initialize Circos sectors\n",
    "sectors = {\"A\": 10, \"B\": 15, \"C\": 12, \"D\": 20, \"E\": 15}\n",
    "circos = Circos(sectors, space=5)\n",
    "\n",
    "for sector in circos.sectors:\n",
    "    # Plot sector name\n",
    "    sector.text(f\"Sector: {sector.name}\", r=110, size=15)\n",
    "    # Create x positions & randomized y values\n",
    "    x = np.arange(sector.start, sector.end) + 0.5\n",
    "    y = np.random.randint(0, 100, len(x))\n",
    "    # Plot line track\n",
    "    line_track = sector.add_track((80, 100), r_pad_ratio=0.1)\n",
    "    line_track.xticks_by_interval(interval=1)\n",
    "    line_track.axis()\n",
    "    line_track.line(x, y)\n",
    "    # Plot points track\n",
    "    points_track = sector.add_track((55, 75), r_pad_ratio=0.1)\n",
    "    points_track.axis()\n",
    "    points_track.scatter(x, y)\n",
    "    # Plot bar track\n",
    "    bar_track = sector.add_track((30, 50), r_pad_ratio=0.1)\n",
    "    bar_track.axis()\n",
    "    bar_track.bar(x, y)\n",
    "\n",
    "# Plot links\n",
    "circos.link((\"A\", 0, 3), (\"B\", 15, 12))\n",
    "circos.link((\"B\", 0, 3), (\"C\", 7, 11), color=\"skyblue\")\n",
    "circos.link((\"C\", 2, 5), (\"E\", 15, 12), color=\"chocolate\", direction=1)\n",
    "circos.link(\n",
    "    (\"D\", 3, 5),\n",
    "    (\"D\", 18, 15),\n",
    "    color=\"lime\",\n",
    "    ec=\"black\",\n",
    "    lw=0.5,\n",
    "    hatch=\"//\",\n",
    "    direction=2,\n",
    ")\n",
    "circos.link((\"D\", 8, 10), (\"E\", 2, 8), color=\"violet\", ec=\"red\", lw=1.0, ls=\"dashed\")\n",
    "\n",
    "fig = circos.plotfig()"
   ]
  },
  {
   "attachments": {},
   "cell_type": "markdown",
   "metadata": {},
   "source": [
    "## 4. What's Next ?\n",
    "\n",
    "pyCirclize implements a variety of plotting functions. \n",
    "Only a few of the plotting functions are introduced in this section.\n",
    "If you want to know more about what kind of plotting function is available, \n",
    "I recommend you to look at the [Plot API Example](../plot_api_example/) next.\n",
    "\n",
    "If you are interested in the contents of the following sections, you may want to look at them next.\n",
    "\n",
    "- [Chord Diagram](../chord_diagram/)\n",
    "- [Radar Chart](../radar_chart/)\n",
    "- [Circos Plot (Genomics)](../circos_plot/)\n",
    "- [Comparative Genomics](../comparative_genomics)\n",
    "- [Phylogenetic Tree](../phylogenetic_tree/)"
   ]
  }
 ],
 "metadata": {
  "kernelspec": {
   "display_name": "pyCirclizely-ydjMXGRu",
   "language": "python",
   "name": "python3"
  },
  "language_info": {
   "codemirror_mode": {
    "name": "ipython",
    "version": 3
   },
   "file_extension": ".py",
   "mimetype": "text/x-python",
   "name": "python",
   "nbconvert_exporter": "python",
   "pygments_lexer": "ipython3",
   "version": "3.12.9"
  }
 },
 "nbformat": 4,
 "nbformat_minor": 2
}
