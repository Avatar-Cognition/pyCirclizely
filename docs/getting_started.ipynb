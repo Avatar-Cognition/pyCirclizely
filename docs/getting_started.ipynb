{
 "cells": [
  {
   "cell_type": "markdown",
   "metadata": {},
   "source": [
    "[![Open In Colab](https://colab.research.google.com/assets/colab-badge.svg)](https://colab.research.google.com/github/moshi4/pyCirclize/blob/main/docs/getting_started.ipynb)"
   ]
  },
  {
   "cell_type": "code",
   "execution_count": 1,
   "metadata": {},
   "outputs": [],
   "source": [
    "# %pip install pycirclizely"
   ]
  },
  {
   "attachments": {},
   "cell_type": "markdown",
   "metadata": {},
   "source": [
    "## 1. Circular Layout Design\n",
    "\n",
    "pyCirclizely uses a circular layout design with **Sectors** and **Tracks** inspired by [circlize](https://jokergoo.github.io/circlize_book/book/introduction.html#principle-of-design) (R package).\n",
    "Different types of data can be assigned to each sector, and multiple tracks for data plotting can be freely placed within a sector."
   ]
  },
  {
   "attachments": {},
   "cell_type": "markdown",
   "metadata": {},
   "source": [
    "### 1-1. Set Sectors\n",
    "\n",
    "The size of each data is required to set the sectors in a circular layout, \n",
    "and the space size between sectors can also be set.  \n",
    "For example, if the data size of each sector is `A=10, B=15, C=12, D=20, E=15` and \n",
    "the space between sectors is `5 degrees`, it can be set up with the following code."
   ]
  },
  {
   "cell_type": "code",
   "execution_count": null,
   "metadata": {},
   "outputs": [],
   "source": [
    "from pycirclizely import Circos\n",
    "\n",
    "# Initialize circos sectors\n",
    "sectors = {\"A\": 10, \"B\": 15, \"C\": 12, \"D\": 20, \"E\": 15}\n",
    "circos = Circos(sectors, space=5)\n",
    "\n",
    "for sector in circos.sectors:\n",
    "    # Plot sector axis & name text\n",
    "    sector.axis(fillcolor=\"green\", line=dict(color=\"red\", dash=\"dashdot\", width=10), opacity=1)\n",
    "    sector.text(f\"Sector: {sector.name}={sector.size}\")\n",
    "\n",
    "fig = circos.plotfig()\n",
    "fig"
   ]
  },
  {
   "attachments": {},
   "cell_type": "markdown",
   "metadata": {},
   "source": [
    "From the data size of each sector and the space size between sectors, \n",
    "the appropriate circular layout of the sectors is set as shown in the figure above.\n",
    "\n",
    "In addition, user can freely set the start-end degrees of the circular layout \n",
    "in the range from -360 to 360. The following code is an example of setting `start=-270` and `end=30`."
   ]
  },
  {
   "cell_type": "code",
   "execution_count": null,
   "metadata": {},
   "outputs": [],
   "source": [
    "from pycirclizely import Circos\n",
    "\n",
    "# Initialize circos sectors\n",
    "sectors = {\"A\": 10, \"B\": 15, \"C\": 12, \"D\": 20, \"E\": 15}\n",
    "circos = Circos(sectors, space=5, start=-270, end=30)\n",
    "\n",
    "for sector in circos.sectors:\n",
    "    # Plot sector axis & name text\n",
    "    sector.axis(fillcolor=\"green\", line=dict(color=\"red\", dash=\"dashdot\", width=10), opacity=1)\n",
    "    sector.text(f\"Sector: {sector.name}={sector.size}\")\n",
    "\n",
    "fig = circos.plotfig()\n",
    "fig"
   ]
  },
  {
   "attachments": {},
   "cell_type": "markdown",
   "metadata": {},
   "source": [
    "### 1-2. Set Tracks\n",
    "\n",
    "User can freely place tracks within the sector radius range (0 - 100). \n",
    "The following code is an example of placing 3 tracks in each sector."
   ]
  },
  {
   "cell_type": "code",
   "execution_count": null,
   "metadata": {},
   "outputs": [],
   "source": [
    "from pycirclizely import Circos\n",
    "\n",
    "# Initialize circos sectors\n",
    "sectors = {\"A\": 10, \"B\": 15, \"C\": 12, \"D\": 20, \"E\": 15}\n",
    "circos = Circos(sectors, space=5)\n",
    "\n",
    "for sector in circos.sectors:\n",
    "    # Plot sector axis & name text\n",
    "    sector.axis(fillcolor=None, line=dict(color=\"black\", dash=\"dashdot\", width=2), opacity=0.5)\n",
    "    sector.text(f\"Sector: {sector.name}={sector.size}\", font=dict(size=20))\n",
    "    # Set Track01 (Radius: 75 - 100)\n",
    "    track1 = sector.add_track((75, 100))\n",
    "    track1.axis(fillcolor=\"tomato\", opacity=0.5)\n",
    "    track1.text(track1.name)\n",
    "    # Set Track02 (Radius: 45 - 70)\n",
    "    track2 = sector.add_track((45, 70))\n",
    "    track2.axis(fillcolor=\"cyan\", opacity=0.5)\n",
    "    track2.text(track2.name)\n",
    "    # Set Track03 (Radius: 15 - 40)\n",
    "    track3 = sector.add_track((15, 40))\n",
    "    track3.axis(fillcolor=\"lime\", opacity=0.5)\n",
    "    track3.text(track3.name)\n",
    "\n",
    "fig = circos.plotfig()\n",
    "fig"
   ]
  },
  {
   "attachments": {},
   "cell_type": "markdown",
   "metadata": {},
   "source": [
    "In the above figure example, the tracks are just placed, but in reality, \n",
    "various numerical and statistical data are plotted to the tracks.\n",
    "The next section explains how to plot within a track."
   ]
  },
  {
   "attachments": {},
   "cell_type": "markdown",
   "metadata": {},
   "source": [
    "## 2. Plot Data on Track\n",
    "\n",
    "Track has a variety of plotting functions. This section shows how to perform basic plotting on track.  \n",
    "\n",
    "Lines, Points, and Bars can be plotted with the `track.line()`, `track.scatter()`, and `track.bar()` methods, respectively.\n",
    "Also xticks can be plotted with the `track.xticks_by_interval()` method. Following is an example code."
   ]
  },
  {
   "cell_type": "code",
   "execution_count": 1,
   "metadata": {},
   "outputs": [
    {
     "data": {
      "application/vnd.plotly.v1+json": {
       "config": {
        "plotlyServerURL": "https://plot.ly"
       },
       "data": [
        {
         "hoverinfo": "text",
         "line": {
          "color": "#1f77b4",
          "width": 2
         },
         "marker": {
          "color": "#1f77b4",
          "opacity": 1,
          "size": 6
         },
         "mode": "lines",
         "showlegend": false,
         "text": [
          "Sector: A<br>Position: 0.5<br>Value: 44.00",
          null,
          null,
          null,
          null,
          null,
          null,
          null,
          null,
          null,
          null,
          "Sector: A<br>Position: 1.5<br>Value: 47.00",
          null,
          null,
          null,
          null,
          null,
          null,
          null,
          null,
          null,
          null,
          "Sector: A<br>Position: 2.5<br>Value: 64.00",
          null,
          null,
          null,
          null,
          null,
          null,
          null,
          null,
          null,
          null,
          "Sector: A<br>Position: 3.5<br>Value: 67.00",
          null,
          null,
          null,
          null,
          null,
          null,
          null,
          null,
          null,
          null,
          "Sector: A<br>Position: 4.5<br>Value: 67.00",
          null,
          null,
          null,
          null,
          null,
          null,
          null,
          null,
          null,
          null,
          "Sector: A<br>Position: 5.5<br>Value: 9.00",
          null,
          null,
          null,
          null,
          null,
          null,
          null,
          null,
          null,
          null,
          "Sector: A<br>Position: 6.5<br>Value: 83.00",
          null,
          null,
          null,
          null,
          null,
          null,
          null,
          null,
          null,
          null,
          "Sector: A<br>Position: 7.5<br>Value: 21.00",
          null,
          null,
          null,
          null,
          null,
          null,
          null,
          null,
          null,
          null,
          "Sector: A<br>Position: 8.5<br>Value: 36.00",
          null,
          null,
          null,
          null,
          null,
          null,
          null,
          null,
          null,
          null,
          "Sector: A<br>Position: 9.5<br>Value: 87.00"
         ],
         "type": "scatter",
         "x": [
          3.5570481082361067,
          4.206709143723541,
          4.857181110738838,
          5.508428161814585,
          6.160414350573269,
          6.8131036337112,
          7.466459872990592,
          8.120446837239932,
          8.775028204362664,
          9.430167563353725,
          10.085828416324025,
          10.74197418053289,
          11.44097395365921,
          12.14520225133944,
          12.854614921490144,
          13.569167210863515,
          14.288813767818452,
          15.013508645141428,
          15.74320530291724,
          16.47785661144923,
          17.217414854229155,
          17.961831730956142,
          18.711058360604643,
          19.396301798987515,
          20.081506578415542,
          20.766633722249324,
          21.451644202665864,
          22.13649894287752,
          22.821158819356672,
          23.505584664066113,
          24.189737266694674,
          24.873577376898215,
          25.55706570654586,
          26.24016293197123,
          26.90255223965993,
          27.563475373405144,
          28.222896313268375,
          28.880779121179863,
          29.53708794289709,
          30.19178700995901,
          30.8448406416352,
          31.496213246870607,
          32.14586932622514,
          32.79377347380844,
          33.43989037920937,
          33.58750142752625,
          33.71453140002134,
          33.821028021774296,
          33.9070411558383,
          33.97262279748881,
          34.017827068300576,
          34.04271021005379,
          34.04733057846941,
          34.03174863677459,
          33.996026949098564,
          33.94023017369948,
          35.22553262488193,
          36.532000656535274,
          37.85947926788954,
          39.20781105953832,
          40.576836246652285,
          41.96639267239066,
          43.37631582150997,
          44.806438834168745,
          46.256592519927246,
          47.72660537194142,
          49.21630358134965,
          49.09468417275649,
          48.95187676609687,
          48.787970684515315,
          48.60305740549187,
          48.397230551357936,
          48.170585879640846,
          47.923221273237594,
          47.65523673041908,
          47.366734354665006,
          47.0578183443307,
          46.72859498214654,
          47.42577926512823,
          48.12462748372025,
          48.82507921244654,
          49.527073708111004,
          50.230549914338006,
          50.935446466142366,
          51.64170169452865,
          52.349253631119296,
          53.05804001281143,
          53.767998286461925,
          54.4790656136003,
          55.73490953136268,
          57.00128338218304,
          58.27803382062676,
          59.56500620091823,
          60.86204459000506,
          62.168991780731815,
          63.48568930512316,
          64.81197744777475,
          66.14769525935115,
          67.49268057018983,
          68.84677000401022
         ],
         "y": [
          87.55708675067828,
          87.59889329233373,
          87.6358757909955,
          87.66802455344528,
          87.69533015304152,
          87.71778343065138,
          87.735375495568,
          87.74809772641281,
          87.75594177202312,
          87.75889955232451,
          87.75696325918827,
          87.75012535727372,
          88.06478913453094,
          88.37389315870455,
          88.67737740278392,
          88.97518218982098,
          89.26724819853358,
          89.55351646888681,
          89.83392840765221,
          90.10842579394398,
          90.37695078473219,
          90.63944592033228,
          90.89585412987051,
          90.82422367791123,
          90.74742586265475,
          90.66545735709663,
          90.57831512829496,
          90.48599643794424,
          90.38849884293286,
          90.28582019588345,
          90.17795864567658,
          90.06491263795755,
          89.94668091562612,
          89.82326251930932,
          89.62710150005702,
          89.42605585425785,
          89.22013653878624,
          89.00935477612889,
          88.79372205377315,
          88.57325012358092,
          88.34795100114822,
          88.1178369651503,
          87.88292055667253,
          87.64321457852681,
          87.39873209455396,
          85.8795219685766,
          84.36296481171638,
          82.84928149846172,
          81.33869233948145,
          79.83141706210706,
          78.3276747908694,
          76.82768402809123,
          75.33166263453727,
          73.83982781012263,
          72.35239607468192,
          70.86958324879977,
          72.18065039828168,
          73.47651765128542,
          74.75694426724522,
          76.02169097036824,
          77.27051997191228,
          78.50319499234786,
          79.71948128340333,
          80.91914564999068,
          82.1019564720111,
          83.26768372603799,
          84.4160990068762,
          82.79663742015957,
          81.1836404638876,
          79.57733241062846,
          77.9779365627366,
          76.38567523278428,
          74.80076972408014,
          73.2234403112767,
          71.6539062210682,
          70.09238561298008,
          68.53909556025157,
          66.99425203081314,
          66.93521675836999,
          66.86952327313466,
          66.79714387275419,
          66.71805138501774,
          66.63221917103327,
          66.53962112836616,
          66.44023169413919,
          66.33402584809397,
          66.2209791156133,
          66.10106757070434,
          65.97426783894225,
          66.48920295367776,
          66.98914145740292,
          67.47395625433097,
          67.94352169817175,
          68.397713604387,
          68.83640926233168,
          69.25948744728026,
          69.66682843233707,
          70.05831400022971,
          70.43382745498478,
          70.79325363348487
         ]
        },
        {
         "hoverinfo": "text",
         "line": {
          "color": "#1f77b4",
          "width": 2
         },
         "marker": {
          "color": "#1f77b4",
          "opacity": 1,
          "size": 6
         },
         "mode": "markers",
         "showlegend": false,
         "text": [
          "Sector: A<br>Position: 0.5<br>Value: 44.00",
          "Sector: A<br>Position: 1.5<br>Value: 47.00",
          "Sector: A<br>Position: 2.5<br>Value: 64.00",
          "Sector: A<br>Position: 3.5<br>Value: 67.00",
          "Sector: A<br>Position: 4.5<br>Value: 67.00",
          "Sector: A<br>Position: 5.5<br>Value: 9.00",
          "Sector: A<br>Position: 6.5<br>Value: 83.00",
          "Sector: A<br>Position: 7.5<br>Value: 21.00",
          "Sector: A<br>Position: 8.5<br>Value: 36.00",
          "Sector: A<br>Position: 9.5<br>Value: 87.00"
         ],
         "type": "scatter",
         "x": [
          2.3392884017273365,
          7.0967211187820896,
          12.66233721848628,
          17.827839854747843,
          22.71940963119937,
          20.982248714075318,
          34.106225375518434,
          29.56600811799139,
          35.37708593245883,
          47.93129557241218
         ],
         "y": [
          57.581812585173076,
          57.97241338815498,
          61.51196445295928,
          61.02685961123042,
          59.37960840141276,
          43.812408294787346,
          58.499202267226515,
          42.38844759099999,
          42.84172858659777,
          49.286442403059084
         ]
        },
        {
         "hoverinfo": "text",
         "line": {
          "color": "#1f77b4",
          "width": 2
         },
         "marker": {
          "color": "#1f77b4",
          "opacity": 1,
          "size": 6
         },
         "mode": "lines",
         "showlegend": false,
         "text": [
          "Sector: B<br>Position: 0.5<br>Value: 70.00",
          null,
          null,
          null,
          null,
          null,
          null,
          "Sector: B<br>Position: 1.5<br>Value: 88.00",
          null,
          null,
          null,
          null,
          null,
          null,
          "Sector: B<br>Position: 2.5<br>Value: 88.00",
          null,
          null,
          null,
          null,
          null,
          null,
          "Sector: B<br>Position: 3.5<br>Value: 12.00",
          null,
          null,
          null,
          null,
          null,
          null,
          "Sector: B<br>Position: 4.5<br>Value: 58.00",
          null,
          null,
          null,
          null,
          null,
          null,
          "Sector: B<br>Position: 5.5<br>Value: 65.00",
          null,
          null,
          null,
          null,
          null,
          null,
          "Sector: B<br>Position: 6.5<br>Value: 39.00",
          null,
          null,
          null,
          null,
          null,
          null,
          "Sector: B<br>Position: 7.5<br>Value: 87.00",
          null,
          null,
          null,
          null,
          null,
          null,
          "Sector: B<br>Position: 8.5<br>Value: 46.00",
          null,
          null,
          null,
          null,
          null,
          null,
          "Sector: B<br>Position: 9.5<br>Value: 88.00",
          null,
          null,
          null,
          null,
          null,
          null,
          "Sector: B<br>Position: 10.5<br>Value: 81.00",
          null,
          null,
          null,
          null,
          null,
          null,
          "Sector: B<br>Position: 11.5<br>Value: 37.00",
          null,
          null,
          null,
          null,
          null,
          null,
          "Sector: B<br>Position: 12.5<br>Value: 25.00",
          null,
          null,
          null,
          null,
          null,
          null,
          "Sector: B<br>Position: 13.5<br>Value: 77.00",
          null,
          null,
          null,
          null,
          null,
          null,
          null,
          "Sector: B<br>Position: 14.5<br>Value: 72.00"
         ],
         "type": "scatter",
         "x": [
          76.02601288119712,
          77.18863151234534,
          78.34974841627934,
          79.5090701361403,
          80.66630232597902,
          81.8211498082275,
          82.97331663142663,
          84.12250612819902,
          84.74976200522808,
          85.32622135615928,
          85.89142836882723,
          86.4453085069359,
          86.98778872791324,
          87.51879749254361,
          88.03826477440202,
          86.43413171112746,
          84.44068116807023,
          82.4088072269332,
          80.33943313285538,
          78.23349058843257,
          76.09191954397032,
          73.9156679861971,
          74.92663958648998,
          76.81621012540356,
          78.70934773732208,
          80.60539237439234,
          82.50368185321562,
          84.4035519965237,
          86.304336775342,
          87.24248165499121,
          87.78705566607206,
          88.3216947033438,
          88.84626411913122,
          89.36063038562001,
          89.86466112095168,
          90.35822511519397,
          90.09221023054215,
          89.39463847250175,
          88.68086225289885,
          87.95121868856425,
          87.20604753908513,
          86.44569112988293,
          85.67049427488466,
          86.39539069202583,
          88.24840580195436,
          90.09477568867729,
          91.93380240825013,
          93.76478838665498,
          95.58703657180295,
          97.39985058553789,
          97.59613092407746,
          96.17236078900535,
          94.7343697833148,
          93.28273822145937,
          91.81804836806073,
          90.3408843095825,
          88.85183182575025,
          88.63727384403137,
          90.12494798183069,
          91.59950980351981,
          93.06036466694516,
          94.5069199521528,
          95.93858519228559,
          97.35477220416118,
          98.12557228950149,
          97.74997055355321,
          97.36214845485779,
          96.96222340000959,
          96.55031429453199,
          96.12654151847136,
          95.69102690181016,
          94.86814809747725,
          93.09814607328265,
          91.32298124143075,
          89.5432987870988,
          87.75974349879768,
          85.97295962925986,
          84.1835907565363,
          82.6315674639916,
          81.95131949890684,
          81.26298316522417,
          80.56675914835748,
          79.8628488008552,
          79.1514541014016,
          78.4327776137868,
          78.01809355994388,
          79.45251896106782,
          80.8613868328238,
          82.24404772073748,
          83.59985767614408,
          84.92817840198329,
          86.22837739757068,
          87.36575218087319,
          86.74137392735278,
          86.10731442888176,
          85.46370038280014,
          84.81065950896863,
          84.14832052727574,
          83.47681313504492,
          82.79626798434565
         ],
         "y": [
          55.53233216791715,
          55.033453030561915,
          54.515145574818455,
          53.977379307195086,
          53.42012791837153,
          52.84336929949023,
          52.24708555767855,
          51.631263030798365,
          50.685701534626105,
          49.70913848659728,
          48.72602007924124,
          47.7364759606391,
          46.740636626258414,
          45.738633401744096,
          44.730598425599936,
          42.67394054597545,
          40.49042727913354,
          38.3584817357272,
          36.27869467130556,
          34.25164241760273,
          32.27788676670028,
          30.35797485810728,
          29.772290897346632,
          29.50629643974128,
          29.200751898462382,
          28.855542627385397,
          28.47056393407952,
          28.045721113423685,
          27.580929479280012,
          26.78054017337754,
          25.848417407421763,
          24.907309685832317,
          23.95732262970527,
          22.99856376889033,
          22.031142530150955,
          21.055170224976877,
          19.90527739502567,
          18.677134913570942,
          17.467663863858867,
          16.277073056957967,
          15.105566020520655,
          13.953340965808547,
          12.820590755787968,
          11.916407889871286,
          11.140880378767,
          10.32433759901756,
          9.466832508282344,
          8.568428688426566,
          7.629200343664158,
          6.649232296610686,
          5.537474757050109,
          4.349393047320082,
          3.1947500513519684,
          2.0737134581673984,
          0.9864420375848602,
          -0.06691438215972971,
          -1.0862149350215298,
          -2.101817249238558,
          -3.1729728721502153,
          -4.278565934179128,
          -5.418434245760458,
          -6.592406502870379,
          -7.800302312384093,
          -9.041932219237772,
          -10.251351261240833,
          -11.3483093711472,
          -12.437996800996132,
          -13.520277927648745,
          -14.595018865061578,
          -15.66208748077686,
          -16.721353412081914,
          -17.702573252136922,
          -18.48105190695505,
          -19.221254412651824,
          -19.923167217156603,
          -20.586786532982366,
          -21.21211832601787,
          -21.799178302413143,
          -22.412896060005316,
          -23.241931434108672,
          -24.058314897398922,
          -24.861970644458815,
          -25.652825808394855,
          -26.43081046607966,
          -27.195857642840522,
          -28.059782335343726,
          -29.610436951044118,
          -31.19764969430331,
          -32.82103541633582,
          -34.48019888522825,
          -36.17473486194899,
          -37.9042281783755,
          -39.607470181539014,
          -40.531587732823844,
          -41.44659853297255,
          -42.35240234825002,
          -43.24890065245987,
          -44.135996637177946,
          -45.01359522169468,
          -45.88160306266506
         ]
        },
        {
         "hoverinfo": "text",
         "line": {
          "color": "#1f77b4",
          "width": 2
         },
         "marker": {
          "color": "#1f77b4",
          "opacity": 1,
          "size": 6
         },
         "mode": "markers",
         "showlegend": false,
         "text": [
          "Sector: B<br>Position: 0.5<br>Value: 70.00",
          "Sector: B<br>Position: 1.5<br>Value: 88.00",
          "Sector: B<br>Position: 2.5<br>Value: 88.00",
          "Sector: B<br>Position: 3.5<br>Value: 12.00",
          "Sector: B<br>Position: 4.5<br>Value: 58.00",
          "Sector: B<br>Position: 5.5<br>Value: 65.00",
          "Sector: B<br>Position: 6.5<br>Value: 39.00",
          "Sector: B<br>Position: 7.5<br>Value: 87.00",
          "Sector: B<br>Position: 8.5<br>Value: 46.00",
          "Sector: B<br>Position: 9.5<br>Value: 88.00",
          "Sector: B<br>Position: 10.5<br>Value: 81.00",
          "Sector: B<br>Position: 11.5<br>Value: 37.00",
          "Sector: B<br>Position: 12.5<br>Value: 25.00",
          "Sector: B<br>Position: 13.5<br>Value: 77.00",
          "Sector: B<br>Position: 14.5<br>Value: 72.00"
         ],
         "type": "scatter",
         "x": [
          51.80046381585488,
          58.6233647109216,
          61.34346900746515,
          45.66631815497815,
          58.24145644777765,
          61.28699164354995,
          55.64270511760644,
          68.36092680764789,
          58.00112685440961,
          68.40658562950617,
          65.86397510735661,
          53.803199349811514,
          49.56480547682208,
          60.0765638904592,
          56.55591414536936
         ],
         "y": [
          37.83705673963697,
          35.91467123572583,
          31.040961810648874,
          18.62445822083297,
          18.402272244902345,
          14.016269972076513,
          8.04715176595221,
          4.272623221342938,
          -1.0897681262990315,
          -6.863056353625613,
          -12.06684795101021,
          -14.451476135792058,
          -17.73457097544841,
          -27.176467345215663,
          -31.34049476909534
         ]
        },
        {
         "hoverinfo": "text",
         "line": {
          "color": "#1f77b4",
          "width": 2
         },
         "marker": {
          "color": "#1f77b4",
          "opacity": 1,
          "size": 6
         },
         "mode": "lines",
         "showlegend": false,
         "text": [
          "Sector: C<br>Position: 0.5<br>Value: 9.00",
          null,
          null,
          null,
          null,
          null,
          null,
          null,
          null,
          "Sector: C<br>Position: 1.5<br>Value: 20.00",
          null,
          null,
          null,
          null,
          null,
          null,
          null,
          null,
          "Sector: C<br>Position: 2.5<br>Value: 80.00",
          null,
          null,
          null,
          null,
          null,
          null,
          null,
          null,
          "Sector: C<br>Position: 3.5<br>Value: 69.00",
          null,
          null,
          null,
          null,
          null,
          null,
          null,
          null,
          "Sector: C<br>Position: 4.5<br>Value: 79.00",
          null,
          null,
          null,
          null,
          null,
          null,
          null,
          null,
          "Sector: C<br>Position: 5.5<br>Value: 47.00",
          null,
          null,
          null,
          null,
          null,
          null,
          null,
          null,
          "Sector: C<br>Position: 6.5<br>Value: 64.00",
          null,
          null,
          null,
          null,
          null,
          null,
          null,
          null,
          "Sector: C<br>Position: 7.5<br>Value: 82.00",
          null,
          null,
          null,
          null,
          null,
          null,
          null,
          null,
          "Sector: C<br>Position: 8.5<br>Value: 99.00",
          null,
          null,
          null,
          null,
          null,
          null,
          null,
          null,
          "Sector: C<br>Position: 9.5<br>Value: 88.00",
          null,
          null,
          null,
          null,
          null,
          null,
          null,
          null,
          "Sector: C<br>Position: 10.5<br>Value: 49.00",
          null,
          null,
          null,
          null,
          null,
          null,
          null,
          null,
          "Sector: C<br>Position: 11.5<br>Value: 29.00"
         ],
         "type": "scatter",
         "x": [
          61.15040630675667,
          60.922115782905685,
          60.68569980422821,
          60.441142678862235,
          60.18842963830388,
          59.92754684143289,
          59.658481378441294,
          59.38122127466463,
          59.09575549431513,
          58.802073944116145,
          59.39302161369037,
          59.96020412744561,
          60.5033980685951,
          61.02238352887752,
          61.51694414076338,
          61.98686710924537,
          62.43194324320856,
          62.85196698637742,
          63.246736447835666,
          62.42728127954761,
          61.60649617708278,
          60.78447779776927,
          59.96132259141547,
          59.13712679005387,
          58.3119863977282,
          57.48599718032416,
          56.659254655445274,
          55.831854082335134,
          55.322138612609166,
          54.80427407850556,
          54.27827811396693,
          53.74416931369405,
          53.201967233604314,
          52.6516923911878,
          52.093366265760174,
          51.52701129861242,
          50.952650893057616,
          49.804729145585405,
          48.66508857307858,
          47.53389161733316,
          46.41129902275991,
          45.29746981770852,
          44.19256129601471,
          43.09672899877089,
          42.010126696323915,
          40.93290637050029,
          40.43797752609166,
          39.93288956695543,
          39.417651538408116,
          38.89227387377691,
          38.356768396116124,
          37.81114831976418,
          37.25542825174136,
          36.6896241929877,
          36.11375353944113,
          35.53766977778756,
          34.951137883255925,
          34.35417709099116,
          33.74680810256837,
          33.12905308657868,
          32.5009356790454,
          31.862480983669816,
          31.213715571907013,
          30.554667482870972,
          29.877450618189375,
          29.190444931371868,
          28.493684742598806,
          27.787205766853887,
          27.071045112727266,
          26.345241281055714,
          25.609834163400386,
          24.864865040362318,
          24.110376579734922,
          23.179971189843716,
          22.252550467025312,
          21.32820036321573,
          20.40700618288695,
          19.489052575284145,
          18.574423526747967,
          17.66320235312397,
          16.755471692258688,
          15.851313496583787,
          14.84065966314611,
          13.8463528189936,
          12.868498179080074,
          11.907198187753783,
          10.962552508557962,
          10.034658014374688,
          9.123608777912464,
          8.229496062539242,
          7.352408313460525,
          6.52848439835645,
          5.713117153973683,
          4.906378770713895,
          4.108339996116793,
          3.319070128687984,
          2.5386370119045254,
          1.7671070283998662,
          1.0045450943276772,
          0.25101465390546707
         ],
         "y": [
          -48.895869058622054,
          -49.62105043481926,
          -50.34607862803909,
          -51.07086589083472,
          -51.79532418129474,
          -52.51936517257475,
          -53.24290026247762,
          -53.965840583080976,
          -54.68809701041167,
          -55.40958017416582,
          -56.986883172007154,
          -58.57927580761586,
          -60.18645683719829,
          -61.80812222077497,
          -63.443965161033724,
          -65.09367614253591,
          -66.75694297127038,
          -68.43345081455242,
          -70.12288224126262,
          -70.48274878613857,
          -70.83355358485213,
          -71.17530207020229,
          -71.50800068009822,
          -71.83165685424592,
          -72.14627903073158,
          -72.45187664250261,
          -72.74846011374633,
          -73.03604085616713,
          -73.73882392436317,
          -74.43833847797417,
          -75.13449456697647,
          -75.8272022948112,
          -76.51637182840764,
          -77.20191340821877,
          -77.88373735826876,
          -78.5617540962107,
          -79.23587414339364,
          -79.00878788586243,
          -78.76749314265572,
          -78.5121211791267,
          -78.24280503068223,
          -77.95967948281393,
          -77.66288105093686,
          -77.35254796003777,
          -77.02882012413596,
          -76.69183912555853,
          -77.4385802308333,
          -78.18260274773878,
          -78.9237839983727,
          -79.66200124926779,
          -80.39713172646307,
          -81.12905263060183,
          -81.85764115205382,
          -82.58277448606081,
          -83.3043298479029,
          -84.04544322427556,
          -84.78290875931557,
          -85.51659811750527,
          -86.24638301624188,
          -86.9721352418624,
          -87.69372666568277,
          -88.41102926005034,
          -89.12391511440721,
          -89.83225645136282,
          -90.51194579225357,
          -91.18669463523162,
          -91.85638157290076,
          -92.52088541768435,
          -93.18008521711884,
          -93.8338602691436,
          -94.48209013738523,
          -95.12465466643415,
          -95.76143399711269,
          -95.70510689101565,
          -95.63980822578836,
          -95.56558732293564,
          -95.4824943228255,
          -95.39058017701713,
          -95.28989664051537,
          -95.18049626395288,
          -95.06243238570096,
          -94.93575912390979,
          -94.10209303712347,
          -93.25799726081253,
          -92.4036990247576,
          -91.53942660184164,
          -90.66540927654354,
          -89.78187731333338,
          -88.88906192497237,
          -87.98719524072195,
          -87.07651027446457,
          -86.6356823882729,
          -86.18711642505545,
          -85.73093093233327,
          -85.26724512702945,
          -84.79617887908158,
          -84.31785269499667,
          -83.83238770135249,
          -83.33990562824508,
          -82.8405287926857
         ]
        },
        {
         "hoverinfo": "text",
         "line": {
          "color": "#1f77b4",
          "width": 2
         },
         "marker": {
          "color": "#1f77b4",
          "opacity": 1,
          "size": 6
         },
         "mode": "markers",
         "showlegend": false,
         "text": [
          "Sector: C<br>Position: 0.5<br>Value: 9.00",
          "Sector: C<br>Position: 1.5<br>Value: 20.00",
          "Sector: C<br>Position: 2.5<br>Value: 80.00",
          "Sector: C<br>Position: 3.5<br>Value: 69.00",
          "Sector: C<br>Position: 4.5<br>Value: 79.00",
          "Sector: C<br>Position: 5.5<br>Value: 47.00",
          "Sector: C<br>Position: 6.5<br>Value: 64.00",
          "Sector: C<br>Position: 7.5<br>Value: 82.00",
          "Sector: C<br>Position: 8.5<br>Value: 99.00",
          "Sector: C<br>Position: 9.5<br>Value: 88.00",
          "Sector: C<br>Position: 10.5<br>Value: 49.00",
          "Sector: C<br>Position: 11.5<br>Value: 29.00"
         ],
         "type": "scatter",
         "x": [
          37.71977166962494,
          36.968392479634204,
          43.153910428306645,
          37.61231208266087,
          34.72647497536496,
          26.807040642641365,
          24.181299303630794,
          20.894269620023145,
          16.7857052137395,
          10.910644354791438,
          4.8283045491515795,
          0.1601122277997835
         ],
         "y": [
          -30.16073200277848,
          -34.835558843673866,
          -47.84557669169182,
          -49.20227721459961,
          -54.00273690110664,
          -50.22563581948343,
          -55.77949495447816,
          -61.43020171703973,
          -66.66935278279998,
          -65.34539264373012,
          -57.1828838603441,
          -52.84066651385302
         ]
        },
        {
         "hoverinfo": "text",
         "line": {
          "color": "#1f77b4",
          "width": 2
         },
         "marker": {
          "color": "#1f77b4",
          "opacity": 1,
          "size": 6
         },
         "mode": "lines",
         "showlegend": false,
         "text": [
          "Sector: D<br>Position: 0.5<br>Value: 19.00",
          null,
          null,
          null,
          null,
          "Sector: D<br>Position: 1.5<br>Value: 19.00",
          null,
          null,
          null,
          null,
          "Sector: D<br>Position: 2.5<br>Value: 14.00",
          null,
          null,
          null,
          null,
          "Sector: D<br>Position: 3.5<br>Value: 39.00",
          null,
          null,
          null,
          null,
          "Sector: D<br>Position: 4.5<br>Value: 32.00",
          null,
          null,
          null,
          null,
          null,
          "Sector: D<br>Position: 5.5<br>Value: 65.00",
          null,
          null,
          null,
          null,
          "Sector: D<br>Position: 6.5<br>Value: 9.00",
          null,
          null,
          null,
          null,
          "Sector: D<br>Position: 7.5<br>Value: 57.00",
          null,
          null,
          null,
          null,
          "Sector: D<br>Position: 8.5<br>Value: 32.00",
          null,
          null,
          null,
          null,
          "Sector: D<br>Position: 9.5<br>Value: 31.00",
          null,
          null,
          null,
          null,
          null,
          "Sector: D<br>Position: 10.5<br>Value: 74.00",
          null,
          null,
          null,
          null,
          "Sector: D<br>Position: 11.5<br>Value: 23.00",
          null,
          null,
          null,
          null,
          "Sector: D<br>Position: 12.5<br>Value: 35.00",
          null,
          null,
          null,
          null,
          "Sector: D<br>Position: 13.5<br>Value: 75.00",
          null,
          null,
          null,
          null,
          "Sector: D<br>Position: 14.5<br>Value: 55.00",
          null,
          null,
          null,
          null,
          null,
          "Sector: D<br>Position: 15.5<br>Value: 28.00",
          null,
          null,
          null,
          null,
          "Sector: D<br>Position: 16.5<br>Value: 34.00",
          null,
          null,
          null,
          null,
          "Sector: D<br>Position: 17.5<br>Value: 0.00",
          null,
          null,
          null,
          null,
          "Sector: D<br>Position: 18.5<br>Value: 0.00",
          null,
          null,
          null,
          null,
          null,
          "Sector: D<br>Position: 19.5<br>Value: 36.00"
         ],
         "type": "scatter",
         "x": [
          -13.496261205662757,
          -14.754326282424763,
          -16.008807699495197,
          -17.25940075746583,
          -18.505801701366924,
          -19.74770779444618,
          -20.926619994751274,
          -22.077171274357585,
          -23.21372344081009,
          -24.336039397281585,
          -25.44388759308295,
          -26.86758442496741,
          -28.556766085201456,
          -30.281117835576378,
          -32.039974371599754,
          -33.832651840698915,
          -35.38488975883196,
          -36.464732959007115,
          -37.52430290901042,
          -38.56342531808497,
          -39.58193361468479,
          -40.75168049140429,
          -42.85435982841417,
          -44.9983636102108,
          -47.18271560952365,
          -49.40641734415137,
          -51.668448433135865,
          -51.28207779883721,
          -50.65384996348229,
          -49.93047969970103,
          -49.11303944820616,
          -48.20264440114601,
          -49.920088650574094,
          -52.64508041052553,
          -55.42427843528301,
          -58.25615570373478,
          -61.13915633462747,
          -62.57667969138156,
          -62.64345372124781,
          -62.662421364803436,
          -62.634062475075105,
          -62.5588761984876,
          -62.756430531820385,
          -63.61865643858958,
          -64.46422641344414,
          -65.29295596645952,
          -66.10466498534583,
          -67.10772300666665,
          -69.89297726279753,
          -72.70840085267034,
          -75.55235216763535,
          -78.42317145148836,
          -81.3191814389648,
          -80.18644689500053,
          -78.51231358685317,
          -76.77020344755826,
          -74.96175116501502,
          -73.08861912558807,
          -73.3288041024934,
          -74.5572765166761,
          -75.77769544734237,
          -76.98946647445692,
          -78.19199490844083,
          -80.0808611523875,
          -82.7477757251824,
          -85.423067466101,
          -88.10505621326958,
          -90.79205351203107,
          -92.6270156907176,
          -92.04607717393179,
          -91.43115184274428,
          -90.78291963575231,
          -90.10207127730796,
          -89.3688510891436,
          -88.23450450670339,
          -87.06664250514366,
          -85.86628146865115,
          -84.63444843222048,
          -83.37218065355873,
          -83.65632801057087,
          -84.2166388286974,
          -84.75819440353422,
          -85.28069729174517,
          -85.7838543050557,
          -84.81955785020492,
          -82.98561030845417,
          -81.12659247677594,
          -79.24390428603175,
          -77.33895237955164,
          -76.23725418623988,
          -76.24972216552246,
          -76.24366994601147,
          -76.21909899772288,
          -76.17601528866335,
          -76.55001707540472,
          -78.5363508423062,
          -80.49875367897522,
          -82.43574555384855,
          -84.34585403041712,
          -86.22761486822907
         ],
         "y": [
          -80.83101776835748,
          -80.61086996151171,
          -80.37114268218777,
          -80.111894157442,
          -79.83318735582142,
          -79.53508997206937,
          -78.9979792683828,
          -78.38515839285465,
          -77.75573120365151,
          -77.10998488586667,
          -76.44820996486392,
          -76.71449136209547,
          -77.63736676493545,
          -78.5258973177112,
          -79.37921288663868,
          -80.1964558119494,
          -80.3555576152456,
          -79.4280706302195,
          -78.48653262033609,
          -77.5313495556247,
          -76.56292940426667,
          -75.90206214014538,
          -76.91752949553697,
          -77.88549141145131,
          -78.80491004823753,
          -79.67476655262654,
          -80.4940614984259,
          -77.21784631820834,
          -73.75151037311691,
          -70.32415643907684,
          -66.9379010722669,
          -63.594836715338225,
          -63.77127757980198,
          -65.13492157490712,
          -66.42859803418804,
          -67.6509552648153,
          -68.80067230028334,
          -68.24599758147947,
          -66.216860687434,
          -64.20247268047079,
          -62.20382699997092,
          -60.221905650426685,
          -58.55537071269804,
          -57.5316192749814,
          -56.495225084609196,
          -55.446458467010125,
          -54.38559242492693,
          -53.47909521812256,
          -53.9393523642461,
          -54.32541847396274,
          -54.63647245934509,
          -54.87172646674126,
          -55.0304262411461,
          -52.46073575864826,
          -49.63560380237571,
          -46.87577586153122,
          -44.18267506045213,
          -41.557689343500584,
          -40.19511171059337,
          -39.370062170072885,
          -38.51640716141258,
          -37.634199629200836,
          -36.72350411592573,
          -36.09821307224779,
          -35.75941025790453,
          -35.34602878449559,
          -34.85773328339948,
          -34.2942226923052,
          -33.34729084569863,
          -31.526578502863355,
          -29.732163643006707,
          -27.96465923020061,
          -26.224663401980777,
          -24.507149497525663,
          -22.7237088931693,
          -20.981671223816292,
          -19.281642238345007,
          -17.624206040948945,
          -16.009924907684923,
          -14.716549221127224,
          -13.46556967642988,
          -12.20068713543098,
          -10.922183621124717,
          -9.630347053488315,
          -8.185745440079419,
          -6.7052300015296105,
          -5.283903080718872,
          -3.9221790981729825,
          -2.620443208929035,
          -1.3941212797488918,
          -0.20583896772478003,
          0.9824933402664442,
          2.1705870116900394,
          3.3581534719736026,
          4.570913860908845,
          5.919121319980376,
          7.33031286577848,
          8.804062244550904,
          10.339912380908078,
          11.937375512915779
         ]
        },
        {
         "hoverinfo": "text",
         "line": {
          "color": "#1f77b4",
          "width": 2
         },
         "marker": {
          "color": "#1f77b4",
          "opacity": 1,
          "size": 6
         },
         "mode": "markers",
         "showlegend": false,
         "text": [
          "Sector: D<br>Position: 0.5<br>Value: 19.00",
          "Sector: D<br>Position: 1.5<br>Value: 19.00",
          "Sector: D<br>Position: 2.5<br>Value: 14.00",
          "Sector: D<br>Position: 3.5<br>Value: 39.00",
          "Sector: D<br>Position: 4.5<br>Value: 32.00",
          "Sector: D<br>Position: 5.5<br>Value: 65.00",
          "Sector: D<br>Position: 6.5<br>Value: 9.00",
          "Sector: D<br>Position: 7.5<br>Value: 57.00",
          "Sector: D<br>Position: 8.5<br>Value: 32.00",
          "Sector: D<br>Position: 9.5<br>Value: 31.00",
          "Sector: D<br>Position: 10.5<br>Value: 74.00",
          "Sector: D<br>Position: 11.5<br>Value: 23.00",
          "Sector: D<br>Position: 12.5<br>Value: 35.00",
          "Sector: D<br>Position: 13.5<br>Value: 75.00",
          "Sector: D<br>Position: 14.5<br>Value: 55.00",
          "Sector: D<br>Position: 15.5<br>Value: 28.00",
          "Sector: D<br>Position: 16.5<br>Value: 34.00",
          "Sector: D<br>Position: 17.5<br>Value: 0.00",
          "Sector: D<br>Position: 18.5<br>Value: 0.00",
          "Sector: D<br>Position: 19.5<br>Value: 36.00"
         ],
         "type": "scatter",
         "x": [
          -8.555592063870412,
          -12.68388924878206,
          -16.245569072689094,
          -23.049524098840294,
          -26.297653363364045,
          -35.56236888627642,
          -29.728219362801827,
          -42.42935094457211,
          -40.64703699304388,
          -43.38572513642226,
          -56.75226069809366,
          -46.332185396806224,
          -51.56301143034633,
          -64.58960600045992,
          -60.50223480817002,
          -53.694617161532044,
          -56.13284415589163,
          -46.23572431779472,
          -46.17656511192787,
          -56.51103306412944
         ],
         "y": [
          -51.24065128817781,
          -50.37778730278485,
          -47.76278871155335,
          -53.168806069132124,
          -49.271248488143144,
          -55.302625789345655,
          -38.88875767515767,
          -47.042243552177,
          -38.301969710265844,
          -34.691228781737,
          -38.26987595558176,
          -26.04325433497081,
          -23.70270769836167,
          -23.553031582056484,
          -16.64458119680574,
          -10.17401532712177,
          -5.975475459775831,
          -1.1490416915352584,
          2.605251324514794,
          7.8234034808942585
         ]
        },
        {
         "hoverinfo": "text",
         "line": {
          "color": "#1f77b4",
          "width": 2
         },
         "marker": {
          "color": "#1f77b4",
          "opacity": 1,
          "size": 6
         },
         "mode": "lines",
         "showlegend": false,
         "text": [
          "Sector: E<br>Position: 0.5<br>Value: 53.00",
          null,
          null,
          null,
          null,
          null,
          null,
          "Sector: E<br>Position: 1.5<br>Value: 5.00",
          null,
          null,
          null,
          null,
          null,
          null,
          "Sector: E<br>Position: 2.5<br>Value: 38.00",
          null,
          null,
          null,
          null,
          null,
          null,
          "Sector: E<br>Position: 3.5<br>Value: 17.00",
          null,
          null,
          null,
          null,
          null,
          null,
          "Sector: E<br>Position: 4.5<br>Value: 79.00",
          null,
          null,
          null,
          null,
          null,
          null,
          "Sector: E<br>Position: 5.5<br>Value: 4.00",
          null,
          null,
          null,
          null,
          null,
          null,
          "Sector: E<br>Position: 6.5<br>Value: 42.00",
          null,
          null,
          null,
          null,
          null,
          null,
          "Sector: E<br>Position: 7.5<br>Value: 58.00",
          null,
          null,
          null,
          null,
          null,
          null,
          "Sector: E<br>Position: 8.5<br>Value: 31.00",
          null,
          null,
          null,
          null,
          null,
          null,
          "Sector: E<br>Position: 9.5<br>Value: 1.00",
          null,
          null,
          null,
          null,
          null,
          null,
          "Sector: E<br>Position: 10.5<br>Value: 65.00",
          null,
          null,
          null,
          null,
          null,
          null,
          "Sector: E<br>Position: 11.5<br>Value: 41.00",
          null,
          null,
          null,
          null,
          null,
          null,
          "Sector: E<br>Position: 12.5<br>Value: 57.00",
          null,
          null,
          null,
          null,
          null,
          null,
          "Sector: E<br>Position: 13.5<br>Value: 35.00",
          null,
          null,
          null,
          null,
          null,
          null,
          null,
          "Sector: E<br>Position: 14.5<br>Value: 11.00"
         ],
         "type": "scatter",
         "x": [
          -87.10055245930467,
          -84.9421590362329,
          -82.78642651577906,
          -80.63412265890551,
          -78.48601288254422,
          -76.34286009514908,
          -74.20542453283664,
          -72.07446359614714,
          -72.74340369241463,
          -73.60676604578347,
          -74.44827076107609,
          -75.2674860937749,
          -76.06398488343923,
          -76.83734465212164,
          -77.58714770194382,
          -76.6579690038976,
          -75.4501625652939,
          -74.24154449190627,
          -73.03247041321838,
          -71.82329478786164,
          -70.6143708311546,
          -69.4060504429712,
          -70.4259085244167,
          -72.01782434411234,
          -73.5692863607563,
          -75.07953760732055,
          -76.54783070663052,
          -77.97342804222069,
          -79.35560192734492,
          -77.53012932397624,
          -74.45969507235479,
          -71.42145760370765,
          -68.41644877410131,
          -65.44569043351484,
          -62.5101942085873,
          -59.61096128746588,
          -58.94965387766261,
          -59.49222399087737,
          -60.00348311415257,
          -60.48306483330211,
          -60.93061004550194,
          -61.345767045662484,
          -61.72819161140739,
          -61.724725544418504,
          -61.43477766208579,
          -61.12599494113666,
          -60.798301786196475,
          -60.45162652645985,
          -60.08590144029257,
          -59.70106277912218,
          -58.74546736468127,
          -57.24216544751222,
          -55.750749375037124,
          -54.271594683346805,
          -52.80507270505667,
          -51.3515504970927,
          -49.911390769384354,
          -48.45527875690997,
          -46.97530825209911,
          -45.512066793104296,
          -44.06592542723959,
          -42.6372499001998,
          -41.22640058474454,
          -39.83373241049666,
          -39.1429073831272,
          -39.64983395447084,
          -40.100106247752734,
          -40.49333147142438,
          -40.829131182650855,
          -41.1071413802862,
          -41.32701259503837,
          -41.048473228999164,
          -39.65856202934671,
          -38.283526340959185,
          -36.92365428073285,
          -35.57922930039503,
          -34.25053013539312,
          -32.93783075475883,
          -31.765925771099262,
          -31.046148421982103,
          -30.308412543315367,
          -29.552756856365537,
          -28.779224281635802,
          -27.98786194068713,
          -27.178721157162755,
          -26.289620903719673,
          -25.028726189223566,
          -23.78410463903555,
          -22.555983040139356,
          -21.344583414052888,
          -20.150122979628936,
          -18.972814116830975,
          -17.81167472539121,
          -16.6536029847763,
          -15.515107139878454,
          -14.396385735128412,
          -13.297631829654371,
          -12.219032965818043,
          -11.160771138858943,
          -10.123022767651213
         ],
         "y": [
          27.520741698393483,
          27.915554000380514,
          28.264503506416965,
          28.567706170954818,
          28.825289522570685,
          29.03739262505747,
          29.204166036266894,
          29.325771764711355,
          30.57622673532923,
          31.938613102988633,
          33.32479070491017,
          34.73443536016733,
          36.167216118883665,
          37.622795325005804,
          39.10082868044187,
          39.742932680430215,
          40.22272161678046,
          40.6800644898028,
          41.115007057397946,
          41.52760027805681,
          41.91790028985606,
          42.285968388476455,
          44.024137497796964,
          46.177840919346195,
          48.37373366581701,
          50.61116748403393,
          52.889482323159214,
          55.2080064698701,
          57.566056685900236,
          57.61215711609998,
          56.669255428239474,
          55.6636741059872,
          54.59603189036106,
          53.46696292281867,
          52.27711659657033,
          51.02715740493766,
          51.645772519267716,
          53.34102126668235,
          55.0554071991691,
          56.788433042378564,
          58.53959564825028,
          60.3083860975783,
          62.09428980378438,
          63.533625316318165,
          64.70558126770239,
          65.87919483126838,
          67.05418731160242,
          68.2302785039088,
          69.40718674747974,
          70.58462897952921,
          71.09478494694301,
          70.91849872406738,
          70.71717343866813,
          70.49105985147571,
          70.24041403127097,
          69.9654972912797,
          69.66657612461056,
          69.3014832764501,
          68.85522261066463,
          68.38424227793666,
          67.88886866532472,
          67.36943340432306,
          66.82627329200892,
          66.25973021124643,
          66.83691427575295,
          69.52111335896987,
          72.22547378203943,
          74.94904643258423,
          77.69087587496536,
          80.45000055491303,
          83.22545300545194,
          85.1041568009639,
          84.69451503562316,
          84.26428977300682,
          83.81376924987639,
          83.34324559041451,
          82.8530147370125,
          82.34337638039858,
          82.1366172637232,
          83.09964962902478,
          84.0569030208738,
          85.00809164991735,
          85.95292986455549,
          86.89113220973984,
          87.82241348582987,
          88.53689160588314,
          87.98068908116429,
          87.40731580883583,
          86.81707254445827,
          86.21026297294331,
          85.58719363872224,
          84.9481738754483,
          84.28788631604648,
          83.538893285339,
          82.7745433227451,
          81.99518753150457,
          81.20117953310576,
          80.3928753875719,
          79.57063351335924,
          78.73481460688181
         ]
        },
        {
         "hoverinfo": "text",
         "line": {
          "color": "#1f77b4",
          "width": 2
         },
         "marker": {
          "color": "#1f77b4",
          "opacity": 1,
          "size": 6
         },
         "mode": "markers",
         "showlegend": false,
         "text": [
          "Sector: E<br>Position: 0.5<br>Value: 53.00",
          "Sector: E<br>Position: 1.5<br>Value: 5.00",
          "Sector: E<br>Position: 2.5<br>Value: 38.00",
          "Sector: E<br>Position: 3.5<br>Value: 17.00",
          "Sector: E<br>Position: 4.5<br>Value: 79.00",
          "Sector: E<br>Position: 5.5<br>Value: 4.00",
          "Sector: E<br>Position: 6.5<br>Value: 42.00",
          "Sector: E<br>Position: 7.5<br>Value: 58.00",
          "Sector: E<br>Position: 8.5<br>Value: 31.00",
          "Sector: E<br>Position: 9.5<br>Value: 1.00",
          "Sector: E<br>Position: 10.5<br>Value: 65.00",
          "Sector: E<br>Position: 11.5<br>Value: 41.00",
          "Sector: E<br>Position: 12.5<br>Value: 57.00",
          "Sector: E<br>Position: 13.5<br>Value: 35.00",
          "Sector: E<br>Position: 14.5<br>Value: 11.00"
         ],
         "type": "scatter",
         "x": [
          -58.49451617611712,
          -44.143929960054855,
          -50.924256089741505,
          -43.56613225582643,
          -55.516883274742604,
          -35.874171359198236,
          -40.83655950153897,
          -40.25964182711779,
          -31.78319372239425,
          -23.68134865379519,
          -28.32656848188394,
          -21.027740406614964,
          -17.884385039418873,
          -11.668457479216157,
          -6.297379720518125
         ],
         "y": [
          18.48223030740889,
          18.003570518960156,
          25.768641944996666,
          26.690097449978982,
          40.55167285647543,
          30.96423654892181,
          41.485121423480805,
          48.15710759445318,
          44.98374581405273,
          40.0584857359144,
          58.23922577419965,
          53.975887144593685,
          59.87003569416895,
          54.9940949095039,
          48.979740161067994
         ]
        }
       ],
       "layout": {
        "annotations": [
         {
          "font": {
           "size": 20
          },
          "showarrow": false,
          "text": "Sector: A",
          "textangle": 23.263888888888886,
          "x": 44.236255398572254,
          "xanchor": "center",
          "y": 102.8938953889505,
          "yanchor": "middle"
         },
         {
          "font": {
           "size": 20
          },
          "showarrow": false,
          "text": "Sector: B",
          "textangle": 86.42361111111114,
          "x": 111.78188214287474,
          "xanchor": "center",
          "y": 6.986474403908087,
          "yanchor": "middle"
         },
         {
          "font": {
           "size": 20
          },
          "showarrow": false,
          "text": "Sector: C",
          "textangle": -25.763888888888914,
          "x": 48.68232096588345,
          "xanchor": "center",
          "y": -100.86640484013844,
          "yanchor": "middle"
         },
         {
          "font": {
           "size": 20
          },
          "showarrow": false,
          "text": "Sector: D",
          "textangle": 53.68055555555554,
          "x": -90.24146035300127,
          "xanchor": "center",
          "y": -66.33610505115368,
          "yanchor": "middle"
         },
         {
          "font": {
           "size": 20
          },
          "showarrow": false,
          "text": "Sector: E",
          "textangle": -39.895833333333314,
          "x": -71.8361100854728,
          "xanchor": "center",
          "y": 85.92772129986827,
          "yanchor": "middle"
         },
         {
          "font": {
           "color": "black",
           "size": 10
          },
          "showarrow": false,
          "text": "0",
          "textangle": 0,
          "x": 6.349793653579027e-15,
          "y": 103.7
         },
         {
          "font": {
           "color": "black",
           "size": 10
          },
          "showarrow": false,
          "text": "1",
          "textangle": 4.6527777777777715,
          "x": 8.411840059979294,
          "y": 103.35826501448894
         },
         {
          "font": {
           "color": "black",
           "size": 10
          },
          "showarrow": false,
          "text": "2",
          "textangle": 9.305555555555543,
          "x": 16.76823903912889,
          "y": 102.33531237811626
         },
         {
          "font": {
           "color": "black",
           "size": 10
          },
          "showarrow": false,
          "text": "3",
          "textangle": 13.958333333333343,
          "x": 25.01412125983911,
          "y": 100.63788420668465
         },
         {
          "font": {
           "color": "black",
           "size": 10
          },
          "showarrow": false,
          "text": "4",
          "textangle": 18.611111111111114,
          "x": 33.09513944262639,
          "y": 98.27716797544136
         },
         {
          "font": {
           "color": "black",
           "size": 10
          },
          "showarrow": false,
          "text": "5",
          "textangle": 23.263888888888886,
          "x": 40.958032900285204,
          "y": 95.26872278423363
         },
         {
          "font": {
           "color": "black",
           "size": 10
          },
          "showarrow": false,
          "text": "6",
          "textangle": 27.916666666666657,
          "x": 48.55097857048518,
          "y": 91.63237680999163
         },
         {
          "font": {
           "color": "black",
           "size": 10
          },
          "showarrow": false,
          "text": "7",
          "textangle": 32.56944444444446,
          "x": 55.823932573214904,
          "y": 87.39209662241292
         },
         {
          "font": {
           "color": "black",
           "size": 10
          },
          "showarrow": false,
          "text": "8",
          "textangle": 37.22222222222223,
          "x": 62.72896004192187,
          "y": 82.57582922416806
         },
         {
          "font": {
           "color": "black",
           "size": 10
          },
          "showarrow": false,
          "text": "9",
          "textangle": 41.875,
          "x": 69.22055105448518,
          "y": 77.21531785671424
         },
         {
          "font": {
           "color": "black",
           "size": 10
          },
          "showarrow": false,
          "text": "10",
          "textangle": 46.52777777777777,
          "x": 75.25592058177033,
          "y": 71.34589278571177
         },
         {
          "font": {
           "color": "black",
           "size": 10
          },
          "showarrow": false,
          "text": "0",
          "textangle": 51.52777777777777,
          "x": 81.18775336130656,
          "y": 64.5154144692852
         },
         {
          "font": {
           "color": "black",
           "size": 10
          },
          "showarrow": false,
          "text": "1",
          "textangle": 56.18055555555554,
          "x": 86.15350699872506,
          "y": 57.71709652971667
         },
         {
          "font": {
           "color": "black",
           "size": 10
          },
          "showarrow": false,
          "text": "2",
          "textangle": 60.833333333333314,
          "x": 90.5514367698767,
          "y": 50.53837451789503
         },
         {
          "font": {
           "color": "black",
           "size": 10
          },
          "showarrow": false,
          "text": "3",
          "textangle": 65.48611111111111,
          "x": 94.35255662911784,
          "y": 43.02656223252227
         },
         {
          "font": {
           "color": "black",
           "size": 10
          },
          "showarrow": false,
          "text": "4",
          "textangle": 70.13888888888891,
          "x": 97.53181400865631,
          "y": 35.23116881655891
         },
         {
          "font": {
           "color": "black",
           "size": 10
          },
          "showarrow": false,
          "text": "5",
          "textangle": 74.79166666666669,
          "x": 100.06825493598426,
          "y": 27.20357245044967
         },
         {
          "font": {
           "color": "black",
           "size": 10
          },
          "showarrow": false,
          "text": "6",
          "textangle": 79.44444444444446,
          "x": 101.94516213813058,
          "y": 18.996681726824463
         },
         {
          "font": {
           "color": "black",
           "size": 10
          },
          "showarrow": false,
          "text": "7",
          "textangle": 84.09722222222223,
          "x": 103.15016522251034,
          "y": 10.664586938499628
         },
         {
          "font": {
           "color": "black",
           "size": 10
          },
          "showarrow": false,
          "text": "8",
          "textangle": 88.75,
          "x": 103.67532220818659,
          "y": 2.2622035780839855
         },
         {
          "font": {
           "color": "black",
           "size": 10
          },
          "showarrow": false,
          "text": "9",
          "textangle": -86.59722222222223,
          "x": 103.51717187018548,
          "y": -6.155089601174103
         },
         {
          "font": {
           "color": "black",
           "size": 10
          },
          "showarrow": false,
          "text": "10",
          "textangle": -81.94444444444446,
          "x": 102.67675655187185,
          "y": -14.531815577815477
         },
         {
          "font": {
           "color": "black",
           "size": 10
          },
          "showarrow": false,
          "text": "11",
          "textangle": -77.29166666666663,
          "x": 101.15961529503217,
          "y": -22.812764702269117
         },
         {
          "font": {
           "color": "black",
           "size": 10
          },
          "showarrow": false,
          "text": "12",
          "textangle": -72.63888888888891,
          "x": 98.97574733294364,
          "y": -30.94335857474593
         },
         {
          "font": {
           "color": "black",
           "size": 10
          },
          "showarrow": false,
          "text": "13",
          "textangle": -67.98611111111109,
          "x": 96.13954618704082,
          "y": -38.87000976266723
         },
         {
          "font": {
           "color": "black",
           "size": 10
          },
          "showarrow": false,
          "text": "14",
          "textangle": -63.333333333333314,
          "x": 92.66970480153786,
          "y": -46.540474986787935
         },
         {
          "font": {
           "color": "black",
           "size": 10
          },
          "showarrow": false,
          "text": "15",
          "textangle": -58.68055555555554,
          "x": 88.5890923412486,
          "y": -53.90419944822229
         },
         {
          "font": {
           "color": "black",
           "size": 10
          },
          "showarrow": false,
          "text": "0",
          "textangle": -53.68055555555554,
          "x": 83.55392355898421,
          "y": -61.420125837541434
         },
         {
          "font": {
           "color": "black",
           "size": 10
          },
          "showarrow": false,
          "text": "1",
          "textangle": -49.02777777777777,
          "x": 78.29635775506885,
          "y": -67.99537015334404
         },
         {
          "font": {
           "color": "black",
           "size": 10
          },
          "showarrow": false,
          "text": "2",
          "textangle": -44.375,
          "x": 72.52275328802915,
          "y": -74.12246795354062
         },
         {
          "font": {
           "color": "black",
           "size": 10
          },
          "showarrow": false,
          "text": "3",
          "textangle": -39.72222222222217,
          "x": 66.27116305350425,
          "y": -79.76103652495905
         },
         {
          "font": {
           "color": "black",
           "size": 10
          },
          "showarrow": false,
          "text": "4",
          "textangle": -35.06944444444446,
          "x": 59.58279027421778,
          "y": -84.87391297176406
         },
         {
          "font": {
           "color": "black",
           "size": 10
          },
          "showarrow": false,
          "text": "5",
          "textangle": -30.41666666666663,
          "x": 52.50171693618355,
          "y": -89.42739915010867
         },
         {
          "font": {
           "color": "black",
           "size": 10
          },
          "showarrow": false,
          "text": "6",
          "textangle": -25.763888888888914,
          "x": 45.074613251447445,
          "y": -93.3914837671639
         },
         {
          "font": {
           "color": "black",
           "size": 10
          },
          "showarrow": false,
          "text": "7",
          "textangle": -21.111111111111086,
          "x": 37.350430062248456,
          "y": -96.74004018070846
         },
         {
          "font": {
           "color": "black",
           "size": 10
          },
          "showarrow": false,
          "text": "8",
          "textangle": -16.458333333333258,
          "x": 29.380076213914382,
          "y": -99.45099859561282
         },
         {
          "font": {
           "color": "black",
           "size": 10
          },
          "showarrow": false,
          "text": "9",
          "textangle": -11.805555555555543,
          "x": 21.21608302287493,
          "y": -101.50649152229862
         },
         {
          "font": {
           "color": "black",
           "size": 10
          },
          "showarrow": false,
          "text": "10",
          "textangle": -7.152777777777715,
          "x": 12.912258051229339,
          "y": -102.89297153848004
         },
         {
          "font": {
           "color": "black",
           "size": 10
          },
          "showarrow": false,
          "text": "11",
          "textangle": -2.5,
          "x": 4.5233304697853445,
          "y": -103.60130057803866
         },
         {
          "font": {
           "color": "black",
           "size": 10
          },
          "showarrow": false,
          "text": "12",
          "textangle": 2.1527777777778283,
          "x": -3.8954096530772855,
          "y": -103.62681015854301
         },
         {
          "font": {
           "color": "black",
           "size": 10
          },
          "showarrow": false,
          "text": "0",
          "textangle": 7.152777777777828,
          "x": -12.912258051229372,
          "y": -102.89297153848003
         },
         {
          "font": {
           "color": "black",
           "size": 10
          },
          "showarrow": false,
          "text": "1",
          "textangle": 11.805555555555543,
          "x": -21.21608302287492,
          "y": -101.50649152229862
         },
         {
          "font": {
           "color": "black",
           "size": 10
          },
          "showarrow": false,
          "text": "2",
          "textangle": 16.45833333333337,
          "x": -29.38007621391441,
          "y": -99.4509985956128
         },
         {
          "font": {
           "color": "black",
           "size": 10
          },
          "showarrow": false,
          "text": "3",
          "textangle": 21.111111111111086,
          "x": -37.35043006224849,
          "y": -96.74004018070845
         },
         {
          "font": {
           "color": "black",
           "size": 10
          },
          "showarrow": false,
          "text": "4",
          "textangle": 25.763888888888914,
          "x": -45.07461325144743,
          "y": -93.3914837671639
         },
         {
          "font": {
           "color": "black",
           "size": 10
          },
          "showarrow": false,
          "text": "5",
          "textangle": 30.41666666666663,
          "x": -52.50171693618354,
          "y": -89.42739915010868
         },
         {
          "font": {
           "color": "black",
           "size": 10
          },
          "showarrow": false,
          "text": "6",
          "textangle": 35.06944444444446,
          "x": -59.58279027421778,
          "y": -84.87391297176407
         },
         {
          "font": {
           "color": "black",
           "size": 10
          },
          "showarrow": false,
          "text": "7",
          "textangle": 39.72222222222217,
          "x": -66.2711630535043,
          "y": -79.76103652495902
         },
         {
          "font": {
           "color": "black",
           "size": 10
          },
          "showarrow": false,
          "text": "8",
          "textangle": 44.375,
          "x": -72.52275328802918,
          "y": -74.1224679535406
         },
         {
          "font": {
           "color": "black",
           "size": 10
          },
          "showarrow": false,
          "text": "9",
          "textangle": 49.02777777777783,
          "x": -78.29635775506885,
          "y": -67.99537015334406
         },
         {
          "font": {
           "color": "black",
           "size": 10
          },
          "showarrow": false,
          "text": "10",
          "textangle": 53.68055555555554,
          "x": -83.55392355898422,
          "y": -61.4201258375414
         },
         {
          "font": {
           "color": "black",
           "size": 10
          },
          "showarrow": false,
          "text": "11",
          "textangle": 58.33333333333337,
          "x": -88.26079893171688,
          "y": -54.440071380693894
         },
         {
          "font": {
           "color": "black",
           "size": 10
          },
          "showarrow": false,
          "text": "12",
          "textangle": 62.986111111111086,
          "x": -92.38596161700255,
          "y": -47.101211195697836
         },
         {
          "font": {
           "color": "black",
           "size": 10
          },
          "showarrow": false,
          "text": "13",
          "textangle": 67.63888888888891,
          "x": -95.90222333305758,
          "y": -39.45191452612088
         },
         {
          "font": {
           "color": "black",
           "size": 10
          },
          "showarrow": false,
          "text": "14",
          "textangle": 72.29166666666674,
          "x": -98.7864089661579,
          "y": -31.542596652320817
         },
         {
          "font": {
           "color": "black",
           "size": 10
          },
          "showarrow": false,
          "text": "15",
          "textangle": 76.94444444444446,
          "x": -101.01950931407515,
          "y": -23.42538661246564
         },
         {
          "font": {
           "color": "black",
           "size": 10
          },
          "showarrow": false,
          "text": "16",
          "textangle": 81.59722222222217,
          "x": -102.58680637266204,
          "y": -15.153783628452283
         },
         {
          "font": {
           "color": "black",
           "size": 10
          },
          "showarrow": false,
          "text": "17",
          "textangle": 86.25,
          "x": -103.47797033984318,
          "y": -6.782304501165795
         },
         {
          "font": {
           "color": "black",
           "size": 10
          },
          "showarrow": false,
          "text": "18",
          "textangle": -89.09722222222223,
          "x": -103.68712769767427,
          "y": 1.6338757009602825
         },
         {
          "font": {
           "color": "black",
           "size": 10
          },
          "showarrow": false,
          "text": "19",
          "textangle": -84.4444444444444,
          "x": -103.2128999237513,
          "y": 10.03928729191973
         },
         {
          "font": {
           "color": "black",
           "size": 10
          },
          "showarrow": false,
          "text": "20",
          "textangle": -79.79166666666663,
          "x": -102.05841257682931,
          "y": 18.378531559884955
         },
         {
          "font": {
           "color": "black",
           "size": 10
          },
          "showarrow": false,
          "text": "0",
          "textangle": -74.79166666666663,
          "x": -100.06825493598424,
          "y": 27.2035724504497
         },
         {
          "font": {
           "color": "black",
           "size": 10
          },
          "showarrow": false,
          "text": "1",
          "textangle": -70.13888888888891,
          "x": -97.53181400865631,
          "y": 35.231168816558906
         },
         {
          "font": {
           "color": "black",
           "size": 10
          },
          "showarrow": false,
          "text": "2",
          "textangle": -65.48611111111109,
          "x": -94.35255662911783,
          "y": 43.026562232522295
         },
         {
          "font": {
           "color": "black",
           "size": 10
          },
          "showarrow": false,
          "text": "3",
          "textangle": -60.833333333333314,
          "x": -90.55143676987672,
          "y": 50.53837451789502
         },
         {
          "font": {
           "color": "black",
           "size": 10
          },
          "showarrow": false,
          "text": "4",
          "textangle": -56.18055555555554,
          "x": -86.15350699872504,
          "y": 57.717096529716706
         },
         {
          "font": {
           "color": "black",
           "size": 10
          },
          "showarrow": false,
          "text": "5",
          "textangle": -51.52777777777777,
          "x": -81.18775336130656,
          "y": 64.51541446928522
         },
         {
          "font": {
           "color": "black",
           "size": 10
          },
          "showarrow": false,
          "text": "6",
          "textangle": -46.875,
          "x": -75.68690433876559,
          "y": 70.88852171977173
         },
         {
          "font": {
           "color": "black",
           "size": 10
          },
          "showarrow": false,
          "text": "7",
          "textangle": -42.22222222222223,
          "x": -69.68721513960766,
          "y": 76.7944141594038
         },
         {
          "font": {
           "color": "black",
           "size": 10
          },
          "showarrow": false,
          "text": "8",
          "textangle": -37.56944444444446,
          "x": -63.22822874746928,
          "y": 82.19416700385557
         },
         {
          "font": {
           "color": "black",
           "size": 10
          },
          "showarrow": false,
          "text": "9",
          "textangle": -32.91666666666663,
          "x": -56.35251529969136,
          "y": 87.05219135322243
         },
         {
          "font": {
           "color": "black",
           "size": 10
          },
          "showarrow": false,
          "text": "10",
          "textangle": -28.263888888888857,
          "x": -49.10539151441203,
          "y": 91.33646875271843
         },
         {
          "font": {
           "color": "black",
           "size": 10
          },
          "showarrow": false,
          "text": "11",
          "textangle": -23.611111111111086,
          "x": -41.53462201538742,
          "y": 95.01876222114713
         },
         {
          "font": {
           "color": "black",
           "size": 10
          },
          "showarrow": false,
          "text": "12",
          "textangle": -18.958333333333258,
          "x": -33.69010452306213,
          "y": 98.074802356289
         },
         {
          "font": {
           "color": "black",
           "size": 10
          },
          "showarrow": false,
          "text": "13",
          "textangle": -14.305555555555543,
          "x": -25.62354098674359,
          "y": 100.48444729061643
         },
         {
          "font": {
           "color": "black",
           "size": 10
          },
          "showarrow": false,
          "text": "14",
          "textangle": -9.652777777777828,
          "x": -17.388096825394157,
          "y": 102.23181544309344
         },
         {
          "font": {
           "color": "black",
           "size": 10
          },
          "showarrow": false,
          "text": "15",
          "textangle": -5,
          "x": -9.03805052293216,
          "y": 103.30539019211402
         }
        ],
        "height": 800,
        "hovermode": "closest",
        "plot_bgcolor": "rgba(0,0,0,0)",
        "shapes": [
         {
          "layer": "below",
          "line": {
           "color": "rgba(0,0,0,0)"
          },
          "path": "M 4.592425496802574e-15 75.0 L 0.6151922799053214 74.99747688061743 L 1.2303431677155598 74.9899076922332 L 1.8454112741206168 74.97729294412642 L 2.4603552153802353 74.95963348505748 L 3.075133616108335 74.93693050321104 L 3.689705112056947 74.90918552611596 L 4.304028352899312 74.87640042054264 L 4.918062005012052 74.83857739237736 L 5.531764754256287 74.79571898647387 L 6.145095308757285 74.74782808648214 L 6.758012401682783 74.69490791465441 L 7.370474794019524 74.63696203162829 L 7.982441277347939 74.57399433618727 L 8.593870676614847 74.50600906499837 L 9.20472185290374 74.43301079232705 L 9.814953706202813 74.35500442972952 L 10.42452517817028 74.27199522572215 L 11.033395254896897 74.18398876542848 L 11.64152296966558 74.09099097020331 L 12.248867405707662 73.99300809723438 L 12.855387698955985 73.8900467391213 L 13.46104304079434 73.78211382343204 L 14.065792680803188 73.66921661223678 L 14.669595929501538 73.55136270161928 L 15.272412161084576 73.42856002116585 L 15.87420081615715 73.30081683343178 L 16.474921404462734 73.16814173338541 L 17.074533507607715 73.03054364782986 L 17.672996781780938 72.88803183480235 L 18.27027096046807 72.74061588295137 L 18.866315857160927 72.58830571089146 L 19.461091368061336 72.43111156653589 L 20.054557474779408 72.26904402640712 L 20.646674247026205 72.10211399492518 L 21.237401845300237 71.93033270367403 L 21.8267005235681 71.75371171064583 L 22.414530631938664 71.57226289946325 L 23.000852619330843 71.38599847857996 L 23.585627036134802 71.19493098045919 L 24.168814536866055 70.99907326073047 L 24.75037588281301 70.7984384973247 L 25.33027194467687 70.5930401895875 L 25.90846370520446 70.3828921573709 L 26.484912261813484 70.16800854010353 L 27.059578829209848 69.94840379583924 L 27.632424741997472 69.72409270028436 L 28.20341145727965 69.49509034580348 L 28.77250055725241 69.26141214040405 L 29.339653751789438 69.02307380669966 L 29.904832881018184 68.78009138085216 L 30.46799991788762 68.53248121149271 L 31.029116970726623 68.28025995862176 L 31.588146285793545 68.02344459248816 L 32.14505024981638 67.76205239244734 L 32.69979139252348 67.4961009457987 L 33.25233238916477 67.22560814660217 L 33.80263606302294 66.95059219447444 L 34.3506653879149 66.67107159336427 L 34.896383490683 66.3870651503076 L 35.439753653675965 66.09859197416206 L 35.98073931721942 65.80567147432127 L 36.51930408207565 65.50832335940902 L 37.055411711892724 65.20656763595308 L 37.58902613564264 64.90042460703917 L 38.12011145004812 64.58991487094491 L 38.648631921998536 64.27505931975384 L 39.174551990953965 63.95587913794982 L 39.69783627133784 63.632395800991596 L 40.218449554917946 63.304631073867895 L 40.73635681317512 62.972607009633016 L 41.25152319966027 62.636345947923004 L 41.76391405233887 62.29587051345259 L 42.27349489592313 61.951203614492925 L 42.78023144419162 61.60236844133023 L 43.28408960229617 61.249388464705476 L 43.78503546905584 60.89228743423523 L 44.283035339237955 60.531089376813654 L 44.77805570582583 60.16581859499593 L 45.27006326227329 59.79649966536314 L 45.759024904745615 59.423157436868586 L 46.244907734346874 59.04581702916595 L 46.727679059333475 58.66450383091915 L 47.20730639731374 58.27924349809408 L 47.68375747743346 57.89006195223243 L 48.15700024254717 57.49698537870756 L 48.627002851375046 57.10004022496274 L 49.09373368064529 56.69925319873158 L 49.557161327221884 56.294651266241125 L 50.01725461021739 55.88626165039747 L 50.47398257309103 55.474111828954086 L 50.92731448573143 55.058229532663056 L 51.37721984652433 54.63864274340923 L 51.82366838440476 54.21537969232758 L 52.2666300608938 53.78846885790366 L 52.706075072119695 53.35793896405748 L 53.14197385082306 52.92381897821092 L 53.574297068346404 52.48613810933865 L 54.00301563660731 52.0449258060029 L 54.42810071005568 51.600211754372054 L 72.57080094674092 68.80028233916275 L 72.00402084880974 69.39323440800386 L 71.43239609112854 69.98151747911818 L 70.85596513443076 70.56509197094788 L 70.27476676282626 71.1439186187433 L 69.68884008119176 71.71795847720487 L 69.09822451253969 72.28717292310344 L 68.5029597953658 72.85152365787897 L 67.90308598097525 73.4109727102174 L 67.29864343078805 73.96548243860543 L 66.68967281362319 74.51501553386329 L 66.07621510296251 75.05953502165484 L 65.45831157419374 75.59900426497543 L 64.8360038018334 76.133386966617 L 64.20933365672957 76.66264717161009 L 63.57834330324462 77.18674926964323 L 62.94307519641832 77.70565799745877 L 62.303572079111305 78.21933844122553 L 61.65987697912918 78.72775603888793 L 61.0120332063275 79.23087658249143 L 60.36008434969773 79.72866622048417 L 59.70407427443444 80.22109145999458 L 59.04404711898395 80.70811916908487 L 58.380047292074465 81.1897165789803 L 57.71211946972824 81.66585128627396 L 57.040308592255506 82.13649125510696 L 56.36465986123085 82.6016048193239 L 55.68521873645182 83.06116068460345 L 55.00203093288037 83.51512793056399 L 54.31514241756683 83.96347601284401 L 53.62459940655726 84.40617476515719 L 52.93044836178381 84.84319440132212 L 52.23273598793862 85.27450551726643 L 51.531509229331405 85.70007909300512 L 50.826815266730854 86.1198864945932 L 50.11870151419019 86.53389947605223 L 49.407215615856984 86.94209018127076 L 48.69240544276753 87.34443114587869 L 47.97431908962591 87.74089529909503 L 47.25300487156795 88.1314559655494 L 46.52851132091067 88.51608686707681 L 45.80088718388654 88.89476212448571 L 45.07018141736392 89.26745625929925 L 44.33644318555305 89.63414419546955 L 43.599721856697975 89.99480126106492 L 42.86006699975517 90.3494031899298 L 42.11752838105806 90.69792612331756 L 41.37215596096883 91.04034661149566 L 40.62399989051685 91.37664161532359 L 39.87311050802425 91.70678850780288 L 39.11953833571925 92.03076507559955 L 38.36333407633657 92.34854952053873 L 37.6045486097062 92.66012046107129 L 36.84323298932996 92.96545693371247 L 36.07943843894647 93.26453839445233 L 35.31321634908465 93.55734472013803 L 34.54461827360597 93.84385620982786 L 33.773695926235824 94.12405358611666 L 33.00050117708401 94.39791799643294 L 32.22508604915474 94.66543101430729 L 31.447502714846404 94.92657464061224 L 30.66780349244115 95.18133130477328 L 29.886040842584887 95.42968386595099 L 29.102267364757488 95.67161561419442 L 28.31653579373365 95.90711027156537 L 27.528898996034957 96.13615199323357 L 26.73940996637257 96.3587253685428 L 25.94812182408178 96.57481542204785 L 25.155087809547926 96.78440761452194 L 24.360361280624094 96.98748784393516 L 23.563995709041272 97.18404244640313 L 22.766044676810306 97.37405819710648 L 21.96656187261698 97.55752231118055 L 21.165601088209556 97.7344224445757 L 20.363216214779435 97.9047466948878 L 19.559461239335405 98.06848360215903 L 18.75439024107094 98.22562214964904 L 17.94805738772579 98.37615176457606 L 17.140516931941313 98.52006231882841 L 16.331823207610217 98.65734412964584 L 15.522030626220795 98.78798796027108 L 14.711193673195885 98.91198502057131 L 13.89936690422704 99.02932696762954 L 13.086604941603749 99.14000590630602 L 12.272962470538321 99.2440143897694 L 11.458494235486484 99.34134541999782 L 10.643255036463941 99.4319924482497 L 9.827299725359365 99.51594937550439 L 9.01068320224371 99.59321055287255 L 8.19346041167638 99.6637707819762 L 7.375686339008404 99.7276253152985 L 6.557416006682757 99.78476985650315 L 5.738704470532417 99.83520056072352 L 4.919606816075929 99.87891403482128 L 4.100178154811114 99.91590733761471 L 3.2804736205070024 99.94617798007664 L 2.4605483654941778 99.96972392550188 L 1.6404575569540798 99.98654358964426 L 0.8202563732070952 99.99663584082323 L 6.123233995736766e-15 100.0 Z",
          "type": "path"
         },
         {
          "layer": "above",
          "line": {
           "color": "black",
           "width": 1
          },
          "path": "M 4.592425496802574e-15 75.0 L 0.6151922799053214 74.99747688061743 L 1.2303431677155598 74.9899076922332 L 1.8454112741206168 74.97729294412642 L 2.4603552153802353 74.95963348505748 L 3.075133616108335 74.93693050321104 L 3.689705112056947 74.90918552611596 L 4.304028352899312 74.87640042054264 L 4.918062005012052 74.83857739237736 L 5.531764754256287 74.79571898647387 L 6.145095308757285 74.74782808648214 L 6.758012401682783 74.69490791465441 L 7.370474794019524 74.63696203162829 L 7.982441277347939 74.57399433618727 L 8.593870676614847 74.50600906499837 L 9.20472185290374 74.43301079232705 L 9.814953706202813 74.35500442972952 L 10.42452517817028 74.27199522572215 L 11.033395254896897 74.18398876542848 L 11.64152296966558 74.09099097020331 L 12.248867405707662 73.99300809723438 L 12.855387698955985 73.8900467391213 L 13.46104304079434 73.78211382343204 L 14.065792680803188 73.66921661223678 L 14.669595929501538 73.55136270161928 L 15.272412161084576 73.42856002116585 L 15.87420081615715 73.30081683343178 L 16.474921404462734 73.16814173338541 L 17.074533507607715 73.03054364782986 L 17.672996781780938 72.88803183480235 L 18.27027096046807 72.74061588295137 L 18.866315857160927 72.58830571089146 L 19.461091368061336 72.43111156653589 L 20.054557474779408 72.26904402640712 L 20.646674247026205 72.10211399492518 L 21.237401845300237 71.93033270367403 L 21.8267005235681 71.75371171064583 L 22.414530631938664 71.57226289946325 L 23.000852619330843 71.38599847857996 L 23.585627036134802 71.19493098045919 L 24.168814536866055 70.99907326073047 L 24.75037588281301 70.7984384973247 L 25.33027194467687 70.5930401895875 L 25.90846370520446 70.3828921573709 L 26.484912261813484 70.16800854010353 L 27.059578829209848 69.94840379583924 L 27.632424741997472 69.72409270028436 L 28.20341145727965 69.49509034580348 L 28.77250055725241 69.26141214040405 L 29.339653751789438 69.02307380669966 L 29.904832881018184 68.78009138085216 L 30.46799991788762 68.53248121149271 L 31.029116970726623 68.28025995862176 L 31.588146285793545 68.02344459248816 L 32.14505024981638 67.76205239244734 L 32.69979139252348 67.4961009457987 L 33.25233238916477 67.22560814660217 L 33.80263606302294 66.95059219447444 L 34.3506653879149 66.67107159336427 L 34.896383490683 66.3870651503076 L 35.439753653675965 66.09859197416206 L 35.98073931721942 65.80567147432127 L 36.51930408207565 65.50832335940902 L 37.055411711892724 65.20656763595308 L 37.58902613564264 64.90042460703917 L 38.12011145004812 64.58991487094491 L 38.648631921998536 64.27505931975384 L 39.174551990953965 63.95587913794982 L 39.69783627133784 63.632395800991596 L 40.218449554917946 63.304631073867895 L 40.73635681317512 62.972607009633016 L 41.25152319966027 62.636345947923004 L 41.76391405233887 62.29587051345259 L 42.27349489592313 61.951203614492925 L 42.78023144419162 61.60236844133023 L 43.28408960229617 61.249388464705476 L 43.78503546905584 60.89228743423523 L 44.283035339237955 60.531089376813654 L 44.77805570582583 60.16581859499593 L 45.27006326227329 59.79649966536314 L 45.759024904745615 59.423157436868586 L 46.244907734346874 59.04581702916595 L 46.727679059333475 58.66450383091915 L 47.20730639731374 58.27924349809408 L 47.68375747743346 57.89006195223243 L 48.15700024254717 57.49698537870756 L 48.627002851375046 57.10004022496274 L 49.09373368064529 56.69925319873158 L 49.557161327221884 56.294651266241125 L 50.01725461021739 55.88626165039747 L 50.47398257309103 55.474111828954086 L 50.92731448573143 55.058229532663056 L 51.37721984652433 54.63864274340923 L 51.82366838440476 54.21537969232758 L 52.2666300608938 53.78846885790366 L 52.706075072119695 53.35793896405748 L 53.14197385082306 52.92381897821092 L 53.574297068346404 52.48613810933865 L 54.00301563660731 52.0449258060029 L 54.42810071005568 51.600211754372054 L 72.57080094674092 68.80028233916275 L 72.00402084880974 69.39323440800386 L 71.43239609112854 69.98151747911818 L 70.85596513443076 70.56509197094788 L 70.27476676282626 71.1439186187433 L 69.68884008119176 71.71795847720487 L 69.09822451253969 72.28717292310344 L 68.5029597953658 72.85152365787897 L 67.90308598097525 73.4109727102174 L 67.29864343078805 73.96548243860543 L 66.68967281362319 74.51501553386329 L 66.07621510296251 75.05953502165484 L 65.45831157419374 75.59900426497543 L 64.8360038018334 76.133386966617 L 64.20933365672957 76.66264717161009 L 63.57834330324462 77.18674926964323 L 62.94307519641832 77.70565799745877 L 62.303572079111305 78.21933844122553 L 61.65987697912918 78.72775603888793 L 61.0120332063275 79.23087658249143 L 60.36008434969773 79.72866622048417 L 59.70407427443444 80.22109145999458 L 59.04404711898395 80.70811916908487 L 58.380047292074465 81.1897165789803 L 57.71211946972824 81.66585128627396 L 57.040308592255506 82.13649125510696 L 56.36465986123085 82.6016048193239 L 55.68521873645182 83.06116068460345 L 55.00203093288037 83.51512793056399 L 54.31514241756683 83.96347601284401 L 53.62459940655726 84.40617476515719 L 52.93044836178381 84.84319440132212 L 52.23273598793862 85.27450551726643 L 51.531509229331405 85.70007909300512 L 50.826815266730854 86.1198864945932 L 50.11870151419019 86.53389947605223 L 49.407215615856984 86.94209018127076 L 48.69240544276753 87.34443114587869 L 47.97431908962591 87.74089529909503 L 47.25300487156795 88.1314559655494 L 46.52851132091067 88.51608686707681 L 45.80088718388654 88.89476212448571 L 45.07018141736392 89.26745625929925 L 44.33644318555305 89.63414419546955 L 43.599721856697975 89.99480126106492 L 42.86006699975517 90.3494031899298 L 42.11752838105806 90.69792612331756 L 41.37215596096883 91.04034661149566 L 40.62399989051685 91.37664161532359 L 39.87311050802425 91.70678850780288 L 39.11953833571925 92.03076507559955 L 38.36333407633657 92.34854952053873 L 37.6045486097062 92.66012046107129 L 36.84323298932996 92.96545693371247 L 36.07943843894647 93.26453839445233 L 35.31321634908465 93.55734472013803 L 34.54461827360597 93.84385620982786 L 33.773695926235824 94.12405358611666 L 33.00050117708401 94.39791799643294 L 32.22508604915474 94.66543101430729 L 31.447502714846404 94.92657464061224 L 30.66780349244115 95.18133130477328 L 29.886040842584887 95.42968386595099 L 29.102267364757488 95.67161561419442 L 28.31653579373365 95.90711027156537 L 27.528898996034957 96.13615199323357 L 26.73940996637257 96.3587253685428 L 25.94812182408178 96.57481542204785 L 25.155087809547926 96.78440761452194 L 24.360361280624094 96.98748784393516 L 23.563995709041272 97.18404244640313 L 22.766044676810306 97.37405819710648 L 21.96656187261698 97.55752231118055 L 21.165601088209556 97.7344224445757 L 20.363216214779435 97.9047466948878 L 19.559461239335405 98.06848360215903 L 18.75439024107094 98.22562214964904 L 17.94805738772579 98.37615176457606 L 17.140516931941313 98.52006231882841 L 16.331823207610217 98.65734412964584 L 15.522030626220795 98.78798796027108 L 14.711193673195885 98.91198502057131 L 13.89936690422704 99.02932696762954 L 13.086604941603749 99.14000590630602 L 12.272962470538321 99.2440143897694 L 11.458494235486484 99.34134541999782 L 10.643255036463941 99.4319924482497 L 9.827299725359365 99.51594937550439 L 9.01068320224371 99.59321055287255 L 8.19346041167638 99.6637707819762 L 7.375686339008404 99.7276253152985 L 6.557416006682757 99.78476985650315 L 5.738704470532417 99.83520056072352 L 4.919606816075929 99.87891403482128 L 4.100178154811114 99.91590733761471 L 3.2804736205070024 99.94617798007664 L 2.4605483654941778 99.96972392550188 L 1.6404575569540798 99.98654358964426 L 0.8202563732070952 99.99663584082323 L 6.123233995736766e-15 100.0 Z",
          "type": "path"
         },
         {
          "layer": "above",
          "line": {
           "color": "black",
           "width": 1
          },
          "path": "M 6.123233995736766e-15 100.0 L 6.245698675651501e-15 102.0",
          "type": "path"
         },
         {
          "layer": "above",
          "line": {
           "color": "black",
           "width": 1
          },
          "path": "M 8.111706904512337 99.67045806604527 L 8.273941042602585 101.66386722736617",
          "type": "path"
         },
         {
          "layer": "above",
          "line": {
           "color": "black",
           "width": 1
          },
          "path": "M 16.169950857404906 98.68400422190574 L 16.493349874553004 100.65768430634385",
          "type": "path"
         },
         {
          "layer": "above",
          "line": {
           "color": "black",
           "width": 1
          },
          "path": "M 24.121621272747454 97.04714002573253 L 24.604053698202403 98.9880828262472",
          "type": "path"
         },
         {
          "layer": "above",
          "line": {
           "color": "black",
           "width": 1
          },
          "path": "M 31.91430997360308 94.77065378538221 L 32.55259617307514 96.66606686108986",
          "type": "path"
         },
         {
          "layer": "above",
          "line": {
           "color": "black",
           "width": 1
          },
          "path": "M 39.49665660586808 91.86954945442008 L 40.286589737985445 93.70694044350849",
          "type": "path"
         },
         {
          "layer": "above",
          "line": {
           "color": "black",
           "width": 1
          },
          "path": "M 46.81868714608021 88.36294774348275 L 47.75506088900181 90.13020669835241",
          "type": "path"
         },
         {
          "layer": "above",
          "line": {
           "color": "black",
           "width": 1
          },
          "path": "M 53.832143272145515 84.27396009875885 L 54.90878613758843 85.95943930073403",
          "type": "path"
         },
         {
          "layer": "above",
          "line": {
           "color": "black",
           "width": 1
          },
          "path": "M 60.490800426154166 79.62953637817557 L 61.70061643467725 81.22212710573908",
          "type": "path"
         },
         {
          "layer": "above",
          "line": {
           "color": "black",
           "width": 1
          },
          "path": "M 66.75077247298475 74.46028722923262 L 68.08578792244444 75.94949297381727",
          "type": "path"
         },
         {
          "layer": "above",
          "line": {
           "color": "black",
           "width": 1
          },
          "path": "M 72.57080094674092 68.80028233916275 L 74.02221696567572 70.176287985946",
          "type": "path"
         },
         {
          "layer": "below",
          "line": {
           "color": "rgba(0,0,0,0)"
          },
          "path": "M 2.7554552980815448e-15 45.0 L 0.36911536794319283 44.99848612837045 L 0.7382059006293359 44.99394461533992 L 1.10724676447237 44.986375766475845 L 1.476213129228141 44.97578009103449 L 1.845080169665001 44.96215830192662 L 2.213823067234168 44.94551131566958 L 2.5824170117395875 44.925840252325585 L 2.950837203007231 44.90314643542642 L 3.3190588525537716 44.87743139188432 L 3.687057185254371 44.84869685188929 L 4.05480744100967 44.81694474879264 L 4.422284876411714 44.782177218976976 L 4.789464766408763 44.74439660171236 L 5.156322405968908 44.70360543899902 L 5.522833111742244 44.65980647539623 L 5.888972223721687 44.613002657837704 L 6.254715106902168 44.56319713543329 L 6.6200371529381385 44.510393259257086 L 6.984913781799348 44.454594582121985 L 7.349320443424597 44.395804858340625 L 7.713232619373591 44.334028043472784 L 8.076625824476604 44.26926829405922 L 8.439475608481914 44.20152996734207 L 8.801757557700924 44.13081762097157 L 9.163447296650745 44.05713601269951 L 9.524520489694291 43.98049010005907 L 9.884952842677642 43.90088504003125 L 10.244720104564628 43.81832618869791 L 10.603798069068562 43.73281910088141 L 10.962162576280843 43.64436952977082 L 11.319789514296557 43.55298342653488 L 11.676654820836802 43.45866693992153 L 12.032734484867646 43.36142641584427 L 12.388004548215722 43.2612683969551 L 12.742441107180142 43.15819962220442 L 13.09602031414086 43.0522270263875 L 13.4487183791632 42.94335773967795 L 13.800511571598507 42.83159908714798 L 14.151376221680882 42.71695858827551 L 14.501288722119632 42.59944395643828 L 14.850225529687807 42.47906309839482 L 15.198163166806122 42.3558241137525 L 15.545078223122676 42.22973529442255 L 15.890947357088091 42.10080512406211 L 16.235747297525908 41.96904227750355 L 16.579454845198484 41.834455620170615 L 16.92204687436779 41.69705420748208 L 17.263500334351445 41.55684728424243 L 17.603792251073664 41.413844284019795 L 17.94289972861091 41.268054828511296 L 18.280799950732572 41.119488726895625 L 18.617470182435973 40.968155975173055 L 18.952887771476128 40.814066755492895 L 19.287030149889826 40.65723143546841 L 19.61987483551409 40.497660567479215 L 19.95139943349886 40.3353648879613 L 20.281581637813765 40.17035531668466 L 20.61039923274894 40.00264295601857 L 20.9378300944098 39.832239090184565 L 21.26385219220558 39.65915518449724 L 21.58844359033165 39.48340288459276 L 21.911582449245387 39.304994015645406 L 22.233247027135633 39.123940581571844 L 22.553415681385584 38.9402547642235 L 22.872066870028874 38.75394892256695 L 23.189179153199124 38.56503559185231 L 23.50473119457238 38.373527482769894 L 23.818701762802704 38.179437480594956 L 24.131069732950767 37.98277864432074 L 24.441814087905072 37.78356420577981 L 24.750913919796165 37.5818075687538 L 25.05834843140332 37.377522308071555 L 25.364096937553878 37.170722168695754 L 25.668138866514973 36.96142106479814 L 25.970453761377705 36.74963307882329 L 26.271021281433505 36.53537246054114 L 26.569821203542777 36.31865362608819 L 26.866833423495496 36.09949115699756 L 27.162037957363975 35.877899799217886 L 27.45541494284737 35.65389446212115 L 27.746944640608127 35.427490217499574 L 28.036607435600086 35.198702298551495 L 28.324383838388243 34.96754609885645 L 28.610254486460075 34.73403717133946 L 28.894200145528302 34.49819122722454 L 29.17620171082503 34.26002413497765 L 29.45624020838718 34.01955191923895 L 29.73429679633313 33.77679075974468 L 30.010352766130435 33.531756990238485 L 30.28438954385462 33.28446709737245 L 30.55638869143886 33.034937719597835 L 30.8263319079146 32.78318564604554 L 31.094201030642857 32.529227815396546 L 31.359978036536283 32.27308131474219 L 31.623645043271814 32.01476337843449 L 31.885184310493834 31.75429138692655 L 32.14457824100784 31.491682865603188 L 32.401809381964384 31.226955483601742 L 32.65686042603341 30.960127052623235 L 50.79956066271863 48.16019763741392 L 50.40281459416682 48.575264085602704 L 50.00267726378998 48.98706223538273 L 49.599175594101524 49.39556437966352 L 49.19233673397838 49.800743033120305 L 48.78218805683422 50.20257093404341 L 48.36875715877778 50.601021046172406 L 47.952071856756056 50.99606656051528 L 47.532160186682674 51.38768089715217 L 47.10905040155163 51.775837707023804 L 46.682770969536236 52.160510873704304 L 46.25335057207376 52.541674515158384 L 45.820818101935615 52.9193029854828 L 45.38520266128338 53.29337087663189 L 44.9465335597107 53.663853020127064 L 44.504840312271234 54.03072448875026 L 44.06015263749282 54.39396059822114 L 43.61250045537791 54.75353690885787 L 43.161913885390426 55.109429227221554 L 42.70842324442925 55.461613607744006 L 42.25205904478841 55.81006635433893 L 41.792851992104104 56.1547640219962 L 41.33083298328876 56.495683418359405 L 40.86603310445213 56.83280160528621 L 40.39848362880977 57.166095900391774 L 39.92821601457885 57.49554387857487 L 39.455261902861594 57.821123373526724 L 38.97965311551628 58.142812479222414 L 38.501421653016266 58.4605895513948 L 38.020599692296784 58.774433208990814 L 37.53721958459008 59.08432233561003 L 37.051313853248665 59.39023608092548 L 36.56291519155703 59.6921538620865 L 36.07205646053198 59.99005536510358 L 35.57877068671159 60.28392054621524 L 35.08309105993313 60.57372963323655 L 34.58505093109989 60.85946312688953 L 34.08468380993727 61.14110180211508 L 33.582023362738134 61.418626709366514 L 33.07710341009757 61.69201917588459 L 32.56995792463747 61.96126080695376 L 32.060621028720576 62.226333487139996 L 31.549126992154743 62.487219381509476 L 31.035510229887134 62.74390093682868 L 30.519805299688585 62.99636088274545 L 30.00204689982862 63.24458223295086 L 29.482269866740644 63.488548286322285 L 28.960509172678183 63.72824262804697 L 28.436799923361793 63.963649130726516 L 27.91117735561697 64.19475195546202 L 27.383676835003474 64.42153555291968 L 26.854333853435598 64.64398466437711 L 26.32318402679434 64.86208432274991 L 25.79026309253097 65.07581985359873 L 25.255606907262525 65.28517687611662 L 24.71925144435925 65.49014130409662 L 24.18123279152418 65.69069934687951 L 23.641587148365076 65.88683751028167 L 23.10035082395881 66.07854259750306 L 22.557560234408317 66.2658017100151 L 22.013251900392483 66.44860224842857 L 21.467462444708804 66.6269319133413 L 20.920228589809422 66.8007787061657 L 20.371587155330243 66.9701309299361 L 19.821575055613554 67.13497719009577 L 19.270229297224468 67.2953063952635 L 18.717586976460797 67.45110775797997 L 18.163685276857247 67.60237079543349 L 17.60856146668355 67.74908533016536 L 17.052252896436865 67.89124149075461 L 16.49479699632889 68.02882971248219 L 15.936231273767214 68.16184073797453 L 15.376593310831886 68.29026561782638 L 14.815920761746689 68.41409571120299 L 14.254251350345603 68.53332268642146 L 13.691622867534786 68.64793852151132 L 13.128073168749658 68.75793550475433 L 12.563640171408052 68.86330623520324 L 11.998361852358919 68.96404362317989 L 11.43227624532715 69.0601408907521 L 10.865421438354556 69.15159157218976 L 10.297835571237119 69.23838951439991 L 9.729556832958927 69.32052887734068 L 9.160623459122625 69.39800413441421 L 8.591073729376824 69.47081007283859 L 8.02094596484054 69.53894179399848 L 7.450278525524758 69.60239471377479 L 6.879109807751555 69.66116456285307 L 6.307478241570597 69.71524738701078 L 5.735422288173466 69.76463954738334 L 5.162980437305883 69.80933772070895 L 4.5901912046779305 69.84933889955221 L 4.017093129372691 69.88464039250647 L 3.4437247712531502 69.9152398243749 L 2.870124708367779 69.9411351363303 L 2.2963315343549016 69.96232458605365 L 1.7223838558459246 69.97880674785132 L 1.1483202898678557 69.99058051275098 L 0.5741794612449667 69.99764508857626 L 4.2862637970157365e-15 70.0 Z",
          "type": "path"
         },
         {
          "layer": "above",
          "line": {
           "color": "black",
           "width": 1
          },
          "path": "M 2.7554552980815448e-15 45.0 L 0.36911536794319283 44.99848612837045 L 0.7382059006293359 44.99394461533992 L 1.10724676447237 44.986375766475845 L 1.476213129228141 44.97578009103449 L 1.845080169665001 44.96215830192662 L 2.213823067234168 44.94551131566958 L 2.5824170117395875 44.925840252325585 L 2.950837203007231 44.90314643542642 L 3.3190588525537716 44.87743139188432 L 3.687057185254371 44.84869685188929 L 4.05480744100967 44.81694474879264 L 4.422284876411714 44.782177218976976 L 4.789464766408763 44.74439660171236 L 5.156322405968908 44.70360543899902 L 5.522833111742244 44.65980647539623 L 5.888972223721687 44.613002657837704 L 6.254715106902168 44.56319713543329 L 6.6200371529381385 44.510393259257086 L 6.984913781799348 44.454594582121985 L 7.349320443424597 44.395804858340625 L 7.713232619373591 44.334028043472784 L 8.076625824476604 44.26926829405922 L 8.439475608481914 44.20152996734207 L 8.801757557700924 44.13081762097157 L 9.163447296650745 44.05713601269951 L 9.524520489694291 43.98049010005907 L 9.884952842677642 43.90088504003125 L 10.244720104564628 43.81832618869791 L 10.603798069068562 43.73281910088141 L 10.962162576280843 43.64436952977082 L 11.319789514296557 43.55298342653488 L 11.676654820836802 43.45866693992153 L 12.032734484867646 43.36142641584427 L 12.388004548215722 43.2612683969551 L 12.742441107180142 43.15819962220442 L 13.09602031414086 43.0522270263875 L 13.4487183791632 42.94335773967795 L 13.800511571598507 42.83159908714798 L 14.151376221680882 42.71695858827551 L 14.501288722119632 42.59944395643828 L 14.850225529687807 42.47906309839482 L 15.198163166806122 42.3558241137525 L 15.545078223122676 42.22973529442255 L 15.890947357088091 42.10080512406211 L 16.235747297525908 41.96904227750355 L 16.579454845198484 41.834455620170615 L 16.92204687436779 41.69705420748208 L 17.263500334351445 41.55684728424243 L 17.603792251073664 41.413844284019795 L 17.94289972861091 41.268054828511296 L 18.280799950732572 41.119488726895625 L 18.617470182435973 40.968155975173055 L 18.952887771476128 40.814066755492895 L 19.287030149889826 40.65723143546841 L 19.61987483551409 40.497660567479215 L 19.95139943349886 40.3353648879613 L 20.281581637813765 40.17035531668466 L 20.61039923274894 40.00264295601857 L 20.9378300944098 39.832239090184565 L 21.26385219220558 39.65915518449724 L 21.58844359033165 39.48340288459276 L 21.911582449245387 39.304994015645406 L 22.233247027135633 39.123940581571844 L 22.553415681385584 38.9402547642235 L 22.872066870028874 38.75394892256695 L 23.189179153199124 38.56503559185231 L 23.50473119457238 38.373527482769894 L 23.818701762802704 38.179437480594956 L 24.131069732950767 37.98277864432074 L 24.441814087905072 37.78356420577981 L 24.750913919796165 37.5818075687538 L 25.05834843140332 37.377522308071555 L 25.364096937553878 37.170722168695754 L 25.668138866514973 36.96142106479814 L 25.970453761377705 36.74963307882329 L 26.271021281433505 36.53537246054114 L 26.569821203542777 36.31865362608819 L 26.866833423495496 36.09949115699756 L 27.162037957363975 35.877899799217886 L 27.45541494284737 35.65389446212115 L 27.746944640608127 35.427490217499574 L 28.036607435600086 35.198702298551495 L 28.324383838388243 34.96754609885645 L 28.610254486460075 34.73403717133946 L 28.894200145528302 34.49819122722454 L 29.17620171082503 34.26002413497765 L 29.45624020838718 34.01955191923895 L 29.73429679633313 33.77679075974468 L 30.010352766130435 33.531756990238485 L 30.28438954385462 33.28446709737245 L 30.55638869143886 33.034937719597835 L 30.8263319079146 32.78318564604554 L 31.094201030642857 32.529227815396546 L 31.359978036536283 32.27308131474219 L 31.623645043271814 32.01476337843449 L 31.885184310493834 31.75429138692655 L 32.14457824100784 31.491682865603188 L 32.401809381964384 31.226955483601742 L 32.65686042603341 30.960127052623235 L 50.79956066271863 48.16019763741392 L 50.40281459416682 48.575264085602704 L 50.00267726378998 48.98706223538273 L 49.599175594101524 49.39556437966352 L 49.19233673397838 49.800743033120305 L 48.78218805683422 50.20257093404341 L 48.36875715877778 50.601021046172406 L 47.952071856756056 50.99606656051528 L 47.532160186682674 51.38768089715217 L 47.10905040155163 51.775837707023804 L 46.682770969536236 52.160510873704304 L 46.25335057207376 52.541674515158384 L 45.820818101935615 52.9193029854828 L 45.38520266128338 53.29337087663189 L 44.9465335597107 53.663853020127064 L 44.504840312271234 54.03072448875026 L 44.06015263749282 54.39396059822114 L 43.61250045537791 54.75353690885787 L 43.161913885390426 55.109429227221554 L 42.70842324442925 55.461613607744006 L 42.25205904478841 55.81006635433893 L 41.792851992104104 56.1547640219962 L 41.33083298328876 56.495683418359405 L 40.86603310445213 56.83280160528621 L 40.39848362880977 57.166095900391774 L 39.92821601457885 57.49554387857487 L 39.455261902861594 57.821123373526724 L 38.97965311551628 58.142812479222414 L 38.501421653016266 58.4605895513948 L 38.020599692296784 58.774433208990814 L 37.53721958459008 59.08432233561003 L 37.051313853248665 59.39023608092548 L 36.56291519155703 59.6921538620865 L 36.07205646053198 59.99005536510358 L 35.57877068671159 60.28392054621524 L 35.08309105993313 60.57372963323655 L 34.58505093109989 60.85946312688953 L 34.08468380993727 61.14110180211508 L 33.582023362738134 61.418626709366514 L 33.07710341009757 61.69201917588459 L 32.56995792463747 61.96126080695376 L 32.060621028720576 62.226333487139996 L 31.549126992154743 62.487219381509476 L 31.035510229887134 62.74390093682868 L 30.519805299688585 62.99636088274545 L 30.00204689982862 63.24458223295086 L 29.482269866740644 63.488548286322285 L 28.960509172678183 63.72824262804697 L 28.436799923361793 63.963649130726516 L 27.91117735561697 64.19475195546202 L 27.383676835003474 64.42153555291968 L 26.854333853435598 64.64398466437711 L 26.32318402679434 64.86208432274991 L 25.79026309253097 65.07581985359873 L 25.255606907262525 65.28517687611662 L 24.71925144435925 65.49014130409662 L 24.18123279152418 65.69069934687951 L 23.641587148365076 65.88683751028167 L 23.10035082395881 66.07854259750306 L 22.557560234408317 66.2658017100151 L 22.013251900392483 66.44860224842857 L 21.467462444708804 66.6269319133413 L 20.920228589809422 66.8007787061657 L 20.371587155330243 66.9701309299361 L 19.821575055613554 67.13497719009577 L 19.270229297224468 67.2953063952635 L 18.717586976460797 67.45110775797997 L 18.163685276857247 67.60237079543349 L 17.60856146668355 67.74908533016536 L 17.052252896436865 67.89124149075461 L 16.49479699632889 68.02882971248219 L 15.936231273767214 68.16184073797453 L 15.376593310831886 68.29026561782638 L 14.815920761746689 68.41409571120299 L 14.254251350345603 68.53332268642146 L 13.691622867534786 68.64793852151132 L 13.128073168749658 68.75793550475433 L 12.563640171408052 68.86330623520324 L 11.998361852358919 68.96404362317989 L 11.43227624532715 69.0601408907521 L 10.865421438354556 69.15159157218976 L 10.297835571237119 69.23838951439991 L 9.729556832958927 69.32052887734068 L 9.160623459122625 69.39800413441421 L 8.591073729376824 69.47081007283859 L 8.02094596484054 69.53894179399848 L 7.450278525524758 69.60239471377479 L 6.879109807751555 69.66116456285307 L 6.307478241570597 69.71524738701078 L 5.735422288173466 69.76463954738334 L 5.162980437305883 69.80933772070895 L 4.5901912046779305 69.84933889955221 L 4.017093129372691 69.88464039250647 L 3.4437247712531502 69.9152398243749 L 2.870124708367779 69.9411351363303 L 2.2963315343549016 69.96232458605365 L 1.7223838558459246 69.97880674785132 L 1.1483202898678557 69.99058051275098 L 0.5741794612449667 69.99764508857626 L 4.2862637970157365e-15 70.0 Z",
          "type": "path"
         },
         {
          "layer": "below",
          "line": {
           "color": "rgba(0,0,0,0)"
          },
          "path": "M 58.718240135949785 46.66013582638756 L 59.28788663261722 45.93415394494524 L 59.848557767235775 45.201218270991795 L 60.40016866198789 44.461439760801895 L 60.94263581065046 43.71493040656046 L 61.47587709123639 42.961803219408715 L 61.99981177842684 42.20217221233575 L 62.51436055579185 41.436152382918664 L 63.01944552779777 40.66385969591339 L 63.51499023159953 39.885411065699394 L 64.0009196486161 39.10092433858034 L 64.47716021588724 38.310518274943874 L 64.94363983720987 37.514312531282876 L 65.40028789405248 36.712427642081266 L 65.84703525624582 35.90498500156658 L 66.28381429244816 35.09210684533271 L 66.7105588803838 34.27391623183506 L 67.12720441685308 33.45053702376123 L 67.53368782751232 32.62209386927997 L 67.9299475764225 31.7887121831711 L 68.31592367536487 30.950518127839487 L 68.69155769292239 30.107638594215835 L 69.05679276332538 29.260201182547114 L 69.41157359506023 28.408334183079738 L 69.7558464792398 27.552166556638102 L 70.08955929773417 26.691827915101758 L 70.41266153106055 25.827448501784012 L 70.72510426603134 24.959159171714823 L 71.0268402031588 24.087091371831214 L 71.3178236638156 23.211377121078023 L 71.59801059714991 22.33214899042207 L 71.86735858675408 21.449540082782775 L 72.1258268570859 20.563684012882195 L 72.37337627964145 19.67471488701761 L 72.60996937887862 18.78276728275973 L 72.83557033789037 17.887976228579465 L 73.05014500382693 16.99047718340658 L 73.25366089306604 16.090406016122994 L 73.44608719613056 15.187898984994176 L 73.62739478235255 14.283092717041537 L 73.79755620428328 13.376124187358966 L 73.95654570184841 12.467130698376774 L 74.10433920624762 11.556249859075923 L 74.2409143435984 10.643619564155976 L 74.36625043832312 9.729377973159833 L 74.48032851627892 8.813663489558115 L 74.58313130763028 7.896614739797016 L 74.67464324946337 6.978370552312028 L 74.75485048814201 6.059069936511297 L 74.82374088140499 5.138852061731598 L 74.88130400020424 4.217856236169853 L 74.92753113028355 3.296221885794035 L 74.96241527349795 2.3740885332358355 L 74.98595114887293 1.45159577666894 L 74.99813519340408 0.528883268675855 L 74.99896556259638 -0.39390930489365006 L 74.9884421307435 -1.3166422460689737 L 74.96656649094675 -2.239175865907031 L 74.93334195487397 -3.1613705056392325 L 74.88877355225816 -4.083086557813816 L 74.83286803013605 -5.004184487430576 L 74.76563385182675 -5.92452485306447 L 74.68708119565039 -6.843968327975046 L 74.5972219533874 -7.76237572119876 L 74.4960697284782 -8.679607998620321 L 74.38363983396381 -9.595526304020703 L 74.25994929016768 -10.509991980097983 L 74.12501682211912 -11.422866589458064 L 73.97886285671846 -12.334011935572347 L 73.82150951964483 -13.243290083698552 L 73.65298063200653 -14.150563381762272 L 73.47330170673493 -15.055694481195554 L 73.28249994472213 -15.958546357729482 L 73.08060423070313 -16.85898233213787 L 72.86764512888304 -17.75686609092851 L 72.64365487831019 -18.652061706979183 L 72.40866738799548 -19.544433660115114 L 72.16271823177904 -20.433846857624832 L 71.90584464294494 -21.320166654711365 L 71.63808550858445 -22.203258874875587 L 71.35948136370921 -23.082989830228605 L 71.07007438511467 -23.9592263417304 L 70.76990838499519 -24.83183575935108 L 70.45902880431147 -25.70068598215242 L 70.1374827059114 -26.565645478286033 L 69.8053187674054 -27.42658330490549 L 69.46258727379731 -28.283369127989182 L 69.10934010987198 -29.135873242071185 L 68.74563075234056 -29.983966589876783 L 68.37151426174493 -30.827520781859985 L 67.98704727412225 -31.666408115639932 L 67.59228799243112 -32.50050159533313 L 67.1872961777404 -33.32967495077908 L 66.77213314018219 -34.15380265665573 L 66.34686172967044 -34.97275995148214 L 65.91154632638624 -35.78642285650579 L 65.46625283103161 -36.594668194471254 L 65.01104865485301 -37.39737360826739 L 64.5460027094363 -38.194417579450565 L 64.0711853962743 -38.985679446641 L 85.4282471950324 -51.98090592885467 L 86.06133694591506 -50.92589010593409 L 86.68139820647069 -49.86316481102318 L 87.28833710804214 -48.79289092596167 L 87.88206176851497 -47.715230475341095 L 88.46248230622724 -46.630346601976186 L 89.02951085357626 -45.53840354220763 L 89.58306157032051 -44.43956660103881 L 90.12305065657483 -43.334002127110836 L 90.64939636549633 -42.22187748751991 L 91.1620190156599 -41.10336104248 L 91.66084100312074 -39.978622119835734 L 92.14578681316264 -38.847830989428246 L 92.61678303172975 -37.71115883731891 L 93.07375835654052 -36.56877773987399 L 93.51664360788186 -35.42086063771473 L 93.94537173908196 -34.26758130953656 L 94.35987784666025 -33.10911434580144 L 94.76009918015289 -31.9456351223072 L 95.14597515161228 -30.777319773638162 L 95.51744734477927 -29.604345166500785 L 95.87445952392659 -28.426888872948485 L 96.21695764237205 -27.245129143499774 L 96.54488985066064 -26.059244880153486 L 96.85820650441359 -24.869415609305598 L 97.15686017184406 -23.675821454571373 L 97.4408056409375 -22.47864310951716 L 97.70999992629618 -21.278061810305974 L 97.96440227564656 -20.07425930826074 L 98.2039741760087 -18.867417842349717 L 98.42867935952643 -17.65772011159809 L 98.63848380895796 -16.445349247429796 L 98.83335576282549 -15.230488785944107 L 99.01326572022357 -14.013322640130642 L 99.17818644528508 -12.794035072027604 L 99.32809297130427 -11.572810664827095 L 99.46296260451655 -10.34983429493168 L 99.58277492753386 -9.12529110396675 L 99.68751180243565 -7.899366470752627 L 99.77715737351474 -6.672245983240768 L 99.85169806967754 -5.444115410418422 L 99.91112260649861 -4.215160674185643 L 99.955421987929 -2.9855678212093966 L 99.984589507658 -1.755522994758654 L 99.99862075012851 -0.5252124065248667 L 99.99751359120543 0.7051776915678067 L 99.98126819849723 1.9354610355585868 L 99.9498870313306 3.1654513776477806 L 99.90337484037809 4.394962514392025 L 99.84173866693898 5.623808314893137 L 99.76498784187334 6.851802748975441 L 99.67313398418935 8.078759915348396 L 99.56619099928449 9.30449406974937 L 99.44417507684038 10.528819653062666 L 99.30710468837188 11.751551319410819 L 99.15500058443082 12.972503964213091 L 98.98788579146455 14.191492752207967 L 98.80578560833015 15.408333145434563 L 98.60872760246454 16.622840931169012 L 98.39674160571104 17.834832249811956 L 98.1698597098034 19.04412362272203 L 97.92811626150741 20.250531979992214 L 97.67154785742139 21.45387468816399 L 97.4001933384359 22.653969577875436 L 97.11409378385383 23.850634971439284 L 96.8132925051715 25.04368971034629 L 96.49783503952195 26.23295318269013 L 96.1677691427812 27.418245350509597 L 95.82314478233876 28.5993867770437 L 95.46401412953321 29.776198653896092 L 95.09043155175412 30.94850282810403 L 94.70245360421174 32.116121829108266 L 94.30013902137512 33.27887889561976 L 93.88354870808074 34.43659800237868 L 93.45274573031223 35.58910388680234 L 93.00779530565308 36.736222075517475 L 92.54876479341365 37.87777891077296 L 92.07572368443384 39.013601576729485 L 91.5887435905632 40.14351812562109 L 91.08789823381984 41.26735750378596 L 90.57326343523 42.384949577561464 L 90.04491710334977 43.49612515903994 L 89.50293922247077 44.600716031681635 L 88.94741184051173 45.698554975780056 L 88.37841905659755 46.789475793776916 L 87.79604700832775 47.87331333542211 L 87.20038385873664 48.94990352277502 L 86.59151978294649 50.019083375043834 L 85.96954695451633 51.080691033258475 L 85.33455953148815 52.13456578477377 L 84.68665364213271 53.18054808759919 L 84.02592737039703 54.218479594551184 L 83.35248074105581 55.24820317722487 L 82.66641570456913 56.269562949781005 L 81.96783612164852 57.28240429254495 L 81.25684774753394 58.28657387541395 L 80.53355821598387 59.28191968106918 L 79.79807702298103 60.26829102798905 L 79.0505155101563 61.24553859326029 L 78.29098684793304 62.21351443518341 Z",
          "type": "path"
         },
         {
          "layer": "above",
          "line": {
           "color": "black",
           "width": 1
          },
          "path": "M 58.718240135949785 46.66013582638756 L 59.28788663261722 45.93415394494524 L 59.848557767235775 45.201218270991795 L 60.40016866198789 44.461439760801895 L 60.94263581065046 43.71493040656046 L 61.47587709123639 42.961803219408715 L 61.99981177842684 42.20217221233575 L 62.51436055579185 41.436152382918664 L 63.01944552779777 40.66385969591339 L 63.51499023159953 39.885411065699394 L 64.0009196486161 39.10092433858034 L 64.47716021588724 38.310518274943874 L 64.94363983720987 37.514312531282876 L 65.40028789405248 36.712427642081266 L 65.84703525624582 35.90498500156658 L 66.28381429244816 35.09210684533271 L 66.7105588803838 34.27391623183506 L 67.12720441685308 33.45053702376123 L 67.53368782751232 32.62209386927997 L 67.9299475764225 31.7887121831711 L 68.31592367536487 30.950518127839487 L 68.69155769292239 30.107638594215835 L 69.05679276332538 29.260201182547114 L 69.41157359506023 28.408334183079738 L 69.7558464792398 27.552166556638102 L 70.08955929773417 26.691827915101758 L 70.41266153106055 25.827448501784012 L 70.72510426603134 24.959159171714823 L 71.0268402031588 24.087091371831214 L 71.3178236638156 23.211377121078023 L 71.59801059714991 22.33214899042207 L 71.86735858675408 21.449540082782775 L 72.1258268570859 20.563684012882195 L 72.37337627964145 19.67471488701761 L 72.60996937887862 18.78276728275973 L 72.83557033789037 17.887976228579465 L 73.05014500382693 16.99047718340658 L 73.25366089306604 16.090406016122994 L 73.44608719613056 15.187898984994176 L 73.62739478235255 14.283092717041537 L 73.79755620428328 13.376124187358966 L 73.95654570184841 12.467130698376774 L 74.10433920624762 11.556249859075923 L 74.2409143435984 10.643619564155976 L 74.36625043832312 9.729377973159833 L 74.48032851627892 8.813663489558115 L 74.58313130763028 7.896614739797016 L 74.67464324946337 6.978370552312028 L 74.75485048814201 6.059069936511297 L 74.82374088140499 5.138852061731598 L 74.88130400020424 4.217856236169853 L 74.92753113028355 3.296221885794035 L 74.96241527349795 2.3740885332358355 L 74.98595114887293 1.45159577666894 L 74.99813519340408 0.528883268675855 L 74.99896556259638 -0.39390930489365006 L 74.9884421307435 -1.3166422460689737 L 74.96656649094675 -2.239175865907031 L 74.93334195487397 -3.1613705056392325 L 74.88877355225816 -4.083086557813816 L 74.83286803013605 -5.004184487430576 L 74.76563385182675 -5.92452485306447 L 74.68708119565039 -6.843968327975046 L 74.5972219533874 -7.76237572119876 L 74.4960697284782 -8.679607998620321 L 74.38363983396381 -9.595526304020703 L 74.25994929016768 -10.509991980097983 L 74.12501682211912 -11.422866589458064 L 73.97886285671846 -12.334011935572347 L 73.82150951964483 -13.243290083698552 L 73.65298063200653 -14.150563381762272 L 73.47330170673493 -15.055694481195554 L 73.28249994472213 -15.958546357729482 L 73.08060423070313 -16.85898233213787 L 72.86764512888304 -17.75686609092851 L 72.64365487831019 -18.652061706979183 L 72.40866738799548 -19.544433660115114 L 72.16271823177904 -20.433846857624832 L 71.90584464294494 -21.320166654711365 L 71.63808550858445 -22.203258874875587 L 71.35948136370921 -23.082989830228605 L 71.07007438511467 -23.9592263417304 L 70.76990838499519 -24.83183575935108 L 70.45902880431147 -25.70068598215242 L 70.1374827059114 -26.565645478286033 L 69.8053187674054 -27.42658330490549 L 69.46258727379731 -28.283369127989182 L 69.10934010987198 -29.135873242071185 L 68.74563075234056 -29.983966589876783 L 68.37151426174493 -30.827520781859985 L 67.98704727412225 -31.666408115639932 L 67.59228799243112 -32.50050159533313 L 67.1872961777404 -33.32967495077908 L 66.77213314018219 -34.15380265665573 L 66.34686172967044 -34.97275995148214 L 65.91154632638624 -35.78642285650579 L 65.46625283103161 -36.594668194471254 L 65.01104865485301 -37.39737360826739 L 64.5460027094363 -38.194417579450565 L 64.0711853962743 -38.985679446641 L 85.4282471950324 -51.98090592885467 L 86.06133694591506 -50.92589010593409 L 86.68139820647069 -49.86316481102318 L 87.28833710804214 -48.79289092596167 L 87.88206176851497 -47.715230475341095 L 88.46248230622724 -46.630346601976186 L 89.02951085357626 -45.53840354220763 L 89.58306157032051 -44.43956660103881 L 90.12305065657483 -43.334002127110836 L 90.64939636549633 -42.22187748751991 L 91.1620190156599 -41.10336104248 L 91.66084100312074 -39.978622119835734 L 92.14578681316264 -38.847830989428246 L 92.61678303172975 -37.71115883731891 L 93.07375835654052 -36.56877773987399 L 93.51664360788186 -35.42086063771473 L 93.94537173908196 -34.26758130953656 L 94.35987784666025 -33.10911434580144 L 94.76009918015289 -31.9456351223072 L 95.14597515161228 -30.777319773638162 L 95.51744734477927 -29.604345166500785 L 95.87445952392659 -28.426888872948485 L 96.21695764237205 -27.245129143499774 L 96.54488985066064 -26.059244880153486 L 96.85820650441359 -24.869415609305598 L 97.15686017184406 -23.675821454571373 L 97.4408056409375 -22.47864310951716 L 97.70999992629618 -21.278061810305974 L 97.96440227564656 -20.07425930826074 L 98.2039741760087 -18.867417842349717 L 98.42867935952643 -17.65772011159809 L 98.63848380895796 -16.445349247429796 L 98.83335576282549 -15.230488785944107 L 99.01326572022357 -14.013322640130642 L 99.17818644528508 -12.794035072027604 L 99.32809297130427 -11.572810664827095 L 99.46296260451655 -10.34983429493168 L 99.58277492753386 -9.12529110396675 L 99.68751180243565 -7.899366470752627 L 99.77715737351474 -6.672245983240768 L 99.85169806967754 -5.444115410418422 L 99.91112260649861 -4.215160674185643 L 99.955421987929 -2.9855678212093966 L 99.984589507658 -1.755522994758654 L 99.99862075012851 -0.5252124065248667 L 99.99751359120543 0.7051776915678067 L 99.98126819849723 1.9354610355585868 L 99.9498870313306 3.1654513776477806 L 99.90337484037809 4.394962514392025 L 99.84173866693898 5.623808314893137 L 99.76498784187334 6.851802748975441 L 99.67313398418935 8.078759915348396 L 99.56619099928449 9.30449406974937 L 99.44417507684038 10.528819653062666 L 99.30710468837188 11.751551319410819 L 99.15500058443082 12.972503964213091 L 98.98788579146455 14.191492752207967 L 98.80578560833015 15.408333145434563 L 98.60872760246454 16.622840931169012 L 98.39674160571104 17.834832249811956 L 98.1698597098034 19.04412362272203 L 97.92811626150741 20.250531979992214 L 97.67154785742139 21.45387468816399 L 97.4001933384359 22.653969577875436 L 97.11409378385383 23.850634971439284 L 96.8132925051715 25.04368971034629 L 96.49783503952195 26.23295318269013 L 96.1677691427812 27.418245350509597 L 95.82314478233876 28.5993867770437 L 95.46401412953321 29.776198653896092 L 95.09043155175412 30.94850282810403 L 94.70245360421174 32.116121829108266 L 94.30013902137512 33.27887889561976 L 93.88354870808074 34.43659800237868 L 93.45274573031223 35.58910388680234 L 93.00779530565308 36.736222075517475 L 92.54876479341365 37.87777891077296 L 92.07572368443384 39.013601576729485 L 91.5887435905632 40.14351812562109 L 91.08789823381984 41.26735750378596 L 90.57326343523 42.384949577561464 L 90.04491710334977 43.49612515903994 L 89.50293922247077 44.600716031681635 L 88.94741184051173 45.698554975780056 L 88.37841905659755 46.789475793776916 L 87.79604700832775 47.87331333542211 L 87.20038385873664 48.94990352277502 L 86.59151978294649 50.019083375043834 L 85.96954695451633 51.080691033258475 L 85.33455953148815 52.13456578477377 L 84.68665364213271 53.18054808759919 L 84.02592737039703 54.218479594551184 L 83.35248074105581 55.24820317722487 L 82.66641570456913 56.269562949781005 L 81.96783612164852 57.28240429254495 L 81.25684774753394 58.28657387541395 L 80.53355821598387 59.28191968106918 L 79.79807702298103 60.26829102798905 L 79.0505155101563 61.24553859326029 L 78.29098684793304 62.21351443518341 Z",
          "type": "path"
         },
         {
          "layer": "above",
          "line": {
           "color": "black",
           "width": 1
          },
          "path": "M 78.29098684793304 62.21351443518341 L 79.8568065848917 63.45778472388708",
          "type": "path"
         },
         {
          "layer": "above",
          "line": {
           "color": "black",
           "width": 1
          },
          "path": "M 83.07956316174065 55.65775943077789 L 84.74115442497546 56.770914619393444",
          "type": "path"
         },
         {
          "layer": "above",
          "line": {
           "color": "black",
           "width": 1
          },
          "path": "M 87.32057547721958 48.73517311272423 L 89.06698698676396 49.70987657497872",
          "type": "path"
         },
         {
          "layer": "above",
          "line": {
           "color": "black",
           "width": 1
          },
          "path": "M 90.98607196636243 41.49138113068685 L 92.80579340568967 42.32120875330059",
          "type": "path"
         },
         {
          "layer": "above",
          "line": {
           "color": "black",
           "width": 1
          },
          "path": "M 94.05189393313049 33.974126149044274 L 95.9329318117931 34.653608672025165",
          "type": "path"
         },
         {
          "layer": "above",
          "line": {
           "color": "black",
           "width": 1
          },
          "path": "M 96.49783503952195 26.23295318269013 L 98.42779174031237 26.757612246343935",
          "type": "path"
         },
         {
          "layer": "above",
          "line": {
           "color": "black",
           "width": 1
          },
          "path": "M 98.307774482286 18.318883053832653 L 100.27392997193172 18.685260714909308",
          "type": "path"
         },
         {
          "layer": "above",
          "line": {
           "color": "black",
           "width": 1
          },
          "path": "M 99.4697832425365 10.284076121986141 L 101.45917890738723 10.489757644425865",
          "type": "path"
         },
         {
          "layer": "above",
          "line": {
           "color": "black",
           "width": 1
          },
          "path": "M 99.97620270799091 2.1814885034561096 L 101.97572676215073 2.225118273525232",
          "type": "path"
         },
         {
          "layer": "above",
          "line": {
           "color": "black",
           "width": 1
          },
          "path": "M 99.82369514964849 -5.935476953880523 L 101.82016905264145 -6.0541864929581335",
          "type": "path"
         },
         {
          "layer": "above",
          "line": {
           "color": "black",
           "width": 1
          },
          "path": "M 99.01326572022357 -14.013322640130642 L 100.99353103462805 -14.293589092933257",
          "type": "path"
         },
         {
          "layer": "above",
          "line": {
           "color": "black",
           "width": 1
          },
          "path": "M 97.55025582934634 -21.99880877750156 L 99.50126094593327 -22.438784953051588",
          "type": "path"
         },
         {
          "layer": "above",
          "line": {
           "color": "black",
           "width": 1
          },
          "path": "M 95.44430793919348 -29.839304315087684 L 97.35319409797734 -30.436090401389436",
          "type": "path"
         },
         {
          "layer": "above",
          "line": {
           "color": "black",
           "width": 1
          },
          "path": "M 92.70930201257552 -37.48313381163667 L 94.56348805282704 -38.23279648786941",
          "type": "path"
         },
         {
          "layer": "above",
          "line": {
           "color": "black",
           "width": 1
          },
          "path": "M 89.36326403234122 -44.87991802004622 L 91.15052931298806 -45.777516380447146",
          "type": "path"
         },
         {
          "layer": "above",
          "line": {
           "color": "black",
           "width": 1
          },
          "path": "M 85.4282471950324 -51.98090592885467 L 87.13681213893305 -53.02052404743176",
          "type": "path"
         },
         {
          "layer": "below",
          "line": {
           "color": "rgba(0,0,0,0)"
          },
          "path": "M 35.23094408156987 27.996081495832538 L 35.572731979570335 27.560492366967143 L 35.909134660341465 27.12073096259508 L 36.240101197192736 26.676863856481138 L 36.56558148639027 26.228958243936276 L 36.88552625474183 25.777081931645228 L 37.1998870670561 25.321303327401452 L 37.50861633347511 24.8616914297512 L 37.81166731667866 24.39831581754803 L 38.10899413895972 23.931246639419633 L 38.40055178916966 23.460554603148207 L 38.686296129532344 22.98631096496632 L 38.96618390232592 22.508587518769726 L 39.24017273643149 22.027456585248757 L 39.508221153747485 21.54299100093995 L 39.77028857546889 21.055264107199623 L 40.026335328230275 20.564349739101033 L 40.276322650111844 20.070322214256738 L 40.52021269650739 19.573256321567982 L 40.7579685458535 19.07322730990266 L 40.98955420521892 18.570310876703694 L 41.214934615753435 18.0645831565295 L 41.43407565799523 17.55612070952827 L 41.646944157036145 17.045000509847842 L 41.853507887543884 16.53129993398286 L 42.0537355786405 16.015096749061055 L 42.24759691863633 15.496469101070407 L 42.4350625596188 14.975495503028894 L 42.616104121895276 14.452254823098729 L 42.79069419828936 13.926826272646814 L 42.95880635828995 13.399289394253241 L 43.120415152052445 12.869724049669665 L 43.27549611425154 12.338210407729319 L 43.42402576778487 11.804828932210567 L 43.56598162732717 11.269660369655838 L 43.701342202734224 10.732785737147678 L 43.83008700229615 10.194286310043948 L 43.952196535839626 9.654243609673795 L 44.06765231767834 9.112739390996506 L 44.17643686941153 8.569855630224923 L 44.27853372256997 8.02567451241538 L 44.373927421109045 7.480278419026065 L 44.46260352374857 6.933749915445554 L 44.54454860615905 6.386171738493585 L 44.61975026299387 5.8376267838959 L 44.688197109767344 5.288198093734868 L 44.74987878457817 4.7379688438782095 L 44.80478594967802 4.187022331387217 L 44.852910292885205 3.6354419619067784 L 44.894244528843 3.0833112370389584 L 44.92878240012254 2.5307137417019114 L 44.956518678170134 1.9777331314764208 L 44.97744916409877 1.4244531199415014 L 44.99157068932375 0.870957466001364 L 44.99888111604245 0.31732996120551304 L 44.999379337557826 -0.23634558293619 L 44.993065278446096 -0.7899853476413843 L 44.97993989456805 -1.3435055195442185 L 44.960005172924376 -1.8968223033835394 L 44.933264131354896 -2.44985193468829 L 44.89972081808163 -3.002510692458346 L 44.85938031109605 -3.554714911838682 L 44.81224871739023 -4.1063809967850275 L 44.758333172032444 -4.657425432719256 L 44.69764183708692 -5.2077647991721925 L 44.630183900378285 -5.757315782412422 L 44.55596957410061 -6.305995188058789 L 44.47501009327147 -6.8537199536748385 L 44.38731771403108 -7.400407161343408 L 44.2929057117869 -7.945974050219131 L 44.19178837920391 -8.490338029057362 L 44.08398102404095 -9.033416688717333 L 43.96949996683328 -9.575127814637689 L 43.848362538421874 -10.115389399282723 L 43.720587077329824 -10.654119654557107 L 43.586192926986115 -11.19123702418751 L 43.445200432797286 -11.72666019606907 L 43.297630939067425 -12.260308114574899 L 43.14350678576697 -12.792099992826818 L 42.982851305150675 -13.321955324925353 L 42.815688818225524 -13.849793898137163 L 42.6420446310688 -14.37553580503824 L 42.461945030997114 -14.899101455610648 L 42.275417282586886 -15.420411589291453 L 42.08248962354684 -15.939387286971622 L 41.88319126044323 -16.455949982943295 L 41.67755236427839 -16.97002147679351 L 41.46560406592319 -17.48152394524271 L 41.24737845140434 -17.99037995392607 L 41.02290855704696 -18.49651246911599 L 40.792228364473345 -18.99984486938396 L 40.55537279545867 -19.500300957199876 L 40.31237770664424 -19.99780497046745 L 40.06327988410931 -20.492281593993436 L 39.80811703780226 -20.983655970889284 L 39.54692779583175 -21.471853713903474 L 39.279751698618966 -21.956800916682752 L 39.00662919291181 -22.43842416496043 L 38.72760162566178 -22.91665054767034 L 38.442711237764584 -23.391407667984602 L 59.79977303652268 -36.38663415019827 L 60.24293586214054 -35.648123074153865 L 60.67697874452948 -34.904215367716226 L 61.101835975629506 -34.15502364817317 L 61.517443237960485 -33.400661332738764 L 61.92373761435907 -32.64124262138333 L 62.32065759750338 -31.876882479545344 L 62.70814309922436 -31.10769662072717 L 63.08613545960238 -30.333801488977585 L 63.45457745584743 -29.555314241263936 L 63.813413310961934 -28.772352729736003 L 64.16258870218452 -27.985035483885014 L 64.50205076921385 -27.19348169259977 L 64.83174812221083 -26.397811186123235 L 65.15163084957837 -25.59814441791179 L 65.4616505255173 -24.794602446400315 L 65.76176021735738 -23.987306916675593 L 66.05191449266218 -23.176380042061005 L 66.33206942610703 -22.36194458561504 L 66.6021826061286 -21.544123841546714 L 66.86221314134549 -20.72304161655055 L 67.11212166674862 -19.89882221106394 L 67.35187034966044 -19.071590400449843 L 67.58142289546244 -18.24147141610744 L 67.80074455308952 -17.40859092651392 L 68.00980212029084 -16.57307501819996 L 68.20856394865625 -15.735050176662012 L 68.39699994840733 -14.894643267214184 L 68.5750815929526 -14.051981515782517 L 68.7427819232061 -13.207192489644802 L 68.9000755516685 -12.36040407811866 L 69.04693866627056 -11.511744473200858 L 69.18334903397785 -10.661342150160875 L 69.3092860041565 -9.80932584809145 L 69.42473051169955 -8.955824550419322 L 69.52966507991299 -8.100967465378966 L 69.62407382316158 -7.244884006452176 L 69.7079424492737 -6.3877037727767245 L 69.78125826170496 -5.529556529526839 L 69.84401016146032 -4.670572188268538 L 69.89618864877428 -3.8108807872928954 L 69.93778582454902 -2.9506124719299502 L 69.9687953915503 -2.0898974748465773 L 69.9892126553606 -1.2288660963310578 L 69.99903452508995 -0.3676486845674067 L 69.9982595138438 0.49362438409746473 L 69.98688773894806 1.3548227248910107 L 69.96492092193142 2.2158159643534465 L 69.93236238826466 3.076473760074417 L 69.88921706685728 3.936665820425196 L 69.83549148931134 4.796261924282809 L 69.77119378893254 5.655131940743877 L 69.69633369949914 6.51314584882456 L 69.61092255378827 7.370173757143866 L 69.51497328186032 8.226085923587574 L 69.40850040910158 9.080752774949165 L 69.29152005402518 9.934044926545578 L 69.16404992583111 10.785833201804195 L 69.02610932172517 11.635988651818307 L 68.87771912399774 12.484382574868368 L 68.71890179686238 13.33088653590542 L 68.54968138305519 14.17537238599455 L 68.37008350019498 15.017712281714793 L 68.18013533690514 15.857778704512807 L 67.97986564869768 16.6954444800075 L 67.76930475362005 17.530582797242403 L 67.54848452766535 18.363067227883093 L 67.31743839994684 19.192771745356715 L 67.07620134763714 20.01957074393059 L 66.82480989067325 20.843339057727263 L 66.56330208622789 21.66395197967282 L 66.29171752294822 22.481285280375783 L 66.01009731496258 23.295215226933834 L 65.7184840956565 24.10561860166508 L 65.41692201121856 24.91237272076164 L 65.10545671395715 25.71535545286223 L 64.78413535538955 26.514445237541075 L 64.45300657910369 27.30952110371064 L 64.11212051339423 28.100462687934765 L 63.76152876367389 28.887150252650173 L 63.401284404661 29.669464704293027 L 63.031441972344844 30.447287611327962 L 62.65205745572954 31.220501222177145 L 62.263188288358215 31.988988483046036 L 61.864893339618284 32.75263305564384 L 61.45723290582942 33.51131933479547 L 61.04026870111565 34.264932465942515 L 60.61406384806254 35.01335836253069 L 60.17868286816143 35.75648372328093 L 59.7341916720417 36.49419604934164 L 59.2806575494929 37.22638366131943 L 58.818149159277915 37.95293571618583 L 58.34673651873907 38.67374222405741 L 57.86649099319839 39.3886940648467 L 57.377485285153966 40.097683004781466 L 56.87979342327376 40.800601712789764 L 56.37349075118871 41.49734377674843 L 55.85865391608673 42.18780371959234 L 55.335360857109414 42.87187701528221 L 54.80369079355313 43.54946010462839 Z",
          "type": "path"
         },
         {
          "layer": "above",
          "line": {
           "color": "black",
           "width": 1
          },
          "path": "M 35.23094408156987 27.996081495832538 L 35.572731979570335 27.560492366967143 L 35.909134660341465 27.12073096259508 L 36.240101197192736 26.676863856481138 L 36.56558148639027 26.228958243936276 L 36.88552625474183 25.777081931645228 L 37.1998870670561 25.321303327401452 L 37.50861633347511 24.8616914297512 L 37.81166731667866 24.39831581754803 L 38.10899413895972 23.931246639419633 L 38.40055178916966 23.460554603148207 L 38.686296129532344 22.98631096496632 L 38.96618390232592 22.508587518769726 L 39.24017273643149 22.027456585248757 L 39.508221153747485 21.54299100093995 L 39.77028857546889 21.055264107199623 L 40.026335328230275 20.564349739101033 L 40.276322650111844 20.070322214256738 L 40.52021269650739 19.573256321567982 L 40.7579685458535 19.07322730990266 L 40.98955420521892 18.570310876703694 L 41.214934615753435 18.0645831565295 L 41.43407565799523 17.55612070952827 L 41.646944157036145 17.045000509847842 L 41.853507887543884 16.53129993398286 L 42.0537355786405 16.015096749061055 L 42.24759691863633 15.496469101070407 L 42.4350625596188 14.975495503028894 L 42.616104121895276 14.452254823098729 L 42.79069419828936 13.926826272646814 L 42.95880635828995 13.399289394253241 L 43.120415152052445 12.869724049669665 L 43.27549611425154 12.338210407729319 L 43.42402576778487 11.804828932210567 L 43.56598162732717 11.269660369655838 L 43.701342202734224 10.732785737147678 L 43.83008700229615 10.194286310043948 L 43.952196535839626 9.654243609673795 L 44.06765231767834 9.112739390996506 L 44.17643686941153 8.569855630224923 L 44.27853372256997 8.02567451241538 L 44.373927421109045 7.480278419026065 L 44.46260352374857 6.933749915445554 L 44.54454860615905 6.386171738493585 L 44.61975026299387 5.8376267838959 L 44.688197109767344 5.288198093734868 L 44.74987878457817 4.7379688438782095 L 44.80478594967802 4.187022331387217 L 44.852910292885205 3.6354419619067784 L 44.894244528843 3.0833112370389584 L 44.92878240012254 2.5307137417019114 L 44.956518678170134 1.9777331314764208 L 44.97744916409877 1.4244531199415014 L 44.99157068932375 0.870957466001364 L 44.99888111604245 0.31732996120551304 L 44.999379337557826 -0.23634558293619 L 44.993065278446096 -0.7899853476413843 L 44.97993989456805 -1.3435055195442185 L 44.960005172924376 -1.8968223033835394 L 44.933264131354896 -2.44985193468829 L 44.89972081808163 -3.002510692458346 L 44.85938031109605 -3.554714911838682 L 44.81224871739023 -4.1063809967850275 L 44.758333172032444 -4.657425432719256 L 44.69764183708692 -5.2077647991721925 L 44.630183900378285 -5.757315782412422 L 44.55596957410061 -6.305995188058789 L 44.47501009327147 -6.8537199536748385 L 44.38731771403108 -7.400407161343408 L 44.2929057117869 -7.945974050219131 L 44.19178837920391 -8.490338029057362 L 44.08398102404095 -9.033416688717333 L 43.96949996683328 -9.575127814637689 L 43.848362538421874 -10.115389399282723 L 43.720587077329824 -10.654119654557107 L 43.586192926986115 -11.19123702418751 L 43.445200432797286 -11.72666019606907 L 43.297630939067425 -12.260308114574899 L 43.14350678576697 -12.792099992826818 L 42.982851305150675 -13.321955324925353 L 42.815688818225524 -13.849793898137163 L 42.6420446310688 -14.37553580503824 L 42.461945030997114 -14.899101455610648 L 42.275417282586886 -15.420411589291453 L 42.08248962354684 -15.939387286971622 L 41.88319126044323 -16.455949982943295 L 41.67755236427839 -16.97002147679351 L 41.46560406592319 -17.48152394524271 L 41.24737845140434 -17.99037995392607 L 41.02290855704696 -18.49651246911599 L 40.792228364473345 -18.99984486938396 L 40.55537279545867 -19.500300957199876 L 40.31237770664424 -19.99780497046745 L 40.06327988410931 -20.492281593993436 L 39.80811703780226 -20.983655970889284 L 39.54692779583175 -21.471853713903474 L 39.279751698618966 -21.956800916682752 L 39.00662919291181 -22.43842416496043 L 38.72760162566178 -22.91665054767034 L 38.442711237764584 -23.391407667984602 L 59.79977303652268 -36.38663415019827 L 60.24293586214054 -35.648123074153865 L 60.67697874452948 -34.904215367716226 L 61.101835975629506 -34.15502364817317 L 61.517443237960485 -33.400661332738764 L 61.92373761435907 -32.64124262138333 L 62.32065759750338 -31.876882479545344 L 62.70814309922436 -31.10769662072717 L 63.08613545960238 -30.333801488977585 L 63.45457745584743 -29.555314241263936 L 63.813413310961934 -28.772352729736003 L 64.16258870218452 -27.985035483885014 L 64.50205076921385 -27.19348169259977 L 64.83174812221083 -26.397811186123235 L 65.15163084957837 -25.59814441791179 L 65.4616505255173 -24.794602446400315 L 65.76176021735738 -23.987306916675593 L 66.05191449266218 -23.176380042061005 L 66.33206942610703 -22.36194458561504 L 66.6021826061286 -21.544123841546714 L 66.86221314134549 -20.72304161655055 L 67.11212166674862 -19.89882221106394 L 67.35187034966044 -19.071590400449843 L 67.58142289546244 -18.24147141610744 L 67.80074455308952 -17.40859092651392 L 68.00980212029084 -16.57307501819996 L 68.20856394865625 -15.735050176662012 L 68.39699994840733 -14.894643267214184 L 68.5750815929526 -14.051981515782517 L 68.7427819232061 -13.207192489644802 L 68.9000755516685 -12.36040407811866 L 69.04693866627056 -11.511744473200858 L 69.18334903397785 -10.661342150160875 L 69.3092860041565 -9.80932584809145 L 69.42473051169955 -8.955824550419322 L 69.52966507991299 -8.100967465378966 L 69.62407382316158 -7.244884006452176 L 69.7079424492737 -6.3877037727767245 L 69.78125826170496 -5.529556529526839 L 69.84401016146032 -4.670572188268538 L 69.89618864877428 -3.8108807872928954 L 69.93778582454902 -2.9506124719299502 L 69.9687953915503 -2.0898974748465773 L 69.9892126553606 -1.2288660963310578 L 69.99903452508995 -0.3676486845674067 L 69.9982595138438 0.49362438409746473 L 69.98688773894806 1.3548227248910107 L 69.96492092193142 2.2158159643534465 L 69.93236238826466 3.076473760074417 L 69.88921706685728 3.936665820425196 L 69.83549148931134 4.796261924282809 L 69.77119378893254 5.655131940743877 L 69.69633369949914 6.51314584882456 L 69.61092255378827 7.370173757143866 L 69.51497328186032 8.226085923587574 L 69.40850040910158 9.080752774949165 L 69.29152005402518 9.934044926545578 L 69.16404992583111 10.785833201804195 L 69.02610932172517 11.635988651818307 L 68.87771912399774 12.484382574868368 L 68.71890179686238 13.33088653590542 L 68.54968138305519 14.17537238599455 L 68.37008350019498 15.017712281714793 L 68.18013533690514 15.857778704512807 L 67.97986564869768 16.6954444800075 L 67.76930475362005 17.530582797242403 L 67.54848452766535 18.363067227883093 L 67.31743839994684 19.192771745356715 L 67.07620134763714 20.01957074393059 L 66.82480989067325 20.843339057727263 L 66.56330208622789 21.66395197967282 L 66.29171752294822 22.481285280375783 L 66.01009731496258 23.295215226933834 L 65.7184840956565 24.10561860166508 L 65.41692201121856 24.91237272076164 L 65.10545671395715 25.71535545286223 L 64.78413535538955 26.514445237541075 L 64.45300657910369 27.30952110371064 L 64.11212051339423 28.100462687934765 L 63.76152876367389 28.887150252650173 L 63.401284404661 29.669464704293027 L 63.031441972344844 30.447287611327962 L 62.65205745572954 31.220501222177145 L 62.263188288358215 31.988988483046036 L 61.864893339618284 32.75263305564384 L 61.45723290582942 33.51131933479547 L 61.04026870111565 34.264932465942515 L 60.61406384806254 35.01335836253069 L 60.17868286816143 35.75648372328093 L 59.7341916720417 36.49419604934164 L 59.2806575494929 37.22638366131943 L 58.818149159277915 37.95293571618583 L 58.34673651873907 38.67374222405741 L 57.86649099319839 39.3886940648467 L 57.377485285153966 40.097683004781466 L 56.87979342327376 40.800601712789764 L 56.37349075118871 41.49734377674843 L 55.85865391608673 42.18780371959234 L 55.335360857109414 42.87187701528221 L 54.80369079355313 43.54946010462839 Z",
          "type": "path"
         },
         {
          "layer": "below",
          "line": {
           "color": "rgba(0,0,0,0)"
          },
          "path": "M 60.42954934352763 -44.421498918183296 L 59.9893798544637 -45.014156714047914 L 59.54339814164384 -45.60245319876644 L 59.09164741514146 -46.1863313737366 L 58.6341714439755 -46.76573466843527 L 58.171014551869845 -47.34060694589949 L 57.7022216129588 -47.91089250816551 L 57.22783804743949 -48.47653610166507 L 56.74790981717108 -49.03748292257891 L 56.262483421221695 -49.59367862214652 L 55.771605891363265 -50.1450693119319 L 55.275324787514656 -50.69160156904462 L 54.77368819313381 -51.23322244131589 L 54.26674471055894 -51.76987945242894 L 53.75454345629968 -52.30152060700329 L 53.23713405627825 -52.828094395632505 L 52.71456664102127 -53.34954979987486 L 52.186891840802865 -53.86583629719624 L 51.65416078073911 -54.376903865865266 L 51.11642507583473 -54.88270298979975 L 50.57373682598214 -55.38318466336418 L 50.02614861091374 -55.87830039611776 L 49.47371348510747 -56.368002217512505 L 48.916484972646614 -56.85224268154104 L 48.35451706203392 -57.33097487133348 L 47.78786420096069 -57.804152403703135 L 47.216581291031694 -58.271729433640424 L 46.64072368244572 -58.73366065875468 L 46.06034716863288 -59.18990132366343 L 45.47550798084893 -59.640407224328584 L 44.88626278272715 -60.08513471233932 L 44.292668664788344 -60.524040699141004 L 43.69478313890947 -60.95708266020998 L 43.09266413275152 -61.38421863917362 L 42.486369984146904 -61.80540725187547 L 41.8759594354474 -62.22060769038473 L 41.261491627832676 -62.62977972695013 L 40.64302609558027 -63.03288371789745 L 40.020622760297414 -63.42988060747052 L 39.39434192511544 -63.820731931615235 L 38.764244268847094 -64.20539982170624 L 38.130390840107594 -64.58384700821591 L 37.49284305139972 -64.95603682432532 L 36.85166267316365 -65.32193320947687 L 36.20691182779233 -65.68150071286794 L 35.55865298361249 -66.03470449688578 L 34.90694894883221 -66.38151034048278 L 34.25186286545568 -66.72188464249206 L 33.59345820316545 -67.05579442488305 L 32.93179875317302 -67.38320733595657 L 32.26694862203833 -67.70409165347941 L 31.598972225458557 -68.01841628775767 L 30.92793428202701 -68.3261507846492 L 30.25389980696284 -68.62726532851396 L 29.576934105811752 -68.92173074510295 L 28.89710276811876 -69.2095185043848 L 28.214471661073365 -69.49060072330997 L 27.52910692312785 -69.76495016851223 L 26.841074957589278 -70.0325402589473 L 26.150442426185858 -70.29334506846817 L 25.45727624260827 -70.54733932833706 L 24.761643566026432 -70.79449842967362 L 24.063611794582815 -71.03479842583926 L 23.363248558862267 -71.26821603475719 L 22.660621715339495 -71.49472864116825 L 21.9557993398046 -71.71431429882207 L 21.248849720767392 -71.92695173260329 L 20.539841352841087 -72.13262034059292 L 19.82884293010602 -72.33130019606439 L 19.115923339454095 -72.52297204941421 L 18.401151653914347 -72.70761733002702 L 17.68459712596085 -72.88521814807484 L 16.966329180802862 -73.05575729625036 L 16.246417409658427 -73.21921825143414 L 15.52493156301186 -73.37558517629552 L 14.801941543855781 -73.52484292082694 L 14.077517400918403 -73.66697702381197 L 13.351729321876656 -73.80197371422624 L 12.624647626555936 -73.92981991257179 L 11.89634276011684 -74.05050323214432 L 11.166885286230114 -74.16401198023323 L 10.436345880239777 -74.27033515925454 L 9.704795322315592 -74.36946246781646 L 8.972304490595354 -74.46138430171737 L 8.238944354317672 -74.54609175487644 L 7.5047859669459465 -74.62357662019645 L 6.769900459284163 -74.69383139035902 L 6.0343590325852405 -74.75684925855194 L 5.298232951652351 -74.81262411912861 L 4.561593537934613 -74.86115056819975 L 3.824512162616466 -74.90242390415679 L 3.0870602397030567 -74.93644012812754 L 2.3493092191009444 -74.96319594436358 L 1.6113305796955306 -74.98268876055951 L 0.873195822425644 -74.99491668810425 L 0.1349764633559889 -74.99987854226393 L -0.6032559732518357 -74.99757384229663 L -1.3414299618693135 -74.98800281149911 L -2.0794739826305775 -74.97116637718506 L -2.8173165282622605 -74.94706617059524 L -3.7564220376830137 -99.92942156079364 L -2.77263197684077 -99.96155516958008 L -1.7885732824923735 -99.98400374866549 L -0.8043412976691142 -99.99676512306218 L 0.1799686178080296 -99.99983805635189 L 1.1642610965675253 -99.99322225080569 L 2.1484407729273745 -99.97691834741268 L 3.1324122921345925 -99.9509279258181 L 4.116080319604076 -99.91525350417007 L 5.099349550155289 -99.86989853887572 L 6.082124717246151 -99.81486742426632 L 7.064310602203179 -99.75016549217149 L 8.045812043446986 -99.67579901140257 L 9.026533945712261 -99.59177518714537 L 10.006381289261308 -99.49810216026194 L 10.98525913909023 -99.39478900650191 L 11.963072654127139 -99.28184573562316 L 12.939727096420789 -99.15928329042195 L 13.915127840319702 -99.02711354567273 L 14.889180381640152 -98.88534930697763 L 15.861790346822453 -98.73400430952576 L 16.83286350207458 -98.57309321676237 L 17.80230576250225 -98.4026316189683 L 18.77002320122458 -98.22263603174927 L 19.735922058474376 -98.03312389443593 L 20.69990875068248 -97.83411356839402 L 21.661889879544567 -97.62562433524553 L 22.62177224107048 -97.40767639500048 L 23.579462834614468 -97.18029086409979 L 24.5348688718858 -96.94348977336936 L 25.487897785938795 -96.69729606588561 L 26.438457240141407 -96.4417335947525 L 27.38645513712149 -96.17682712079055 L 28.331799627689858 -95.90260231013772 L 29.274399119739464 -95.61908573176277 L 30.21416228711933 -95.326304854891 L 31.15099807848302 -95.0242880463429 L 32.08481572611042 -94.71306456778568 L 33.01552475470191 -94.39266457289817 L 33.94303499014436 -94.06311910444941 L 34.86725656824785 -93.72446009129088 L 35.78809994345241 -93.37672034526304 L 36.705475897503796 -93.0199335580163 L 37.61929554809782 -92.65413429774662 L 38.52947035749168 -92.27935800584642 L 39.43591214108233 -91.89564099347061 L 40.33853307595045 -91.50302043801861 L 41.23724570936935 -91.10153437953227 L 42.13196296727808 -90.69122171701024 L 43.022598162717806 -90.27212220463919 L 43.90906500423073 -89.84427644794208 L 44.79127760422059 -89.40772589984405 L 45.66915048727424 -88.96251285665609 L 46.54259859844295 -88.50868045397704 L 47.411537311483315 -88.04627266251437 L 48.275882437056445 -87.57533428382392 L 49.13555023088487 -87.09591094596915 L 49.99045740186629 -86.60804909910044 L 50.8405211201435 -86.11179601095452 L 51.6856590251295 -85.60719976227496 L 52.52578923348725 -85.09430924215364 L 53.360830347063214 -84.57317414329403 L 54.190701460773695 -84.0438449571966 L 55.01532217044357 -83.50637296926683 L 55.834612580596534 -82.9608102538463 L 56.64849331219587 -82.40720966916729 L 57.45688551033537 -81.8456248522315 L 58.25971085187934 -81.27611021361328 L 59.05689155305116 -80.69872093218798 L 59.84835037696954 -80.11351294978576 L 60.63401064113191 -79.52054296577144 L 61.41379622484384 -78.91986843155124 L 62.18763157659429 -78.31154754500625 L 62.95544172137559 -77.6956392448539 L 63.71715226794758 -77.07220320493752 L 64.47268941604523 -76.44129982844464 L 65.22197996352885 -75.8029902420547 L 65.96495131347666 -75.15733629001664 L 66.70153148121831 -74.504400528157 L 67.43164910130952 -73.8442462178189 L 68.1552334344463 -73.176937319733 L 68.87221437431882 -72.50253848782036 L 69.58252245440382 -71.82111506292831 L 70.28608885469502 -71.13273306649981 L 70.98284540837099 -70.43745919417668 L 71.67272460839959 -69.73536080933769 L 72.35565961407862 -69.02650593657188 L 73.03158425751174 -68.31096325508786 L 73.70043305001957 -67.58880209205947 L 74.36214118848436 -66.86009241590921 L 75.01664456162894 -66.1249048295287 L 75.6638797562281 -65.38331056343854 L 76.30378406325265 -64.63538146888675 L 76.93629548394507 -63.881190010887344 L 77.56135273582646 -63.12080926119932 L 78.17889525863401 -62.35431289124699 L 78.7888632201886 -61.58177516498213 L 79.39119752219183 -60.80327093168856 L 79.9858398059516 -60.01887561873055 L 80.57273245803684 -59.228665224244395 Z",
          "type": "path"
         },
         {
          "layer": "above",
          "line": {
           "color": "black",
           "width": 1
          },
          "path": "M 60.42954934352763 -44.421498918183296 L 59.9893798544637 -45.014156714047914 L 59.54339814164384 -45.60245319876644 L 59.09164741514146 -46.1863313737366 L 58.6341714439755 -46.76573466843527 L 58.171014551869845 -47.34060694589949 L 57.7022216129588 -47.91089250816551 L 57.22783804743949 -48.47653610166507 L 56.74790981717108 -49.03748292257891 L 56.262483421221695 -49.59367862214652 L 55.771605891363265 -50.1450693119319 L 55.275324787514656 -50.69160156904462 L 54.77368819313381 -51.23322244131589 L 54.26674471055894 -51.76987945242894 L 53.75454345629968 -52.30152060700329 L 53.23713405627825 -52.828094395632505 L 52.71456664102127 -53.34954979987486 L 52.186891840802865 -53.86583629719624 L 51.65416078073911 -54.376903865865266 L 51.11642507583473 -54.88270298979975 L 50.57373682598214 -55.38318466336418 L 50.02614861091374 -55.87830039611776 L 49.47371348510747 -56.368002217512505 L 48.916484972646614 -56.85224268154104 L 48.35451706203392 -57.33097487133348 L 47.78786420096069 -57.804152403703135 L 47.216581291031694 -58.271729433640424 L 46.64072368244572 -58.73366065875468 L 46.06034716863288 -59.18990132366343 L 45.47550798084893 -59.640407224328584 L 44.88626278272715 -60.08513471233932 L 44.292668664788344 -60.524040699141004 L 43.69478313890947 -60.95708266020998 L 43.09266413275152 -61.38421863917362 L 42.486369984146904 -61.80540725187547 L 41.8759594354474 -62.22060769038473 L 41.261491627832676 -62.62977972695013 L 40.64302609558027 -63.03288371789745 L 40.020622760297414 -63.42988060747052 L 39.39434192511544 -63.820731931615235 L 38.764244268847094 -64.20539982170624 L 38.130390840107594 -64.58384700821591 L 37.49284305139972 -64.95603682432532 L 36.85166267316365 -65.32193320947687 L 36.20691182779233 -65.68150071286794 L 35.55865298361249 -66.03470449688578 L 34.90694894883221 -66.38151034048278 L 34.25186286545568 -66.72188464249206 L 33.59345820316545 -67.05579442488305 L 32.93179875317302 -67.38320733595657 L 32.26694862203833 -67.70409165347941 L 31.598972225458557 -68.01841628775767 L 30.92793428202701 -68.3261507846492 L 30.25389980696284 -68.62726532851396 L 29.576934105811752 -68.92173074510295 L 28.89710276811876 -69.2095185043848 L 28.214471661073365 -69.49060072330997 L 27.52910692312785 -69.76495016851223 L 26.841074957589278 -70.0325402589473 L 26.150442426185858 -70.29334506846817 L 25.45727624260827 -70.54733932833706 L 24.761643566026432 -70.79449842967362 L 24.063611794582815 -71.03479842583926 L 23.363248558862267 -71.26821603475719 L 22.660621715339495 -71.49472864116825 L 21.9557993398046 -71.71431429882207 L 21.248849720767392 -71.92695173260329 L 20.539841352841087 -72.13262034059292 L 19.82884293010602 -72.33130019606439 L 19.115923339454095 -72.52297204941421 L 18.401151653914347 -72.70761733002702 L 17.68459712596085 -72.88521814807484 L 16.966329180802862 -73.05575729625036 L 16.246417409658427 -73.21921825143414 L 15.52493156301186 -73.37558517629552 L 14.801941543855781 -73.52484292082694 L 14.077517400918403 -73.66697702381197 L 13.351729321876656 -73.80197371422624 L 12.624647626555936 -73.92981991257179 L 11.89634276011684 -74.05050323214432 L 11.166885286230114 -74.16401198023323 L 10.436345880239777 -74.27033515925454 L 9.704795322315592 -74.36946246781646 L 8.972304490595354 -74.46138430171737 L 8.238944354317672 -74.54609175487644 L 7.5047859669459465 -74.62357662019645 L 6.769900459284163 -74.69383139035902 L 6.0343590325852405 -74.75684925855194 L 5.298232951652351 -74.81262411912861 L 4.561593537934613 -74.86115056819975 L 3.824512162616466 -74.90242390415679 L 3.0870602397030567 -74.93644012812754 L 2.3493092191009444 -74.96319594436358 L 1.6113305796955306 -74.98268876055951 L 0.873195822425644 -74.99491668810425 L 0.1349764633559889 -74.99987854226393 L -0.6032559732518357 -74.99757384229663 L -1.3414299618693135 -74.98800281149911 L -2.0794739826305775 -74.97116637718506 L -2.8173165282622605 -74.94706617059524 L -3.7564220376830137 -99.92942156079364 L -2.77263197684077 -99.96155516958008 L -1.7885732824923735 -99.98400374866549 L -0.8043412976691142 -99.99676512306218 L 0.1799686178080296 -99.99983805635189 L 1.1642610965675253 -99.99322225080569 L 2.1484407729273745 -99.97691834741268 L 3.1324122921345925 -99.9509279258181 L 4.116080319604076 -99.91525350417007 L 5.099349550155289 -99.86989853887572 L 6.082124717246151 -99.81486742426632 L 7.064310602203179 -99.75016549217149 L 8.045812043446986 -99.67579901140257 L 9.026533945712261 -99.59177518714537 L 10.006381289261308 -99.49810216026194 L 10.98525913909023 -99.39478900650191 L 11.963072654127139 -99.28184573562316 L 12.939727096420789 -99.15928329042195 L 13.915127840319702 -99.02711354567273 L 14.889180381640152 -98.88534930697763 L 15.861790346822453 -98.73400430952576 L 16.83286350207458 -98.57309321676237 L 17.80230576250225 -98.4026316189683 L 18.77002320122458 -98.22263603174927 L 19.735922058474376 -98.03312389443593 L 20.69990875068248 -97.83411356839402 L 21.661889879544567 -97.62562433524553 L 22.62177224107048 -97.40767639500048 L 23.579462834614468 -97.18029086409979 L 24.5348688718858 -96.94348977336936 L 25.487897785938795 -96.69729606588561 L 26.438457240141407 -96.4417335947525 L 27.38645513712149 -96.17682712079055 L 28.331799627689858 -95.90260231013772 L 29.274399119739464 -95.61908573176277 L 30.21416228711933 -95.326304854891 L 31.15099807848302 -95.0242880463429 L 32.08481572611042 -94.71306456778568 L 33.01552475470191 -94.39266457289817 L 33.94303499014436 -94.06311910444941 L 34.86725656824785 -93.72446009129088 L 35.78809994345241 -93.37672034526304 L 36.705475897503796 -93.0199335580163 L 37.61929554809782 -92.65413429774662 L 38.52947035749168 -92.27935800584642 L 39.43591214108233 -91.89564099347061 L 40.33853307595045 -91.50302043801861 L 41.23724570936935 -91.10153437953227 L 42.13196296727808 -90.69122171701024 L 43.022598162717806 -90.27212220463919 L 43.90906500423073 -89.84427644794208 L 44.79127760422059 -89.40772589984405 L 45.66915048727424 -88.96251285665609 L 46.54259859844295 -88.50868045397704 L 47.411537311483315 -88.04627266251437 L 48.275882437056445 -87.57533428382392 L 49.13555023088487 -87.09591094596915 L 49.99045740186629 -86.60804909910044 L 50.8405211201435 -86.11179601095452 L 51.6856590251295 -85.60719976227496 L 52.52578923348725 -85.09430924215364 L 53.360830347063214 -84.57317414329403 L 54.190701460773695 -84.0438449571966 L 55.01532217044357 -83.50637296926683 L 55.834612580596534 -82.9608102538463 L 56.64849331219587 -82.40720966916729 L 57.45688551033537 -81.8456248522315 L 58.25971085187934 -81.27611021361328 L 59.05689155305116 -80.69872093218798 L 59.84835037696954 -80.11351294978576 L 60.63401064113191 -79.52054296577144 L 61.41379622484384 -78.91986843155124 L 62.18763157659429 -78.31154754500625 L 62.95544172137559 -77.6956392448539 L 63.71715226794758 -77.07220320493752 L 64.47268941604523 -76.44129982844464 L 65.22197996352885 -75.8029902420547 L 65.96495131347666 -75.15733629001664 L 66.70153148121831 -74.504400528157 L 67.43164910130952 -73.8442462178189 L 68.1552334344463 -73.176937319733 L 68.87221437431882 -72.50253848782036 L 69.58252245440382 -71.82111506292831 L 70.28608885469502 -71.13273306649981 L 70.98284540837099 -70.43745919417668 L 71.67272460839959 -69.73536080933769 L 72.35565961407862 -69.02650593657188 L 73.03158425751174 -68.31096325508786 L 73.70043305001957 -67.58880209205947 L 74.36214118848436 -66.86009241590921 L 75.01664456162894 -66.1249048295287 L 75.6638797562281 -65.38331056343854 L 76.30378406325265 -64.63538146888675 L 76.93629548394507 -63.881190010887344 L 77.56135273582646 -63.12080926119932 L 78.17889525863401 -62.35431289124699 L 78.7888632201886 -61.58177516498213 L 79.39119752219183 -60.80327093168856 L 79.9858398059516 -60.01887561873055 L 80.57273245803684 -59.228665224244395 Z",
          "type": "path"
         },
         {
          "layer": "above",
          "line": {
           "color": "black",
           "width": 1
          },
          "path": "M 80.57273245803684 -59.228665224244395 L 82.18418710719759 -60.41323852872928",
          "type": "path"
         },
         {
          "layer": "above",
          "line": {
           "color": "black",
           "width": 1
          },
          "path": "M 75.50275579080892 -65.56930583736165 L 77.01281090662509 -66.8806919541089",
          "type": "path"
         },
         {
          "layer": "above",
          "line": {
           "color": "black",
           "width": 1
          },
          "path": "M 69.9351526403367 -71.47778973340465 L 71.33385569314343 -72.90734552807274",
          "type": "path"
         },
         {
          "layer": "above",
          "line": {
           "color": "black",
           "width": 1
          },
          "path": "M 63.906618180814135 -76.91517504817652 L 65.18475054443041 -78.45347854914004",
          "type": "path"
         },
         {
          "layer": "above",
          "line": {
           "color": "black",
           "width": 1
          },
          "path": "M 57.45688551033537 -81.8456248522315 L 58.60602322054207 -83.48253734927611",
          "type": "path"
         },
         {
          "layer": "above",
          "line": {
           "color": "black",
           "width": 1
          },
          "path": "M 50.62846377645472 -86.23664334629572 L 51.64103305198382 -87.96137621322164",
          "type": "path"
         },
         {
          "layer": "above",
          "line": {
           "color": "black",
           "width": 1
          },
          "path": "M 43.46635800525308 -90.0592900358379 L 44.33568516535814 -91.86047583655466",
          "type": "path"
         },
         {
          "layer": "above",
          "line": {
           "color": "black",
           "width": 1
          },
          "path": "M 36.01777248047103 -93.28837047320006 L 36.738127930080445 -95.15413788266406",
          "type": "path"
         },
         {
          "layer": "above",
          "line": {
           "color": "black",
           "width": 1
          },
          "path": "M 28.331799627689858 -95.90260231013772 L 28.898435620243653 -97.82065435634047",
          "type": "path"
         },
         {
          "layer": "above",
          "line": {
           "color": "black",
           "width": 1
          },
          "path": "M 20.459096454074185 -97.88475556634388 L 20.86827838315567 -99.84245067767077",
          "type": "path"
         },
         {
          "layer": "above",
          "line": {
           "color": "black",
           "width": 1
          },
          "path": "M 12.451550676209584 -99.22176618946966 L 12.700581689733776 -101.20620151325906",
          "type": "path"
         },
         {
          "layer": "above",
          "line": {
           "color": "black",
           "width": 1
          },
          "path": "M 4.361938736533601 -99.90482215818578 L 4.449177511264272 -101.9029186013495",
          "type": "path"
         },
         {
          "layer": "above",
          "line": {
           "color": "black",
           "width": 1
          },
          "path": "M -3.7564220376830137 -99.92942156079364 L -3.8315504784366743 -101.9280099920095",
          "type": "path"
         },
         {
          "layer": "below",
          "line": {
           "color": "rgba(0,0,0,0)"
          },
          "path": "M 36.25772960611658 -26.652899350909976 L 35.99362791267822 -27.008494028428746 L 35.72603888498631 -27.361471919259866 L 35.45498844908487 -27.71179882424196 L 35.1805028663853 -28.059440801061164 L 34.90260873112191 -28.404364167539693 L 34.62133296777528 -28.746535504899306 L 34.33670282846369 -29.08592166099904 L 34.04874589030265 -29.422489753547346 L 33.75749005273302 -29.756207173287912 L 33.46296353481796 -30.087041587159142 L 33.16519487250879 -30.414960941426774 L 32.86421291588028 -30.739933464789534 L 32.56004682633536 -31.06192767145736 L 32.25272607377981 -31.380912364201976 L 31.94228043376695 -31.696856637379504 L 31.628739984612764 -32.00972987992491 L 31.31213510448172 -32.31950177831774 L 30.99249646844347 -32.62614231951916 L 30.66985504550084 -32.92962179387985 L 30.344242095589284 -33.22991079801851 L 30.015689166548242 -33.52698023767066 L 29.684228091064483 -33.8208013305075 L 29.34989098358797 -34.11134560892462 L 29.01271023722035 -34.39858492280009 L 28.672718520576414 -34.68249144222188 L 28.329948774619016 -34.963037660184256 L 27.98443420946743 -35.24019639525281 L 27.636208301179728 -35.51394079419806 L 27.285304788509357 -35.78424433459715 L 26.931757669636294 -36.05108082740359 L 26.575601198873006 -36.3144244194846 L 26.216869883345684 -36.57424959612599 L 25.855598479650915 -36.83053118350417 L 25.49182199048814 -37.08324435112528 L 25.12557566126844 -37.33236461423084 L 24.756894976699606 -37.57786783617008 L 24.38581565734816 -37.81973023073847 L 24.012373656178447 -38.057928364482315 L 23.63660515506926 -38.29243915896914 L 23.258546561308258 -38.52323989302374 L 22.878234504064554 -38.750308204929546 L 22.49570583083983 -38.9736220945952 L 22.11099760389819 -39.19315992568612 L 21.7241470966754 -39.408900427720766 L 21.335191790167492 -39.62082269813146 L 20.944169369299328 -39.828906204289666 L 20.551117719273407 -40.03313078549524 L 20.156074921899265 -40.233476654929824 L 19.759079251903813 -40.42992440157394 L 19.360169173222996 -40.62245499208764 L 18.959383335275135 -40.811049772654606 L 18.556760569216205 -40.99569047078952 L 18.152339884177703 -41.176359197108376 L 17.74616046348705 -41.35303844706177 L 17.338261660871257 -41.525711102630886 L 16.928682996644017 -41.694360433985985 L 16.51746415387671 -41.85897010110733 L 16.10464497455357 -42.01952415536838 L 15.690265455711515 -42.1760070410809 L 15.274365745564962 -42.328403597002236 L 14.85698613961586 -42.476699057804176 L 14.43816707674969 -42.62087905550356 L 14.01794913531736 -42.760929620854306 L 13.596373029203697 -42.896837184700956 L 13.17347960388276 -43.02858857929324 L 12.749309832460437 -43.156171039561976 L 12.323904811704653 -43.27957220435575 L 11.897305758063613 -43.39878011763864 L 11.469554003672458 -43.513783229648524 L 11.04069099234861 -43.62457039801621 L 10.61075827557651 -43.7311308888449 L 10.179797508481716 -43.833454377750215 L 9.747850445795056 -43.93153095086049 L 9.314958937807116 -44.02535110577731 L 8.881164926313469 -44.11490575249616 L 8.446510440551041 -44.20018621428718 L 8.011037593125993 -44.281184228535736 L 7.574788575933561 -44.35789194754307 L 7.137805656070103 -44.43030193928659 L 6.700131171738068 -44.498407188139936 L 6.261807528143866 -44.56220109555273 L 5.822877193389355 -44.621677480689875 L 5.383382694357212 -44.67683058103042 L 4.943366612590603 -44.72765505292586 L 4.502871580167568 -44.77414597211787 L 4.061940275570498 -44.81629883421542 L 3.620615419551144 -44.85410955513116 L 3.1789397709914105 -44.88757447147717 L 2.736956122760768 -44.91669034091985 L 2.2947072975698797 -44.941454342494076 L 1.852236143821834 -44.96186407687653 L 1.4095855314605668 -44.977917566618146 L 0.9667983478173184 -44.98961325633571 L 0.5239174934553864 -44.996950012862555 L 0.08098587801359335 -44.999927125358354 L -0.36195358395110144 -44.99854430537798 L -0.804857977121588 -44.99280168689947 L -1.2476843895783465 -44.982699826311034 L -1.6903899169573562 -44.96823970235714 L -2.6294954263781096 -69.95059509255555 L -1.9408423837885391 -69.97308861870606 L -1.2520012977446615 -69.98880262406584 L -0.56303890836838 -69.99773558614352 L 0.12597803246562073 -69.99988663944633 L 0.8149827675972677 -69.99525557556397 L 1.503908541049162 -69.98384284318888 L 2.1926886044942147 -69.96564954807268 L 2.8812562237228527 -69.94067745291905 L 3.569544685108702 -69.90892897721301 L 4.257487302072305 -69.87040719698643 L 4.945017421542225 -69.82511584452004 L 5.632068430412891 -69.77305930798181 L 6.318573761998583 -69.71424263100175 L 7.004466902482915 -69.64867151218336 L 7.68968139736316 -69.57635230455134 L 8.374150857888997 -69.49729201493622 L 9.057808967494552 -69.41149830329536 L 9.740589488223792 -69.31897948197091 L 10.422426267148106 -69.21974451488434 L 11.103253242775716 -69.11380301666803 L 11.783004451452205 -69.00116525173367 L 12.461614033751575 -68.8818421332778 L 13.139016240857204 -68.7558452222245 L 13.815145440932064 -68.62318672610515 L 14.489936125477737 -68.48387949787582 L 15.163322915681198 -68.33793703467187 L 15.835240568749336 -68.18537347650033 L 16.505623984230127 -68.02620360486985 L 17.17440821032006 -67.86044284135855 L 17.841528450157156 -67.68810724611993 L 18.506920068098985 -67.50921351632675 L 19.170518595985044 -67.32377898455339 L 19.8322597393829 -67.1318216170964 L 20.492079383817625 -66.93336001223393 L 21.14991360098353 -66.72841339842371 L 21.805698654938116 -66.51700163244004 L 22.459371008277294 -66.29914519744997 L 23.110867328291334 -66.07486520102871 L 23.760124493101053 -65.84418337311459 L 24.4070795977735 -65.60712206390362 L 25.05166996041669 -65.36370424168413 L 25.69383312825266 -65.11395349061141 L 26.333506883668473 -64.85789400842263 L 26.970629250244176 -64.5955506040925 L 27.605138498757636 -64.32694869542942 L 28.236973153165316 -64.05211430661303 L 28.866071996558542 -63.771074065672586 L 29.492374077094652 -63.48385520190717 L 30.115818713902463 -63.190485543247426 L 30.736345502961516 -62.89099351355946 L 31.353894322954414 -62.585408129890844 L 31.96840534109197 -62.27375899965926 L 32.579819018910065 -61.956076317783925 L 33.18807611803832 -61.63239086376006 L 33.79311770593951 -61.30273399867675 L 34.394885161619406 -60.96713766217841 L 34.9933201813064 -60.6256343693703 L 35.58836478410045 -60.27825720766817 L 36.17996131759065 -59.92503983359247 L 36.76805246344108 -59.56601646950755 L 37.352581242944254 -59.20122190030582 L 37.93349102254159 -58.83069147003762 L 38.5107255193105 -58.45446107848679 L 39.08422880641757 -58.07256717769241 L 39.65394531853711 -57.6850467684171 L 40.219819857234754 -57.29193739656204 L 40.78179759631554 -56.8932771495293 L 41.33982408713581 -56.48910465253159 L 41.893845263878674 -56.079459064850035 L 42.443807448792334 -55.66438007604001 L 42.98965735739069 -55.243907902085866 L 43.531342103616005 -54.81808328150437 L 44.06880920496292 -54.386947471397725 L 44.60200658756331 -53.95054224345626 L 45.13088259123166 -53.50890987991125 L 45.6553859744702 -53.06209316943829 L 46.17546591943366 -52.61013540301165 L 46.691072036852816 -52.153080369709905 L 47.202154370916666 -51.69097235247324 L 47.708663404112414 -51.2238561238131 L 48.210550062023174 -50.75177694147425 L 48.70776571808267 -50.274780544049825 L 49.20026219828652 -49.792913146549864 L 49.6879917858597 -49.306221435923675 L 50.170907225879716 -48.814752566536384 L 50.64896172985503 -48.31855415560032 L 51.12210898025822 -47.8176742785615 L 51.590303135013706 -47.31216146444162 L 52.053498831939045 -46.80206469113644 L 52.51165119314025 -46.28743338067009 L 52.96471582935967 -45.768317394406985 L 53.41264884427686 -45.24476702822073 L 53.85540683876155 -44.71683300762114 L 54.292946915078524 -44.18456648283952 L 54.725226681043814 -43.64801902387289 L 55.15220425413203 -43.10724261548749 L 55.57383826553428 -42.56228965218199 L 55.99008786416612 -42.01321293311138 L 56.40091272062579 -41.460065656971075 Z",
          "type": "path"
         },
         {
          "layer": "above",
          "line": {
           "color": "black",
           "width": 1
          },
          "path": "M 36.25772960611658 -26.652899350909976 L 35.99362791267822 -27.008494028428746 L 35.72603888498631 -27.361471919259866 L 35.45498844908487 -27.71179882424196 L 35.1805028663853 -28.059440801061164 L 34.90260873112191 -28.404364167539693 L 34.62133296777528 -28.746535504899306 L 34.33670282846369 -29.08592166099904 L 34.04874589030265 -29.422489753547346 L 33.75749005273302 -29.756207173287912 L 33.46296353481796 -30.087041587159142 L 33.16519487250879 -30.414960941426774 L 32.86421291588028 -30.739933464789534 L 32.56004682633536 -31.06192767145736 L 32.25272607377981 -31.380912364201976 L 31.94228043376695 -31.696856637379504 L 31.628739984612764 -32.00972987992491 L 31.31213510448172 -32.31950177831774 L 30.99249646844347 -32.62614231951916 L 30.66985504550084 -32.92962179387985 L 30.344242095589284 -33.22991079801851 L 30.015689166548242 -33.52698023767066 L 29.684228091064483 -33.8208013305075 L 29.34989098358797 -34.11134560892462 L 29.01271023722035 -34.39858492280009 L 28.672718520576414 -34.68249144222188 L 28.329948774619016 -34.963037660184256 L 27.98443420946743 -35.24019639525281 L 27.636208301179728 -35.51394079419806 L 27.285304788509357 -35.78424433459715 L 26.931757669636294 -36.05108082740359 L 26.575601198873006 -36.3144244194846 L 26.216869883345684 -36.57424959612599 L 25.855598479650915 -36.83053118350417 L 25.49182199048814 -37.08324435112528 L 25.12557566126844 -37.33236461423084 L 24.756894976699606 -37.57786783617008 L 24.38581565734816 -37.81973023073847 L 24.012373656178447 -38.057928364482315 L 23.63660515506926 -38.29243915896914 L 23.258546561308258 -38.52323989302374 L 22.878234504064554 -38.750308204929546 L 22.49570583083983 -38.9736220945952 L 22.11099760389819 -39.19315992568612 L 21.7241470966754 -39.408900427720766 L 21.335191790167492 -39.62082269813146 L 20.944169369299328 -39.828906204289666 L 20.551117719273407 -40.03313078549524 L 20.156074921899265 -40.233476654929824 L 19.759079251903813 -40.42992440157394 L 19.360169173222996 -40.62245499208764 L 18.959383335275135 -40.811049772654606 L 18.556760569216205 -40.99569047078952 L 18.152339884177703 -41.176359197108376 L 17.74616046348705 -41.35303844706177 L 17.338261660871257 -41.525711102630886 L 16.928682996644017 -41.694360433985985 L 16.51746415387671 -41.85897010110733 L 16.10464497455357 -42.01952415536838 L 15.690265455711515 -42.1760070410809 L 15.274365745564962 -42.328403597002236 L 14.85698613961586 -42.476699057804176 L 14.43816707674969 -42.62087905550356 L 14.01794913531736 -42.760929620854306 L 13.596373029203697 -42.896837184700956 L 13.17347960388276 -43.02858857929324 L 12.749309832460437 -43.156171039561976 L 12.323904811704653 -43.27957220435575 L 11.897305758063613 -43.39878011763864 L 11.469554003672458 -43.513783229648524 L 11.04069099234861 -43.62457039801621 L 10.61075827557651 -43.7311308888449 L 10.179797508481716 -43.833454377750215 L 9.747850445795056 -43.93153095086049 L 9.314958937807116 -44.02535110577731 L 8.881164926313469 -44.11490575249616 L 8.446510440551041 -44.20018621428718 L 8.011037593125993 -44.281184228535736 L 7.574788575933561 -44.35789194754307 L 7.137805656070103 -44.43030193928659 L 6.700131171738068 -44.498407188139936 L 6.261807528143866 -44.56220109555273 L 5.822877193389355 -44.621677480689875 L 5.383382694357212 -44.67683058103042 L 4.943366612590603 -44.72765505292586 L 4.502871580167568 -44.77414597211787 L 4.061940275570498 -44.81629883421542 L 3.620615419551144 -44.85410955513116 L 3.1789397709914105 -44.88757447147717 L 2.736956122760768 -44.91669034091985 L 2.2947072975698797 -44.941454342494076 L 1.852236143821834 -44.96186407687653 L 1.4095855314605668 -44.977917566618146 L 0.9667983478173184 -44.98961325633571 L 0.5239174934553864 -44.996950012862555 L 0.08098587801359335 -44.999927125358354 L -0.36195358395110144 -44.99854430537798 L -0.804857977121588 -44.99280168689947 L -1.2476843895783465 -44.982699826311034 L -1.6903899169573562 -44.96823970235714 L -2.6294954263781096 -69.95059509255555 L -1.9408423837885391 -69.97308861870606 L -1.2520012977446615 -69.98880262406584 L -0.56303890836838 -69.99773558614352 L 0.12597803246562073 -69.99988663944633 L 0.8149827675972677 -69.99525557556397 L 1.503908541049162 -69.98384284318888 L 2.1926886044942147 -69.96564954807268 L 2.8812562237228527 -69.94067745291905 L 3.569544685108702 -69.90892897721301 L 4.257487302072305 -69.87040719698643 L 4.945017421542225 -69.82511584452004 L 5.632068430412891 -69.77305930798181 L 6.318573761998583 -69.71424263100175 L 7.004466902482915 -69.64867151218336 L 7.68968139736316 -69.57635230455134 L 8.374150857888997 -69.49729201493622 L 9.057808967494552 -69.41149830329536 L 9.740589488223792 -69.31897948197091 L 10.422426267148106 -69.21974451488434 L 11.103253242775716 -69.11380301666803 L 11.783004451452205 -69.00116525173367 L 12.461614033751575 -68.8818421332778 L 13.139016240857204 -68.7558452222245 L 13.815145440932064 -68.62318672610515 L 14.489936125477737 -68.48387949787582 L 15.163322915681198 -68.33793703467187 L 15.835240568749336 -68.18537347650033 L 16.505623984230127 -68.02620360486985 L 17.17440821032006 -67.86044284135855 L 17.841528450157156 -67.68810724611993 L 18.506920068098985 -67.50921351632675 L 19.170518595985044 -67.32377898455339 L 19.8322597393829 -67.1318216170964 L 20.492079383817625 -66.93336001223393 L 21.14991360098353 -66.72841339842371 L 21.805698654938116 -66.51700163244004 L 22.459371008277294 -66.29914519744997 L 23.110867328291334 -66.07486520102871 L 23.760124493101053 -65.84418337311459 L 24.4070795977735 -65.60712206390362 L 25.05166996041669 -65.36370424168413 L 25.69383312825266 -65.11395349061141 L 26.333506883668473 -64.85789400842263 L 26.970629250244176 -64.5955506040925 L 27.605138498757636 -64.32694869542942 L 28.236973153165316 -64.05211430661303 L 28.866071996558542 -63.771074065672586 L 29.492374077094652 -63.48385520190717 L 30.115818713902463 -63.190485543247426 L 30.736345502961516 -62.89099351355946 L 31.353894322954414 -62.585408129890844 L 31.96840534109197 -62.27375899965926 L 32.579819018910065 -61.956076317783925 L 33.18807611803832 -61.63239086376006 L 33.79311770593951 -61.30273399867675 L 34.394885161619406 -60.96713766217841 L 34.9933201813064 -60.6256343693703 L 35.58836478410045 -60.27825720766817 L 36.17996131759065 -59.92503983359247 L 36.76805246344108 -59.56601646950755 L 37.352581242944254 -59.20122190030582 L 37.93349102254159 -58.83069147003762 L 38.5107255193105 -58.45446107848679 L 39.08422880641757 -58.07256717769241 L 39.65394531853711 -57.6850467684171 L 40.219819857234754 -57.29193739656204 L 40.78179759631554 -56.8932771495293 L 41.33982408713581 -56.48910465253159 L 41.893845263878674 -56.079459064850035 L 42.443807448792334 -55.66438007604001 L 42.98965735739069 -55.243907902085866 L 43.531342103616005 -54.81808328150437 L 44.06880920496292 -54.386947471397725 L 44.60200658756331 -53.95054224345626 L 45.13088259123166 -53.50890987991125 L 45.6553859744702 -53.06209316943829 L 46.17546591943366 -52.61013540301165 L 46.691072036852816 -52.153080369709905 L 47.202154370916666 -51.69097235247324 L 47.708663404112414 -51.2238561238131 L 48.210550062023174 -50.75177694147425 L 48.70776571808267 -50.274780544049825 L 49.20026219828652 -49.792913146549864 L 49.6879917858597 -49.306221435923675 L 50.170907225879716 -48.814752566536384 L 50.64896172985503 -48.31855415560032 L 51.12210898025822 -47.8176742785615 L 51.590303135013706 -47.31216146444162 L 52.053498831939045 -46.80206469113644 L 52.51165119314025 -46.28743338067009 L 52.96471582935967 -45.768317394406985 L 53.41264884427686 -45.24476702822073 L 53.85540683876155 -44.71683300762114 L 54.292946915078524 -44.18456648283952 L 54.725226681043814 -43.64801902387289 L 55.15220425413203 -43.10724261548749 L 55.57383826553428 -42.56228965218199 L 55.99008786416612 -42.01321293311138 L 56.40091272062579 -41.460065656971075 Z",
          "type": "path"
         },
         {
          "layer": "below",
          "line": {
           "color": "rgba(0,0,0,0)"
          },
          "path": "M -9.338663007157212 -74.41632464210224 L -10.558174579540072 -74.25311407306737 L -11.774844649327935 -74.0699198965693 L -12.98834577628624 -73.86679141532836 L -14.198351373032418 -73.64378329694848 L -15.404535792929586 -73.40095555920476 L -16.60657441772737 -73.13837355389087 L -17.804143744925792 -72.85610794923113 L -18.996921474838928 -72.55423471086166 L -20.184586597334814 -72.23283508138589 L -21.366819478228432 -71.89199555850983 L -22.543301945304133 -71.53180787176322 L -23.71371737394485 -71.1523689578124 L -24.87775077234469 -70.753780934372 L -26.03508886628209 -70.33615107272216 L -27.18542018343087 -69.89959176883875 L -28.32843513718602 -69.44422051314454 L -29.463826109982328 -68.97015985888915 L -30.59128753608292 -68.47753738916651 L -31.710515983815597 -67.9664856825787 L -32.82121023723483 -67.43714227755525 L -33.92307137718762 -66.8896496353377 L -35.01580286176083 -66.32415510163926 L -36.099110606089184 -65.74081086698992 L -37.17270306150167 -65.13977392577767 L -38.236291293985616 -64.5212060339969 L -39.28958906194687 -63.88527366571537 L -40.33231289324563 -63.232147968271114 L -41.36418216148664 -62.562004716212144 L -42.384919161543756 -61.8750242639904 L -43.39424918429823 -61.1713914974233 L -44.391900590570614 -60.45129578393581 L -45.37760488422668 -59.71493092159621 L -46.35109678443708 -58.9624950869597 L -47.31211429707208 -58.194190781733425 L -48.26039878521151 -57.410224778277566 L -49.195695038751204 -56.6108080639571 L -50.117751343087384 -55.79615578435904 L -51.02631954685998 -54.96648718539084 L -51.921155128737254 -54.12202555427504 L -52.80201726322342 -53.26299815945641 L -53.66866888547148 -52.38963618943756 L -54.52087675508417 -51.50217469055965 L -55.35841151888541 -50.60085250374479 L -56.181047772645876 -49.685912200217096 L -56.98856412174546 -48.75760001622009 L -57.780743240756905 -47.81616578674753 L -58.557371931934235 -46.861862878305644 L -59.31824118259014 -45.894948120725296 L -60.063146221347424 -44.91568173804155 L -60.791886573248426 -43.92432727846036 L -61.504266113708866 -42.92115154343 L -62.20009312130025 -41.9064245158374 L -62.879180329347484 -40.88041928734832 L -63.54134497632787 -39.84341198491028 L -64.1864088550571 -38.795681696439466 L -64.81419836065002 -37.73751039570989 L -65.4245445372426 -36.66918286646649 L -66.01728312346253 -35.59098662578193 L -66.5922545966369 -34.503211846677274 L -67.14930421572392 -33.40615128002868 L -67.68828206295835 -32.300100175779484 L -68.20904308419854 -31.1853562034803 L -68.71144712796443 -30.062219372177896 L -69.19535898315655 -28.930991949673906 L -69.66064841544484 -27.791978381176513 L -70.10719020231863 -26.645485207365223 L -70.53486416678744 -25.49182098189231 L -70.94355520972397 -24.331296188342453 L -71.33315334084052 -23.164223156672705 L -71.70355370829063 -21.990915979155606 L -72.05465662688746 -20.81169042584822 L -72.38636760493206 -19.626863859609436 L -72.69859736964358 -18.43675515068883 L -72.99126189118525 -17.241684590909568 L -73.26428240527909 -16.041973807468718 L -73.51758543440367 -14.837945676378418 L -73.75110280756888 -13.629924235571032 L -73.96477167866276 -12.418234597690955 L -74.15853454336508 -11.203202862598134 L -74.33233925462352 -9.98515602960496 L -74.4861390366877 -8.764421909471713 L -74.61989249769805 -7.541329036183637 L -74.7335636408254 -6.316206578532725 L -74.82712187395879 -5.089384251529633 L -74.90054201793869 -3.861192227667608 L -74.95380431333339 -2.631961048063959 L -74.9868944257568 -1.402021533502316 L -74.99980344972631 -0.17170469539895847 L -74.99252791105943 1.0586583532811584 L -74.96506976780886 2.2887364871367097 L -74.91743640973543 3.5181986574449864 L -74.84964065631944 4.746713981256245 L -74.76170075331041 5.973951830444108 L -74.65364036781679 7.199581920686388 L -74.52548858193641 8.423274400354376 L -74.37727988492962 9.644699939285031 L -74.20905416393732 10.863529817412797 L -74.0208566932462 12.079436013237933 L -73.81273812210414 13.292091292105802 L -98.4169841628055 17.722788389474402 L -98.69447559099494 16.105914684317245 L -98.94540555191644 14.48470642321706 L -99.16970651323949 12.859599919046708 L -99.36731810924854 11.231032533805836 L -99.53818715708907 9.599442560915183 L -99.68226767108054 7.96526910725881 L -99.79952087509257 6.3289519750083265 L -99.88991521298057 4.690931543259982 L -99.95342635707847 3.051648649515613 L -99.99003721474591 1.4115444710415446 L -99.99973793296842 -0.22893959386527796 L -99.98252590100907 -1.8693620446697548 L -99.93840575111118 -3.5092813974186123 L -99.8673893572516 -5.148256303556811 L -99.76949583194505 -6.785845668706177 L -99.64475152110053 -8.421608771377056 L -99.49318999693074 -10.055105381578182 L -99.31485204891695 -11.685895879295616 L -99.10978567283135 -13.313541372806615 L -98.87804605782011 -14.937603816797512 L -98.61969557155032 -16.557646130254692 L -98.33480374342517 -18.173232314094708 L -98.02344724587157 -19.783927568504556 L -97.68570987370546 -21.38929840995829 L -97.32168252158033 -22.98891278787942 L -96.93146315952475 -24.582340200918523 L -96.51515680657607 -26.16915181281258 L -96.07287550251662 -27.748920567797626 L -95.60473827772084 -29.321221305540806 L -95.1108711211207 -30.885630875563606 L -94.59140694629859 -32.44172825112335 L -94.04648555571659 -33.989094642523085 L -93.47625360309151 -35.5273136098203 L -92.88086455392644 -37.05597117490202 L -92.26047864420873 -38.574655932898544 L -91.61526283728591 -40.08295916290386 L -90.94539077893138 -41.58047493797373 L -90.25104275061115 -43.06680023437265 L -89.53240562096522 -44.54153504003824 L -88.78967279551587 -46.00428246223637 L -88.02304416461672 -47.45464883437591 L -87.23272604965679 -48.892243821955326 L -86.41893114753336 -50.31668052761319 L -85.58187847340946 -51.72757559525262 L -84.7217933017705 -53.124549313213706 L -83.83890710579665 -54.507225716464426 L -82.933457495067 -55.8752326877832 L -82.00568815161182 -57.228202057906664 L -81.05584876433124 -58.565769704613814 L -80.08419496179656 -59.88757565072207 L -79.09098824345352 -61.19326416096706 L -78.07649590924565 -62.48248383774085 L -77.04099098767587 -63.75488771566338 L -75.98475216232728 -65.01013335496012 L -74.90806369686118 -66.24788293362279 L -73.81121535851388 -67.46780333832638 L -72.6945023401122 -68.66956625407956 L -71.55822518062861 -69.85284825258344 L -70.4026896842979 -71.0173308792752 L -69.22820683831634 -72.1627007390334 L -68.03509272914664 -73.28864958052111 L -66.82366845744984 -74.39487437914538 L -65.59426005166827 -75.48107741860946 L -64.34719838028201 -76.54696637103675 L -63.08281906276274 -77.59225437564459 L -61.801462379249436 -78.61666011594627 L -60.5034731789689 -79.61990789546162 L -59.18920078742749 -80.60172771191442 L -57.85899891239764 -81.56185532989774 L -56.513225548724975 -82.50003235198723 L -55.15224288198218 -83.41600628828286 L -53.776417190994174 -84.30953062436149 L -52.38611874926249 -85.18036488762048 L -50.98172172531415 -86.02827471199588 L -49.56360408200219 -86.85303190103691 L -48.132147474785576 -87.65441448931989 L -46.687737149014445 -88.43220680218569 L -45.23076183625015 -89.18619951378362 L -43.76161364964644 -89.91618970340701 L -42.28068797842076 -90.62198091010495 L -40.78838338144389 -91.30338318555535 L -39.2851014799764 -91.96021314518555 L -37.77124684958136 -92.59229401752606 L -36.24722691124116 -93.19945569178499 L -34.713451821709455 -93.78153476362955 L -33.17033436312625 -94.33837457916268 L -31.618289831926425 -94.86982527708322 L -30.057735927072176 -95.37574382901764 L -28.48909263763791 -95.85599407801311 L -26.91278212977975 -96.31044677518118 L -25.32922863311857 -96.73897961448222 L -23.73885832656768 -97.14147726564151 L -22.142099223636492 -97.51783140518782 L -20.539381057239446 -97.86794074560635 L -18.931135164043226 -98.19171106259797 L -17.31779436838165 -98.48905522043782 L -15.69979286577054 -98.75989319542575 L -14.07756610605343 -99.00415209742314 L -12.451550676209616 -99.22176618946965 Z",
          "type": "path"
         },
         {
          "layer": "above",
          "line": {
           "color": "black",
           "width": 1
          },
          "path": "M -9.338663007157212 -74.41632464210224 L -10.558174579540072 -74.25311407306737 L -11.774844649327935 -74.0699198965693 L -12.98834577628624 -73.86679141532836 L -14.198351373032418 -73.64378329694848 L -15.404535792929586 -73.40095555920476 L -16.60657441772737 -73.13837355389087 L -17.804143744925792 -72.85610794923113 L -18.996921474838928 -72.55423471086166 L -20.184586597334814 -72.23283508138589 L -21.366819478228432 -71.89199555850983 L -22.543301945304133 -71.53180787176322 L -23.71371737394485 -71.1523689578124 L -24.87775077234469 -70.753780934372 L -26.03508886628209 -70.33615107272216 L -27.18542018343087 -69.89959176883875 L -28.32843513718602 -69.44422051314454 L -29.463826109982328 -68.97015985888915 L -30.59128753608292 -68.47753738916651 L -31.710515983815597 -67.9664856825787 L -32.82121023723483 -67.43714227755525 L -33.92307137718762 -66.8896496353377 L -35.01580286176083 -66.32415510163926 L -36.099110606089184 -65.74081086698992 L -37.17270306150167 -65.13977392577767 L -38.236291293985616 -64.5212060339969 L -39.28958906194687 -63.88527366571537 L -40.33231289324563 -63.232147968271114 L -41.36418216148664 -62.562004716212144 L -42.384919161543756 -61.8750242639904 L -43.39424918429823 -61.1713914974233 L -44.391900590570614 -60.45129578393581 L -45.37760488422668 -59.71493092159621 L -46.35109678443708 -58.9624950869597 L -47.31211429707208 -58.194190781733425 L -48.26039878521151 -57.410224778277566 L -49.195695038751204 -56.6108080639571 L -50.117751343087384 -55.79615578435904 L -51.02631954685998 -54.96648718539084 L -51.921155128737254 -54.12202555427504 L -52.80201726322342 -53.26299815945641 L -53.66866888547148 -52.38963618943756 L -54.52087675508417 -51.50217469055965 L -55.35841151888541 -50.60085250374479 L -56.181047772645876 -49.685912200217096 L -56.98856412174546 -48.75760001622009 L -57.780743240756905 -47.81616578674753 L -58.557371931934235 -46.861862878305644 L -59.31824118259014 -45.894948120725296 L -60.063146221347424 -44.91568173804155 L -60.791886573248426 -43.92432727846036 L -61.504266113708866 -42.92115154343 L -62.20009312130025 -41.9064245158374 L -62.879180329347484 -40.88041928734832 L -63.54134497632787 -39.84341198491028 L -64.1864088550571 -38.795681696439466 L -64.81419836065002 -37.73751039570989 L -65.4245445372426 -36.66918286646649 L -66.01728312346253 -35.59098662578193 L -66.5922545966369 -34.503211846677274 L -67.14930421572392 -33.40615128002868 L -67.68828206295835 -32.300100175779484 L -68.20904308419854 -31.1853562034803 L -68.71144712796443 -30.062219372177896 L -69.19535898315655 -28.930991949673906 L -69.66064841544484 -27.791978381176513 L -70.10719020231863 -26.645485207365223 L -70.53486416678744 -25.49182098189231 L -70.94355520972397 -24.331296188342453 L -71.33315334084052 -23.164223156672705 L -71.70355370829063 -21.990915979155606 L -72.05465662688746 -20.81169042584822 L -72.38636760493206 -19.626863859609436 L -72.69859736964358 -18.43675515068883 L -72.99126189118525 -17.241684590909568 L -73.26428240527909 -16.041973807468718 L -73.51758543440367 -14.837945676378418 L -73.75110280756888 -13.629924235571032 L -73.96477167866276 -12.418234597690955 L -74.15853454336508 -11.203202862598134 L -74.33233925462352 -9.98515602960496 L -74.4861390366877 -8.764421909471713 L -74.61989249769805 -7.541329036183637 L -74.7335636408254 -6.316206578532725 L -74.82712187395879 -5.089384251529633 L -74.90054201793869 -3.861192227667608 L -74.95380431333339 -2.631961048063959 L -74.9868944257568 -1.402021533502316 L -74.99980344972631 -0.17170469539895847 L -74.99252791105943 1.0586583532811584 L -74.96506976780886 2.2887364871367097 L -74.91743640973543 3.5181986574449864 L -74.84964065631944 4.746713981256245 L -74.76170075331041 5.973951830444108 L -74.65364036781679 7.199581920686388 L -74.52548858193641 8.423274400354376 L -74.37727988492962 9.644699939285031 L -74.20905416393732 10.863529817412797 L -74.0208566932462 12.079436013237933 L -73.81273812210414 13.292091292105802 L -98.4169841628055 17.722788389474402 L -98.69447559099494 16.105914684317245 L -98.94540555191644 14.48470642321706 L -99.16970651323949 12.859599919046708 L -99.36731810924854 11.231032533805836 L -99.53818715708907 9.599442560915183 L -99.68226767108054 7.96526910725881 L -99.79952087509257 6.3289519750083265 L -99.88991521298057 4.690931543259982 L -99.95342635707847 3.051648649515613 L -99.99003721474591 1.4115444710415446 L -99.99973793296842 -0.22893959386527796 L -99.98252590100907 -1.8693620446697548 L -99.93840575111118 -3.5092813974186123 L -99.8673893572516 -5.148256303556811 L -99.76949583194505 -6.785845668706177 L -99.64475152110053 -8.421608771377056 L -99.49318999693074 -10.055105381578182 L -99.31485204891695 -11.685895879295616 L -99.10978567283135 -13.313541372806615 L -98.87804605782011 -14.937603816797512 L -98.61969557155032 -16.557646130254692 L -98.33480374342517 -18.173232314094708 L -98.02344724587157 -19.783927568504556 L -97.68570987370546 -21.38929840995829 L -97.32168252158033 -22.98891278787942 L -96.93146315952475 -24.582340200918523 L -96.51515680657607 -26.16915181281258 L -96.07287550251662 -27.748920567797626 L -95.60473827772084 -29.321221305540806 L -95.1108711211207 -30.885630875563606 L -94.59140694629859 -32.44172825112335 L -94.04648555571659 -33.989094642523085 L -93.47625360309151 -35.5273136098203 L -92.88086455392644 -37.05597117490202 L -92.26047864420873 -38.574655932898544 L -91.61526283728591 -40.08295916290386 L -90.94539077893138 -41.58047493797373 L -90.25104275061115 -43.06680023437265 L -89.53240562096522 -44.54153504003824 L -88.78967279551587 -46.00428246223637 L -88.02304416461672 -47.45464883437591 L -87.23272604965679 -48.892243821955326 L -86.41893114753336 -50.31668052761319 L -85.58187847340946 -51.72757559525262 L -84.7217933017705 -53.124549313213706 L -83.83890710579665 -54.507225716464426 L -82.933457495067 -55.8752326877832 L -82.00568815161182 -57.228202057906664 L -81.05584876433124 -58.565769704613814 L -80.08419496179656 -59.88757565072207 L -79.09098824345352 -61.19326416096706 L -78.07649590924565 -62.48248383774085 L -77.04099098767587 -63.75488771566338 L -75.98475216232728 -65.01013335496012 L -74.90806369686118 -66.24788293362279 L -73.81121535851388 -67.46780333832638 L -72.6945023401122 -68.66956625407956 L -71.55822518062861 -69.85284825258344 L -70.4026896842979 -71.0173308792752 L -69.22820683831634 -72.1627007390334 L -68.03509272914664 -73.28864958052111 L -66.82366845744984 -74.39487437914538 L -65.59426005166827 -75.48107741860946 L -64.34719838028201 -76.54696637103675 L -63.08281906276274 -77.59225437564459 L -61.801462379249436 -78.61666011594627 L -60.5034731789689 -79.61990789546162 L -59.18920078742749 -80.60172771191442 L -57.85899891239764 -81.56185532989774 L -56.513225548724975 -82.50003235198723 L -55.15224288198218 -83.41600628828286 L -53.776417190994174 -84.30953062436149 L -52.38611874926249 -85.18036488762048 L -50.98172172531415 -86.02827471199588 L -49.56360408200219 -86.85303190103691 L -48.132147474785576 -87.65441448931989 L -46.687737149014445 -88.43220680218569 L -45.23076183625015 -89.18619951378362 L -43.76161364964644 -89.91618970340701 L -42.28068797842076 -90.62198091010495 L -40.78838338144389 -91.30338318555535 L -39.2851014799764 -91.96021314518555 L -37.77124684958136 -92.59229401752606 L -36.24722691124116 -93.19945569178499 L -34.713451821709455 -93.78153476362955 L -33.17033436312625 -94.33837457916268 L -31.618289831926425 -94.86982527708322 L -30.057735927072176 -95.37574382901764 L -28.48909263763791 -95.85599407801311 L -26.91278212977975 -96.31044677518118 L -25.32922863311857 -96.73897961448222 L -23.73885832656768 -97.14147726564151 L -22.142099223636492 -97.51783140518782 L -20.539381057239446 -97.86794074560635 L -18.931135164043226 -98.19171106259797 L -17.31779436838165 -98.48905522043782 L -15.69979286577054 -98.75989319542575 L -14.07756610605343 -99.00415209742314 L -12.451550676209616 -99.22176618946965 Z",
          "type": "path"
         },
         {
          "layer": "above",
          "line": {
           "color": "black",
           "width": 1
          },
          "path": "M -12.451550676209616 -99.22176618946965 L -12.70058168973381 -101.20620151325905",
          "type": "path"
         },
         {
          "layer": "above",
          "line": {
           "color": "black",
           "width": 1
          },
          "path": "M -20.459096454074174 -97.88475556634388 L -20.86827838315566 -99.84245067767077",
          "type": "path"
         },
         {
          "layer": "above",
          "line": {
           "color": "black",
           "width": 1
          },
          "path": "M -28.331799627689886 -95.90260231013771 L -28.89843562024368 -97.82065435634046",
          "type": "path"
         },
         {
          "layer": "above",
          "line": {
           "color": "black",
           "width": 1
          },
          "path": "M -36.01777248047106 -93.28837047320005 L -36.73812793008048 -95.15413788266405",
          "type": "path"
         },
         {
          "layer": "above",
          "line": {
           "color": "black",
           "width": 1
          },
          "path": "M -43.46635800525307 -90.0592900358379 L -44.33568516535813 -91.86047583655466",
          "type": "path"
         },
         {
          "layer": "above",
          "line": {
           "color": "black",
           "width": 1
          },
          "path": "M -50.628463776454716 -86.23664334629574 L -51.641033051983804 -87.96137621322166",
          "type": "path"
         },
         {
          "layer": "above",
          "line": {
           "color": "black",
           "width": 1
          },
          "path": "M -57.45688551033537 -81.84562485223151 L -58.60602322054207 -83.48253734927613",
          "type": "path"
         },
         {
          "layer": "above",
          "line": {
           "color": "black",
           "width": 1
          },
          "path": "M -63.90661818081417 -76.9151750481765 L -65.18475054443046 -78.45347854914003",
          "type": "path"
         },
         {
          "layer": "above",
          "line": {
           "color": "black",
           "width": 1
          },
          "path": "M -69.93515264033672 -71.47778973340463 L -71.33385569314345 -72.90734552807272",
          "type": "path"
         },
         {
          "layer": "above",
          "line": {
           "color": "black",
           "width": 1
          },
          "path": "M -75.50275579080892 -65.56930583736167 L -77.01281090662509 -66.8806919541089",
          "type": "path"
         },
         {
          "layer": "above",
          "line": {
           "color": "black",
           "width": 1
          },
          "path": "M -80.57273245803685 -59.22866522424436 L -82.18418710719759 -60.413238528729245",
          "type": "path"
         },
         {
          "layer": "above",
          "line": {
           "color": "black",
           "width": 1
          },
          "path": "M -85.11166724369997 -52.49765803345602 L -86.81390058857397 -53.54761119412514",
          "type": "path"
         },
         {
          "layer": "above",
          "line": {
           "color": "black",
           "width": 1
          },
          "path": "M -89.08964476085106 -45.420647247538895 L -90.87143765606808 -46.32906019248968",
          "type": "path"
         },
         {
          "layer": "above",
          "line": {
           "color": "black",
           "width": 1
          },
          "path": "M -92.48044680140556 -38.04427630291309 L -94.33005573743368 -38.80516182897136",
          "type": "path"
         },
         {
          "layer": "above",
          "line": {
           "color": "black",
           "width": 1
          },
          "path": "M -95.2617251361214 -30.417161670511877 L -97.16695963884384 -31.025504903922116",
          "type": "path"
         },
         {
          "layer": "above",
          "line": {
           "color": "black",
           "width": 1
          },
          "path": "M -97.41514880817276 -22.589572432464454 L -99.3634517843362 -23.041363881113746",
          "type": "path"
         },
         {
          "layer": "above",
          "line": {
           "color": "black",
           "width": 1
          },
          "path": "M -98.92652494952945 -14.61309896668494 L -100.90505544852003 -14.90536094601864",
          "type": "path"
         },
         {
          "layer": "above",
          "line": {
           "color": "black",
           "width": 1
          },
          "path": "M -99.78589232386035 -6.540312923014267 L -101.78161017033756 -6.671119181474553",
          "type": "path"
         },
         {
          "layer": "above",
          "line": {
           "color": "black",
           "width": 1
          },
          "path": "M -99.98758697943518 1.5755792680427025 L -101.98733871902388 1.6070908534035566",
          "type": "path"
         },
         {
          "layer": "above",
          "line": {
           "color": "black",
           "width": 1
          },
          "path": "M -99.53027957931657 9.681087070317965 L -101.5208851709029 9.874708811724323",
          "type": "path"
         },
         {
          "layer": "above",
          "line": {
           "color": "black",
           "width": 1
          },
          "path": "M -98.4169841628055 17.722788389474402 L -100.38532384606162 18.07724415726389",
          "type": "path"
         },
         {
          "layer": "below",
          "line": {
           "color": "rgba(0,0,0,0)"
          },
          "path": "M -5.603197804294327 -44.64979478526134 L -6.334904747724043 -44.55186844384042 L -7.064906789596762 -44.44195193794158 L -7.793007465771744 -44.32007484919702 L -8.519010823819452 -44.186269978169086 L -9.242721475757751 -44.04057333552285 L -9.96394465063642 -43.88302413233452 L -10.682486246955476 -43.71366476953868 L -11.398152884903357 -43.532540826517 L -12.110751958400888 -43.33970104883153 L -12.820091686937058 -43.1351973351059 L -13.52598116718248 -42.919084723057935 L -14.22823042436691 -42.691421374687444 L -14.926650463406814 -42.4522685606232 L -15.621053319769256 -42.2016906436333 L -16.311252110058522 -41.939755061303245 L -16.99706108231161 -41.666532307886726 L -17.678295665989396 -41.38209591533349 L -18.354772521649753 -41.08652243349991 L -19.026309590289358 -40.77989140954722 L -19.6927261423409 -40.46228536653316 L -20.35384282631257 -40.13378978120263 L -21.009481717056502 -39.79449306098356 L -21.659466363653507 -39.44448652019395 L -22.303621836901005 -39.0838643554666 L -22.94177477639137 -38.712723620398144 L -23.57375343716812 -38.33116419942922 L -24.19938773594738 -37.93928878096267 L -24.818509296891982 -37.537202829727285 L -25.430951496926255 -37.12501455839424 L -26.03654951057894 -36.70283489845398 L -26.63514035434237 -36.27077747036149 L -27.226562930536005 -35.82895855295773 L -27.810658070662246 -35.37749705217582 L -28.387268578243248 -34.91651446904005 L -28.956239271126904 -34.44613486696654 L -29.517417023250722 -33.96648483837426 L -30.07065080585243 -33.47769347061542 L -30.615791728115987 -32.9798923112345 L -31.152693077242354 -32.473215332565026 L -31.681210357934052 -31.957798895673843 L -32.20120133128289 -31.433781713662533 L -32.7125260530505 -30.901304814335788 L -33.21504691133125 -30.360511502246872 L -33.708628663587525 -29.811547320130256 L -34.19313847304728 -29.254560009732053 L -34.66844594445414 -28.68969947204852 L -35.13442315916054 -28.117117726983384 L -35.59094470955409 -27.536968872435178 L -36.03788773280845 -26.949409042824932 L -36.47513194394906 -26.354596367076216 L -36.90255966822532 -25.752690926057998 L -37.32005587278015 -25.143854709502442 L -37.72750819760849 -24.52825157240899 L -38.124806985796724 -23.90604719094617 L -38.51184531303426 -23.27740901786368 L -38.88851901639001 -22.642506237425934 L -39.25472672234556 -22.001509719879895 L -39.61036987407752 -21.35459197546916 L -39.95535275798214 -20.701927108006366 L -40.289582529434355 -20.043690768017207 L -40.61296923777501 -19.38006010546769 L -40.925425850519126 -18.71121372208818 L -41.22686827677866 -18.037331623306738 L -41.51721538989393 -17.358595169804346 L -41.7963890492669 -16.67518702870591 L -42.06431412139118 -15.987291124419135 L -42.320918500072466 -15.295092589135386 L -42.56613312583438 -14.598777713005472 L -42.799892004504315 -13.898533894003624 L -43.02213222497438 -13.194549587493363 L -43.23279397613248 -12.487014255508932 L -43.43182056295923 -11.776118315765661 L -43.61915842178615 -11.062053090413297 L -43.79475713471115 -10.34501075454574 L -43.958569443167455 -9.62518428448123 L -44.110551260642204 -8.90276740582705 L -44.25066168454133 -8.177954541342618 L -44.37886300719765 -7.450940758614572 L -44.49512072601905 -6.721921717558881 L -44.599403552774106 -5.991093617762976 L -44.69168342201262 -5.258653145683027 L -44.77193549861883 -4.524797421710182 L -44.84013818449524 -3.7897239471196347 L -44.89627312437528 -3.0536305509177795 L -44.94032521076321 -2.3167153366005646 L -44.972282588000034 -1.5791766288383755 L -44.99213665545408 -0.8412129201013897 L -44.999882069835785 -0.10302281723937509 L -44.99551674663566 0.635195011968695 L -44.979041860685314 1.3732418922820258 L -44.95046184584126 2.110919194466992 L -44.90978439379166 2.8480283887537468 L -44.857020451986244 3.5843710982664643 L -44.79218422069008 4.319749152411832 L -44.715293149161845 5.053964640212627 L -44.62636793095777 5.786819963571018 L -44.52543249836239 6.5181178904476775 L -44.41251401594772 7.247661607942759 L -44.28764287326248 7.9752547752634815 L -68.89188891396385 12.405951872632082 L -69.08613291369646 11.27414027902207 L -69.2617838863415 10.139294496251942 L -69.41879455926764 9.001719943332695 L -69.55712267647398 7.861722773664085 L -69.67673100996234 6.719609792640629 L -69.77758736975638 5.575688375081167 L -69.8596646125648 4.430266382505828 L -69.9229406490864 3.2836520802819873 L -69.96739844995493 2.136154054660929 L -69.99302605032213 0.9880811297290811 L -69.99981655307789 -0.16025771570569458 L -69.98776813070634 -1.3085534312688283 L -69.95688402577782 -2.4564969781930284 L -69.90717255007611 -3.6037794124897675 L -69.83864708236153 -4.750091968094323 L -69.75132606477037 -5.8951261399639385 L -69.64523299785151 -7.038573767104728 L -69.52039643424186 -8.18012711550693 L -69.37684997098195 -9.31947896096463 L -69.21463224047407 -10.456322671758258 L -69.03378690008523 -11.590352291178284 L -68.83436262039761 -12.721262619866296 L -68.61641307211009 -13.848749297953189 L -68.37999691159382 -14.972508886970804 L -68.12517776510623 -16.092238951515597 L -67.85202421166733 -17.207638140642967 L -67.56060976460326 -18.318406268968808 L -67.25101285176163 -19.424244397458338 L -66.92331679440458 -20.524854913878563 L -66.57760978478449 -21.619941612894525 L -66.213984862409 -22.70920977578635 L -65.83253988900161 -23.792366249766157 L -65.43337752216405 -24.869119526874208 L -65.01660518774851 -25.939179822431413 L -64.58233505094611 -27.00225915302898 L -64.13068398610014 -28.058071414032703 L -63.661773545251975 -29.10633245658161 L -63.1757299254278 -30.146760164060854 L -62.67268393467566 -31.179074528026767 L -62.15277095686111 -32.20299772356546 L -61.6161309152317 -33.218254184063134 L -61.06290823475975 -34.224570675368724 L -60.49325180327335 -35.22167636932923 L -59.90731493138662 -36.20930291667683 L -59.30525531123935 -37.1871845192496 L -58.68723497405765 -38.1550580015251 L -58.0534202465469 -39.112662881448244 L -57.40398170612828 -40.059741440534665 L -56.73909413503187 -40.996038793229665 L -56.058936473257596 -41.921302955505446 L -55.36369177041746 -42.83528491267695 L -54.65354713647195 -43.737738686418595 L -53.92869369137311 -44.62842140096436 L -53.1893265136291 -45.50709334847208 L -52.43564458780282 -46.37351805353595 L -51.667850750959715 -47.22746233682847 L -50.88615163807853 -48.068696377855694 L -50.09075762644002 -48.89699377680841 L -49.28188277900853 -49.712131615492645 L -48.45974478682144 -50.513890517323375 L -47.62456491040265 -51.30205470636478 L -46.776567920214895 -52.07641206540177 L -45.91598203616779 -52.83675419302663 L -45.043038866197406 -53.582876459725725 L -44.15797334393392 -54.31457806295121 L -43.26102366547461 -55.03166208116239 L -42.35243122527823 -55.73393552682313 L -41.43244055119924 -56.42120939834009 L -40.50129923867835 -57.09329873092842 L -39.55925788410748 -57.75002264639106 L -38.606570017387526 -58.39120440179801 L -37.64349203369592 -59.01667143705304 L -36.670283124483745 -59.62625542133434 L -35.687205207719906 -60.21979229839712 L -34.69452285740154 -60.79712233072584 L -33.6925032323499 -61.35809014252392 L -32.681416004310115 -61.90254476152998 L -31.661533285375107 -62.43033965964853 L -30.633129554752507 -62.941332792384905 L -29.59648158489453 -63.435386637073464 L -28.551868367010727 -63.91236822988875 L -27.49957103598348 -64.37214920162988 L -26.43987279470695 -64.81460581226824 L -25.37305883786881 -65.23961898424949 L -24.29941627519662 -65.64707433454069 L -23.219234054188377 -66.03686220541387 L -22.1328028823485 -66.40887769395826 L -21.040415148950522 -66.76302068031234 L -19.942364846346536 -67.09919585460918 L -18.838947490845825 -67.41731274262682 L -17.730460043183 -67.71728573013756 L -16.617200828597376 -67.99903408594906 L -15.499469456545544 -68.26248198363147 L -14.377566740067614 -68.50755852192444 L -13.251794614830258 -68.73419774381858 L -12.122456057867158 -68.94233865430647 L -10.989855006039377 -69.13192523679803 L -9.8542962742374 -69.3029064681962 L -8.716085473346732 -69.45523633262876 Z",
          "type": "path"
         },
         {
          "layer": "above",
          "line": {
           "color": "black",
           "width": 1
          },
          "path": "M -5.603197804294327 -44.64979478526134 L -6.334904747724043 -44.55186844384042 L -7.064906789596762 -44.44195193794158 L -7.793007465771744 -44.32007484919702 L -8.519010823819452 -44.186269978169086 L -9.242721475757751 -44.04057333552285 L -9.96394465063642 -43.88302413233452 L -10.682486246955476 -43.71366476953868 L -11.398152884903357 -43.532540826517 L -12.110751958400888 -43.33970104883153 L -12.820091686937058 -43.1351973351059 L -13.52598116718248 -42.919084723057935 L -14.22823042436691 -42.691421374687444 L -14.926650463406814 -42.4522685606232 L -15.621053319769256 -42.2016906436333 L -16.311252110058522 -41.939755061303245 L -16.99706108231161 -41.666532307886726 L -17.678295665989396 -41.38209591533349 L -18.354772521649753 -41.08652243349991 L -19.026309590289358 -40.77989140954722 L -19.6927261423409 -40.46228536653316 L -20.35384282631257 -40.13378978120263 L -21.009481717056502 -39.79449306098356 L -21.659466363653507 -39.44448652019395 L -22.303621836901005 -39.0838643554666 L -22.94177477639137 -38.712723620398144 L -23.57375343716812 -38.33116419942922 L -24.19938773594738 -37.93928878096267 L -24.818509296891982 -37.537202829727285 L -25.430951496926255 -37.12501455839424 L -26.03654951057894 -36.70283489845398 L -26.63514035434237 -36.27077747036149 L -27.226562930536005 -35.82895855295773 L -27.810658070662246 -35.37749705217582 L -28.387268578243248 -34.91651446904005 L -28.956239271126904 -34.44613486696654 L -29.517417023250722 -33.96648483837426 L -30.07065080585243 -33.47769347061542 L -30.615791728115987 -32.9798923112345 L -31.152693077242354 -32.473215332565026 L -31.681210357934052 -31.957798895673843 L -32.20120133128289 -31.433781713662533 L -32.7125260530505 -30.901304814335788 L -33.21504691133125 -30.360511502246872 L -33.708628663587525 -29.811547320130256 L -34.19313847304728 -29.254560009732053 L -34.66844594445414 -28.68969947204852 L -35.13442315916054 -28.117117726983384 L -35.59094470955409 -27.536968872435178 L -36.03788773280845 -26.949409042824932 L -36.47513194394906 -26.354596367076216 L -36.90255966822532 -25.752690926057998 L -37.32005587278015 -25.143854709502442 L -37.72750819760849 -24.52825157240899 L -38.124806985796724 -23.90604719094617 L -38.51184531303426 -23.27740901786368 L -38.88851901639001 -22.642506237425934 L -39.25472672234556 -22.001509719879895 L -39.61036987407752 -21.35459197546916 L -39.95535275798214 -20.701927108006366 L -40.289582529434355 -20.043690768017207 L -40.61296923777501 -19.38006010546769 L -40.925425850519126 -18.71121372208818 L -41.22686827677866 -18.037331623306738 L -41.51721538989393 -17.358595169804346 L -41.7963890492669 -16.67518702870591 L -42.06431412139118 -15.987291124419135 L -42.320918500072466 -15.295092589135386 L -42.56613312583438 -14.598777713005472 L -42.799892004504315 -13.898533894003624 L -43.02213222497438 -13.194549587493363 L -43.23279397613248 -12.487014255508932 L -43.43182056295923 -11.776118315765661 L -43.61915842178615 -11.062053090413297 L -43.79475713471115 -10.34501075454574 L -43.958569443167455 -9.62518428448123 L -44.110551260642204 -8.90276740582705 L -44.25066168454133 -8.177954541342618 L -44.37886300719765 -7.450940758614572 L -44.49512072601905 -6.721921717558881 L -44.599403552774106 -5.991093617762976 L -44.69168342201262 -5.258653145683027 L -44.77193549861883 -4.524797421710182 L -44.84013818449524 -3.7897239471196347 L -44.89627312437528 -3.0536305509177795 L -44.94032521076321 -2.3167153366005646 L -44.972282588000034 -1.5791766288383755 L -44.99213665545408 -0.8412129201013897 L -44.999882069835785 -0.10302281723937509 L -44.99551674663566 0.635195011968695 L -44.979041860685314 1.3732418922820258 L -44.95046184584126 2.110919194466992 L -44.90978439379166 2.8480283887537468 L -44.857020451986244 3.5843710982664643 L -44.79218422069008 4.319749152411832 L -44.715293149161845 5.053964640212627 L -44.62636793095777 5.786819963571018 L -44.52543249836239 6.5181178904476775 L -44.41251401594772 7.247661607942759 L -44.28764287326248 7.9752547752634815 L -68.89188891396385 12.405951872632082 L -69.08613291369646 11.27414027902207 L -69.2617838863415 10.139294496251942 L -69.41879455926764 9.001719943332695 L -69.55712267647398 7.861722773664085 L -69.67673100996234 6.719609792640629 L -69.77758736975638 5.575688375081167 L -69.8596646125648 4.430266382505828 L -69.9229406490864 3.2836520802819873 L -69.96739844995493 2.136154054660929 L -69.99302605032213 0.9880811297290811 L -69.99981655307789 -0.16025771570569458 L -69.98776813070634 -1.3085534312688283 L -69.95688402577782 -2.4564969781930284 L -69.90717255007611 -3.6037794124897675 L -69.83864708236153 -4.750091968094323 L -69.75132606477037 -5.8951261399639385 L -69.64523299785151 -7.038573767104728 L -69.52039643424186 -8.18012711550693 L -69.37684997098195 -9.31947896096463 L -69.21463224047407 -10.456322671758258 L -69.03378690008523 -11.590352291178284 L -68.83436262039761 -12.721262619866296 L -68.61641307211009 -13.848749297953189 L -68.37999691159382 -14.972508886970804 L -68.12517776510623 -16.092238951515597 L -67.85202421166733 -17.207638140642967 L -67.56060976460326 -18.318406268968808 L -67.25101285176163 -19.424244397458338 L -66.92331679440458 -20.524854913878563 L -66.57760978478449 -21.619941612894525 L -66.213984862409 -22.70920977578635 L -65.83253988900161 -23.792366249766157 L -65.43337752216405 -24.869119526874208 L -65.01660518774851 -25.939179822431413 L -64.58233505094611 -27.00225915302898 L -64.13068398610014 -28.058071414032703 L -63.661773545251975 -29.10633245658161 L -63.1757299254278 -30.146760164060854 L -62.67268393467566 -31.179074528026767 L -62.15277095686111 -32.20299772356546 L -61.6161309152317 -33.218254184063134 L -61.06290823475975 -34.224570675368724 L -60.49325180327335 -35.22167636932923 L -59.90731493138662 -36.20930291667683 L -59.30525531123935 -37.1871845192496 L -58.68723497405765 -38.1550580015251 L -58.0534202465469 -39.112662881448244 L -57.40398170612828 -40.059741440534665 L -56.73909413503187 -40.996038793229665 L -56.058936473257596 -41.921302955505446 L -55.36369177041746 -42.83528491267695 L -54.65354713647195 -43.737738686418595 L -53.92869369137311 -44.62842140096436 L -53.1893265136291 -45.50709334847208 L -52.43564458780282 -46.37351805353595 L -51.667850750959715 -47.22746233682847 L -50.88615163807853 -48.068696377855694 L -50.09075762644002 -48.89699377680841 L -49.28188277900853 -49.712131615492645 L -48.45974478682144 -50.513890517323375 L -47.62456491040265 -51.30205470636478 L -46.776567920214895 -52.07641206540177 L -45.91598203616779 -52.83675419302663 L -45.043038866197406 -53.582876459725725 L -44.15797334393392 -54.31457806295121 L -43.26102366547461 -55.03166208116239 L -42.35243122527823 -55.73393552682313 L -41.43244055119924 -56.42120939834009 L -40.50129923867835 -57.09329873092842 L -39.55925788410748 -57.75002264639106 L -38.606570017387526 -58.39120440179801 L -37.64349203369592 -59.01667143705304 L -36.670283124483745 -59.62625542133434 L -35.687205207719906 -60.21979229839712 L -34.69452285740154 -60.79712233072584 L -33.6925032323499 -61.35809014252392 L -32.681416004310115 -61.90254476152998 L -31.661533285375107 -62.43033965964853 L -30.633129554752507 -62.941332792384905 L -29.59648158489453 -63.435386637073464 L -28.551868367010727 -63.91236822988875 L -27.49957103598348 -64.37214920162988 L -26.43987279470695 -64.81460581226824 L -25.37305883786881 -65.23961898424949 L -24.29941627519662 -65.64707433454069 L -23.219234054188377 -66.03686220541387 L -22.1328028823485 -66.40887769395826 L -21.040415148950522 -66.76302068031234 L -19.942364846346536 -67.09919585460918 L -18.838947490845825 -67.41731274262682 L -17.730460043183 -67.71728573013756 L -16.617200828597376 -67.99903408594906 L -15.499469456545544 -68.26248198363147 L -14.377566740067614 -68.50755852192444 L -13.251794614830258 -68.73419774381858 L -12.122456057867158 -68.94233865430647 L -10.989855006039377 -69.13192523679803 L -9.8542962742374 -69.3029064681962 L -8.716085473346732 -69.45523633262876 Z",
          "type": "path"
         },
         {
          "layer": "below",
          "line": {
           "color": "rgba(0,0,0,0)"
          },
          "path": "M -72.37337627964145 19.674714887017622 L -72.1258268570859 20.563684012882188 L -71.86735858675407 21.449540082782818 L -71.59801059714991 22.332148990422088 L -71.3178236638156 23.211377121078016 L -71.02684020315878 24.087091371831253 L -70.72510426603132 24.959159171714848 L -70.41266153106055 25.82744850178402 L -70.08955929773418 26.691827915101747 L -69.75584647923979 27.552166556638124 L -69.41157359506023 28.40833418307975 L -69.05679276332538 29.260201182547103 L -68.69155769292237 30.107638594215857 L -68.31592367536487 30.950518127839498 L -67.9299475764225 31.78871218317109 L -67.53368782751231 32.62209386928001 L -67.12720441685306 33.45053702376125 L -66.7105588803838 34.273916231835045 L -66.28381429244816 35.09210684533268 L -65.8470352562458 35.9049850015666 L -65.40028789405248 36.71242764208127 L -64.94363983720987 37.51431253128287 L -64.47716021588722 38.31051827494389 L -64.0009196486161 39.10092433858035 L -63.51499023159954 39.88541106569939 L -63.01944552779775 40.66385969591342 L -62.51436055579184 41.43615238291867 L -61.99981177842684 42.20217221233575 L -61.4758770912364 42.9618032194087 L -60.942635810650444 43.714930406560484 L -60.40016866198789 44.46143976080189 L -59.84855776723579 45.20121827099178 L -59.2878866326172 45.93415394494526 L -58.718240135949785 46.66013582638757 L -58.13970451379606 47.37905401175167 L -57.55236734840869 48.09079966681591 L -56.95631755447172 48.79526504317993 L -56.35164536563997 49.49234349457648 L -55.73844232087902 50.18192949301614 L -55.11680125060758 50.86391864476254 L -54.48681626264404 51.538207706136504 L -53.848582727960014 52.204694599145455 L -53.20219726624237 52.863278426936716 L -52.5477577312666 53.51385948907171 L -51.88536319608282 54.15633929661951 L -51.21511393801758 54.79062058706651 L -50.5371114234935 55.41660733904055 L -49.851458292668276 56.03420478684743 L -49.15825834389668 56.64331943481696 L -48.45761651801674 57.24385907145701 L -47.74963888246346 57.83573278341283 L -47.0344326152112 58.41885096923044 L -46.31210598854897 58.99312535292063 L -45.58276835268902 59.55846899732306 L -44.84653011921305 60.11479631726715 L -44.103502744357264 60.66202309252859 L -43.35379871213966 61.200066480578904 L -42.597531517331234 61.728845029126965 L -41.834815648274564 62.248278688449545 L -41.06576656955206 62.75828882350969 L -40.29050070450588 63.258798225861135 L -39.5091354176133 63.749731125336474 L -38.72178899671922 64.2310132015178 L -37.92858063512929 64.70257159498759 L -37.12963041356532 65.16433491835886 L -36.325059281986945 65.61623326708212 L -35.5149890412816 66.0581982300278 L -34.69954232482526 66.49016289984301 L -33.8788425799176 66.91206188308026 L -33.053014049093974 67.32383131009699 L -32.22218175131647 67.7254088447248 L -31.38647146304794 68.11673369370611 L -30.546009699211385 68.4977466158974 L -29.700923694037 68.86838993123762 L -28.851341381800896 69.22860752948006 L -27.99739137745753 69.57834487868669 L -27.139202957169424 69.91754903348348 L -26.276906038736186 70.24616864307569 L -25.41063116192694 70.56415395902162 L -24.540509468718604 70.8714568427638 L -23.666672683442464 71.16803077291655 L -22.78925309284315 71.45383085230867 L -21.908383526052194 71.72881381478021 L -21.024197334479734 71.99293803173236 L -20.136828371626564 72.24616351842951 L -19.246410972821078 72.4884519400523 L -18.3530799348823 72.71976661750105 L -17.456970495713797 72.94007253294843 L -16.5582183138304 73.14933633514067 L -15.656959447821658 73.34752634444646 L -14.753330335754056 73.53461255765288 L -13.847467774516394 73.71056665250735 L -12.939508899110834 73.87536199200537 L -12.029591161892165 74.02897362842285 L -11.117852311759707 74.17137830709297 L -10.204430373303886 74.30255446992649 L -9.289463625911518 74.42248225867547 L -8.373090582831814 74.5311435179395 L -7.4554499702076145 74.62852179791403 L -6.536680706074368 74.71460235688092 L -8.715574274765824 99.61946980917456 L -9.940599960276819 99.50469573055204 L -11.164120777109085 99.37485802391932 L -12.385951501215356 99.22997634490063 L -13.605907164405181 99.07007262656865 L -14.823803082346277 98.89517107612394 L -16.03945488252289 98.70529817123047 L -17.252678532147776 98.50048265600716 L -18.46329036602186 98.28075553667648 L -19.67110711433874 98.0461500768705 L -20.875945930428877 97.79670179259529 L -22.077624418440532 97.53244844685423 L -23.27596066095173 97.25343004393125 L -24.47077324650973 96.95968882333474 L -25.66188129709477 96.65126925340307 L -26.849104495502175 96.32821802457266 L -28.032263112639644 95.9905840423098 L -29.211178034736257 95.63841841970695 L -30.385670790457453 95.27177446974491 L -31.555563577923284 94.89070769722207 L -32.720679291624805 94.49527579035174 L -33.88084154923592 94.08553861202884 L -35.035874718314915 93.66155819076758 L -36.18560394289256 93.2233987113113 L -37.32985516994337 92.77112650491559 L -38.468455175734526 92.30481003930674 L -39.60123159204934 91.82451990831683 L -40.72801293228185 91.33032882119653 L -41.84862861739725 90.82231159160816 L -42.96290900175529 90.30054512629972 L -44.07068539879197 89.76510841346266 L -45.171790106556806 89.21608251077367 L -46.266056433100346 88.65355053312402 L -47.353318721708796 88.07759764003707 L -48.43341237598259 87.48831102277616 L -49.50617388475377 86.88577989114515 L -50.57144084683905 86.27009545998345 L -51.62905199562563 85.64135093535707 L -52.678847223484404 84.99964150044863 L -53.720667606007844 84.34506430114817 L -54.75435542606941 83.67771843134625 L -55.77975419769942 82.99770491793272 L -56.796708689774974 82.30512670550262 L -57.80506494951955 81.60008864077187 L -58.80467032580968 80.88269745670479 L -59.795373492284064 80.15306175635621 L -60.77702447025203 79.41129199643075 L -61.74947465139863 78.65750047056083 L -62.712576820281605 77.89180129230725 L -63.66618517661794 77.11431037788378 L -64.61015535735567 76.32514542860935 L -65.5443444585289 75.52442591308927 L -66.46861105689104 74.7122730491299 L -67.38281523132467 73.8888097853874 L -68.28681858402345 73.05416078275535 L -69.18048426144377 72.20845239549267 L -70.06367697502213 71.35181265209562 L -70.9362630216565 70.48437123591562 L -71.79811030394669 69.60625946552727 L -72.64908835019206 68.71761027484867 L -73.48906833414344 67.81855819301671 L -74.31792309450536 66.90923932402151 L -75.13552715418662 65.98979132610198 L -75.94175673929561 65.06035339090658 L -76.73648979787825 64.12106622242122 L -77.51960601839475 63.17207201566889 L -78.29098684793304 62.21351443518343 L -79.05051551015627 61.24553859326034 L -79.79807702298105 60.268291027989044 L -80.53355821598386 59.28191968106918 L -81.25684774753393 58.286573875413985 L -81.96783612164853 57.28240429254493 L -82.66641570456912 56.269562949781005 L -83.35248074105579 55.248203177224894 L -84.025927370397 54.218479594551226 L -84.68665364213273 53.18054808759918 L -85.33455953148814 52.1345657847738 L -85.96954695451629 51.08069103325852 L -86.59151978294649 50.01908337504383 L -87.20038385873664 48.94990352277503 L -87.79604700832773 47.87331333542213 L -88.37841905659751 46.78947579377699 L -88.94741184051173 45.69855497578006 L -89.50293922247076 44.600716031681664 L -90.04491710334977 43.496125159039934 L -90.57326343523002 42.38494957756146 L -91.08789823381983 41.267357503785995 L -91.58874359056317 40.14351812562114 L -92.07572368443384 39.01360157672947 L -92.54876479341364 37.877778910772996 L -93.00779530565306 36.7362220755175 L -93.45274573031223 35.589103886802334 L -93.88354870808074 34.436598002378695 L -94.3001390213751 33.2788788956198 L -94.70245360421171 32.11612182910834 L -95.09043155175412 30.94850282810402 L -95.4640141295332 29.77619865389612 L -95.82314478233876 28.599386777043755 L -96.1677691427812 27.418245350509586 L -96.49783503952193 26.23295318269016 Z",
          "type": "path"
         },
         {
          "layer": "above",
          "line": {
           "color": "black",
           "width": 1
          },
          "path": "M -72.37337627964145 19.674714887017622 L -72.1258268570859 20.563684012882188 L -71.86735858675407 21.449540082782818 L -71.59801059714991 22.332148990422088 L -71.3178236638156 23.211377121078016 L -71.02684020315878 24.087091371831253 L -70.72510426603132 24.959159171714848 L -70.41266153106055 25.82744850178402 L -70.08955929773418 26.691827915101747 L -69.75584647923979 27.552166556638124 L -69.41157359506023 28.40833418307975 L -69.05679276332538 29.260201182547103 L -68.69155769292237 30.107638594215857 L -68.31592367536487 30.950518127839498 L -67.9299475764225 31.78871218317109 L -67.53368782751231 32.62209386928001 L -67.12720441685306 33.45053702376125 L -66.7105588803838 34.273916231835045 L -66.28381429244816 35.09210684533268 L -65.8470352562458 35.9049850015666 L -65.40028789405248 36.71242764208127 L -64.94363983720987 37.51431253128287 L -64.47716021588722 38.31051827494389 L -64.0009196486161 39.10092433858035 L -63.51499023159954 39.88541106569939 L -63.01944552779775 40.66385969591342 L -62.51436055579184 41.43615238291867 L -61.99981177842684 42.20217221233575 L -61.4758770912364 42.9618032194087 L -60.942635810650444 43.714930406560484 L -60.40016866198789 44.46143976080189 L -59.84855776723579 45.20121827099178 L -59.2878866326172 45.93415394494526 L -58.718240135949785 46.66013582638757 L -58.13970451379606 47.37905401175167 L -57.55236734840869 48.09079966681591 L -56.95631755447172 48.79526504317993 L -56.35164536563997 49.49234349457648 L -55.73844232087902 50.18192949301614 L -55.11680125060758 50.86391864476254 L -54.48681626264404 51.538207706136504 L -53.848582727960014 52.204694599145455 L -53.20219726624237 52.863278426936716 L -52.5477577312666 53.51385948907171 L -51.88536319608282 54.15633929661951 L -51.21511393801758 54.79062058706651 L -50.5371114234935 55.41660733904055 L -49.851458292668276 56.03420478684743 L -49.15825834389668 56.64331943481696 L -48.45761651801674 57.24385907145701 L -47.74963888246346 57.83573278341283 L -47.0344326152112 58.41885096923044 L -46.31210598854897 58.99312535292063 L -45.58276835268902 59.55846899732306 L -44.84653011921305 60.11479631726715 L -44.103502744357264 60.66202309252859 L -43.35379871213966 61.200066480578904 L -42.597531517331234 61.728845029126965 L -41.834815648274564 62.248278688449545 L -41.06576656955206 62.75828882350969 L -40.29050070450588 63.258798225861135 L -39.5091354176133 63.749731125336474 L -38.72178899671922 64.2310132015178 L -37.92858063512929 64.70257159498759 L -37.12963041356532 65.16433491835886 L -36.325059281986945 65.61623326708212 L -35.5149890412816 66.0581982300278 L -34.69954232482526 66.49016289984301 L -33.8788425799176 66.91206188308026 L -33.053014049093974 67.32383131009699 L -32.22218175131647 67.7254088447248 L -31.38647146304794 68.11673369370611 L -30.546009699211385 68.4977466158974 L -29.700923694037 68.86838993123762 L -28.851341381800896 69.22860752948006 L -27.99739137745753 69.57834487868669 L -27.139202957169424 69.91754903348348 L -26.276906038736186 70.24616864307569 L -25.41063116192694 70.56415395902162 L -24.540509468718604 70.8714568427638 L -23.666672683442464 71.16803077291655 L -22.78925309284315 71.45383085230867 L -21.908383526052194 71.72881381478021 L -21.024197334479734 71.99293803173236 L -20.136828371626564 72.24616351842951 L -19.246410972821078 72.4884519400523 L -18.3530799348823 72.71976661750105 L -17.456970495713797 72.94007253294843 L -16.5582183138304 73.14933633514067 L -15.656959447821658 73.34752634444646 L -14.753330335754056 73.53461255765288 L -13.847467774516394 73.71056665250735 L -12.939508899110834 73.87536199200537 L -12.029591161892165 74.02897362842285 L -11.117852311759707 74.17137830709297 L -10.204430373303886 74.30255446992649 L -9.289463625911518 74.42248225867547 L -8.373090582831814 74.5311435179395 L -7.4554499702076145 74.62852179791403 L -6.536680706074368 74.71460235688092 L -8.715574274765824 99.61946980917456 L -9.940599960276819 99.50469573055204 L -11.164120777109085 99.37485802391932 L -12.385951501215356 99.22997634490063 L -13.605907164405181 99.07007262656865 L -14.823803082346277 98.89517107612394 L -16.03945488252289 98.70529817123047 L -17.252678532147776 98.50048265600716 L -18.46329036602186 98.28075553667648 L -19.67110711433874 98.0461500768705 L -20.875945930428877 97.79670179259529 L -22.077624418440532 97.53244844685423 L -23.27596066095173 97.25343004393125 L -24.47077324650973 96.95968882333474 L -25.66188129709477 96.65126925340307 L -26.849104495502175 96.32821802457266 L -28.032263112639644 95.9905840423098 L -29.211178034736257 95.63841841970695 L -30.385670790457453 95.27177446974491 L -31.555563577923284 94.89070769722207 L -32.720679291624805 94.49527579035174 L -33.88084154923592 94.08553861202884 L -35.035874718314915 93.66155819076758 L -36.18560394289256 93.2233987113113 L -37.32985516994337 92.77112650491559 L -38.468455175734526 92.30481003930674 L -39.60123159204934 91.82451990831683 L -40.72801293228185 91.33032882119653 L -41.84862861739725 90.82231159160816 L -42.96290900175529 90.30054512629972 L -44.07068539879197 89.76510841346266 L -45.171790106556806 89.21608251077367 L -46.266056433100346 88.65355053312402 L -47.353318721708796 88.07759764003707 L -48.43341237598259 87.48831102277616 L -49.50617388475377 86.88577989114515 L -50.57144084683905 86.27009545998345 L -51.62905199562563 85.64135093535707 L -52.678847223484404 84.99964150044863 L -53.720667606007844 84.34506430114817 L -54.75435542606941 83.67771843134625 L -55.77975419769942 82.99770491793272 L -56.796708689774974 82.30512670550262 L -57.80506494951955 81.60008864077187 L -58.80467032580968 80.88269745670479 L -59.795373492284064 80.15306175635621 L -60.77702447025203 79.41129199643075 L -61.74947465139863 78.65750047056083 L -62.712576820281605 77.89180129230725 L -63.66618517661794 77.11431037788378 L -64.61015535735567 76.32514542860935 L -65.5443444585289 75.52442591308927 L -66.46861105689104 74.7122730491299 L -67.38281523132467 73.8888097853874 L -68.28681858402345 73.05416078275535 L -69.18048426144377 72.20845239549267 L -70.06367697502213 71.35181265209562 L -70.9362630216565 70.48437123591562 L -71.79811030394669 69.60625946552727 L -72.64908835019206 68.71761027484867 L -73.48906833414344 67.81855819301671 L -74.31792309450536 66.90923932402151 L -75.13552715418662 65.98979132610198 L -75.94175673929561 65.06035339090658 L -76.73648979787825 64.12106622242122 L -77.51960601839475 63.17207201566889 L -78.29098684793304 62.21351443518343 L -79.05051551015627 61.24553859326034 L -79.79807702298105 60.268291027989044 L -80.53355821598386 59.28191968106918 L -81.25684774753393 58.286573875413985 L -81.96783612164853 57.28240429254493 L -82.66641570456912 56.269562949781005 L -83.35248074105579 55.248203177224894 L -84.025927370397 54.218479594551226 L -84.68665364213273 53.18054808759918 L -85.33455953148814 52.1345657847738 L -85.96954695451629 51.08069103325852 L -86.59151978294649 50.01908337504383 L -87.20038385873664 48.94990352277503 L -87.79604700832773 47.87331333542213 L -88.37841905659751 46.78947579377699 L -88.94741184051173 45.69855497578006 L -89.50293922247076 44.600716031681664 L -90.04491710334977 43.496125159039934 L -90.57326343523002 42.38494957756146 L -91.08789823381983 41.267357503785995 L -91.58874359056317 40.14351812562114 L -92.07572368443384 39.01360157672947 L -92.54876479341364 37.877778910772996 L -93.00779530565306 36.7362220755175 L -93.45274573031223 35.589103886802334 L -93.88354870808074 34.436598002378695 L -94.3001390213751 33.2788788956198 L -94.70245360421171 32.11612182910834 L -95.09043155175412 30.94850282810402 L -95.4640141295332 29.77619865389612 L -95.82314478233876 28.599386777043755 L -96.1677691427812 27.418245350509586 L -96.49783503952193 26.23295318269016 Z",
          "type": "path"
         },
         {
          "layer": "above",
          "line": {
           "color": "black",
           "width": 1
          },
          "path": "M -96.49783503952193 26.23295318269016 L -98.42779174031237 26.757612246343964",
          "type": "path"
         },
         {
          "layer": "above",
          "line": {
           "color": "black",
           "width": 1
          },
          "path": "M -94.05189393313049 33.97412614904427 L -95.9329318117931 34.65360867202515",
          "type": "path"
         },
         {
          "layer": "above",
          "line": {
           "color": "black",
           "width": 1
          },
          "path": "M -90.98607196636242 41.491381130686875 L -92.80579340568966 42.32120875330062",
          "type": "path"
         },
         {
          "layer": "above",
          "line": {
           "color": "black",
           "width": 1
          },
          "path": "M -87.32057547721959 48.735173112724226 L -89.06698698676398 49.70987657497871",
          "type": "path"
         },
         {
          "layer": "above",
          "line": {
           "color": "black",
           "width": 1
          },
          "path": "M -83.07956316174064 55.65775943077792 L -84.74115442497545 56.77091461939348",
          "type": "path"
         },
         {
          "layer": "above",
          "line": {
           "color": "black",
           "width": 1
          },
          "path": "M -78.29098684793304 62.21351443518343 L -79.8568065848917 63.457784723887094",
          "type": "path"
         },
         {
          "layer": "above",
          "line": {
           "color": "black",
           "width": 1
          },
          "path": "M -72.9864072697836 68.35923020228711 L -74.44613541517927 69.72641480633284",
          "type": "path"
         },
         {
          "layer": "above",
          "line": {
           "color": "black",
           "width": 1
          },
          "path": "M -67.20078605555223 74.05440131090047 L -68.54480177666328 75.53548933711849",
          "type": "path"
         },
         {
          "layer": "above",
          "line": {
           "color": "black",
           "width": 1
          },
          "path": "M -60.97225530132042 79.26149180699669 L -62.19170040734683 80.84672164313662",
          "type": "path"
         },
         {
          "layer": "above",
          "line": {
           "color": "black",
           "width": 1
          },
          "path": "M -54.34186624849697 83.94618259712865 L -55.42870357346691 85.62510624907124",
          "type": "path"
         },
         {
          "layer": "above",
          "line": {
           "color": "black",
           "width": 1
          },
          "path": "M -47.353318721708796 88.07759764003707 L -48.300385096142975 89.8391495928378",
          "type": "path"
         },
         {
          "layer": "above",
          "line": {
           "color": "black",
           "width": 1
          },
          "path": "M -40.05267311030609 91.62850744565777 L -40.853726572512215 93.46107759457094",
          "type": "path"
         },
         {
          "layer": "above",
          "line": {
           "color": "black",
           "width": 1
          },
          "path": "M -32.48804679176676 94.57550854029797 L -33.137807727602095 96.46701871110393",
          "type": "path"
         },
         {
          "layer": "above",
          "line": {
           "color": "black",
           "width": 1
          },
          "path": "M -24.709296997824097 96.89917771515567 L -25.203482937780578 98.83716126945879",
          "type": "path"
         },
         {
          "layer": "above",
          "line": {
           "color": "black",
           "width": 1
          },
          "path": "M -16.767692213494847 98.58420004155587 L -17.103046057764743 100.55588404238699",
          "type": "path"
         },
         {
          "layer": "above",
          "line": {
           "color": "black",
           "width": 1
          },
          "path": "M -8.715574274765824 99.61946980917456 L -8.88988576026114 101.61185920535804",
          "type": "path"
         },
         {
          "layer": "below",
          "line": {
           "color": "rgba(0,0,0,0)"
          },
          "path": "M -43.42402576778487 11.804828932210572 L -43.27549611425154 12.338210407729314 L -43.12041515205244 12.86972404966969 L -42.95880635828994 13.399289394253254 L -42.79069419828936 13.926826272646808 L -42.61610412189527 14.45225482309875 L -42.4350625596188 14.975495503028908 L -42.24759691863633 15.496469101070412 L -42.053735578640506 16.015096749061048 L -41.85350788754388 16.531299933982876 L -41.64694415703614 17.04500050984785 L -41.43407565799523 17.556120709528262 L -41.21493461575343 18.064583156529515 L -40.98955420521892 18.570310876703697 L -40.75796854585351 19.073227309902656 L -40.520212696507386 19.573256321568007 L -40.276322650111844 20.07032221425675 L -40.02633532823028 20.56434973910103 L -39.770288575468896 21.05526410719961 L -39.508221153747485 21.54299100093996 L -39.24017273643149 22.027456585248764 L -38.96618390232592 22.508587518769723 L -38.68629612953233 22.986310964966332 L -38.40055178916966 23.46055460314821 L -38.10899413895973 23.93124663941963 L -37.81166731667865 24.398315817548053 L -37.5086163334751 24.861691429751204 L -37.1998870670561 25.321303327401452 L -36.88552625474184 25.77708193164522 L -36.565581486390265 26.228958243936294 L -36.240101197192736 26.676863856481134 L -35.90913466034147 27.12073096259507 L -35.57273197957032 27.560492366967154 L -35.23094408156987 27.99608149583254 L -34.883822708277634 28.427432407051 L -34.53142040904521 28.85447980008955 L -34.17379053268303 29.27715902590796 L -33.81098721938398 29.695406096745888 L -33.44306539252741 30.109157695809685 L -33.070080750364546 30.518351186857522 L -32.69208975758643 30.922924623681904 L -32.309149636776006 31.322816759487274 L -31.921318359745424 31.71796705616203 L -31.528654638759964 32.108315693443025 L -31.131217917649693 32.493803577971704 L -30.72906836281055 32.87437235223991 L -30.3222668540961 33.24996440342433 L -29.910874975600965 33.62052287210846 L -29.494955006338007 33.98599166089017 L -29.074569910810048 34.34631544287421 L -28.649783329478073 34.7014396700477 L -28.220659569126724 35.05131058153826 L -27.78726359312938 35.395875211752376 L -27.349661011613414 35.73508139839384 L -26.907918071527828 36.06887779036029 L -26.462101646614357 36.39721385551716 L -26.012279227283795 36.720039888347344 L -25.55851891039874 37.03730701747618 L -25.100889388964738 37.34896721306973 L -24.639459941731236 37.654973294105815 L -24.17430042270353 37.95527893551668 L -23.70548125056798 38.249838675201886 L -23.233073398031532 38.53860792091068 L -22.757148381077574 38.82154295699255 L -22.277778248139196 39.09860095101532 L -21.795035569192166 39.36973996024927 L -21.30899342476896 39.63491893801668 L -20.819725394895155 39.89409773990581 L -20.327305547950562 40.14723712984815 L -19.831808429456387 40.394298786058194 L -19.333309050789882 40.635245306834875 L -18.831882877828765 40.87004021622367 L -18.32760581952683 41.09864796953844 L -17.820554216422202 41.321033958742575 L -17.31080482908054 41.53716451768804 L -16.798434826474516 41.74700692721201 L -16.283521774301654 41.950529420090085 L -15.76614362324171 42.14770118584541 L -15.246378697156164 42.338492375412976 L -14.724305681231161 42.52287410565828 L -14.200003610065478 42.70081846374993 L -13.673551855705892 42.8722985113852 L -13.145030115631316 43.037288288868126 L -12.614518400687839 43.195762819039416 L -12.082097022975939 43.34769811105771 L -11.547846583692646 43.493071164031385 L -11.011847960929378 43.631859970500635 L -10.474182297428278 43.76404351976906 L -9.93493098829824 43.8896018010844 L -9.394175668692995 44.00851580666788 L -8.851998201452433 44.12076753459172 L -8.308480664709837 44.22633999150442 L -7.7637053394665 44.32521719520322 L -7.2177546971353 44.41738417705371 L -6.670711387055825 44.502826984255776 L -6.122658223982332 44.58153268195589 L -5.5736781755469105 44.65348935520529 L -5.023854349699088 44.71868611076369 L -4.4732699821245685 44.77711307874842 L -3.922008423644621 44.82876141412855 L -6.100901992336078 69.7336288664222 L -6.958419972193774 69.65328701138644 L -7.814884543976359 69.56240061674353 L -8.67016605085075 69.46098344143044 L -9.524135015083628 69.34905083859806 L -10.376662157642393 69.22661975328676 L -11.227618417766022 69.09370871986133 L -12.076874972503445 68.950337859205 L -12.924303256215302 68.79652887567353 L -13.769774980037118 68.63230505380935 L -14.613162151300214 68.4576912548167 L -15.454337092908373 68.27271391279797 L -16.29317246266621 68.07740103075187 L -17.12954127255681 67.87178217633432 L -17.963316907966338 67.65588847738215 L -18.794373146851523 67.42975261720086 L -19.622584178847752 67.19340882961687 L -20.44782462431538 66.94689289379487 L -21.269969553320216 66.69024212882144 L -22.0888945045463 66.42349538805546 L -22.904475504137363 66.14669305324622 L -23.71658908446514 65.85987702842019 L -24.52511230282044 65.56309073353731 L -25.329922760024793 65.25637909791791 L -26.13089861896036 64.93978855344092 L -26.92791862301417 64.61336702751473 L -27.720862114434535 64.27716393582178 L -28.509609052597295 63.93123017483758 L -29.294040032178078 63.5756181141257 L -30.074036301228706 63.21038158840981 L -30.84947977915438 62.83557588942386 L -31.620253074589762 62.451257757541576 L -32.38623950317024 62.05748537318681 L -33.14732310519616 61.654318348025946 L -33.90338866318781 61.241817715943306 L -34.65432171932764 60.82004592380161 L -35.40000859278734 60.389066821988415 L -36.14033639693794 59.94894565474994 L -36.87519305643908 59.499749050314044 L -37.60446732420549 59.04154501080372 L -38.32804879824859 58.57440290194237 L -39.04582793838959 58.098393442552904 L -39.757696082842486 57.61358869385183 L -40.46354546466368 57.12006204854031 L -41.16326922806678 56.61788821969335 L -41.856761444598845 56.10714322944934 L -42.54391712917642 55.58790439750152 L -43.22463225597904 55.06025032939259 L -43.89880377419713 54.524260904615076 L -44.566329623632555 53.980017264518644 L -45.22710875014896 53.42760180002654 L -45.88104112097023 52.86709813916249 L -46.52802773982373 52.29859113439093 L -47.167970661927264 51.72216684977118 L -47.800773008816414 51.13791254792874 L -48.42633898301064 50.54591667684487 L -49.04457388251549 49.94626885646693 L -49.65538411515955 49.33905986514093 L -50.25867721276268 48.72438162586909 L -50.85436184513444 48.10232719239407 L -51.442347833900406 47.47299073511171 L -52.02254616615375 46.83646752681506 L -52.59486900793063 46.19285392827138 L -53.15922971750693 45.5422473736346 L -53.71554285851477 44.88474635569485 L -54.263724212876326 44.220450410968226 L -54.80369079355313 43.549460104628395 L -55.33536085710939 42.87187701528224 L -55.85865391608674 42.18780371959233 L -56.3734907511887 41.49734377674843 L -56.879793423273746 40.800601712789785 L -57.37748528515397 40.09768300478145 L -57.86649099319838 39.3886940648467 L -58.34673651873905 38.67374222405743 L -58.8181491592779 37.95293571618586 L -59.28065754949291 37.226383661319424 L -59.734191672041696 36.49419604934166 L -60.17868286816141 35.756483723280965 L -60.61406384806254 35.01335836253068 L -61.04026870111565 34.26493246594252 L -61.457232905829414 33.511319334795495 L -61.864893339618256 32.75263305564389 L -62.263188288358215 31.988988483046047 L -62.652057455729526 31.220501222177166 L -63.031441972344844 30.447287611327955 L -63.401284404661006 29.669464704293016 L -63.76152876367388 28.887150252650198 L -64.11212051339422 28.100462687934797 L -64.45300657910369 27.30952110371063 L -64.78413535538955 26.514445237541096 L -65.10545671395714 25.715355452862248 L -65.41692201121856 24.91237272076163 L -65.7184840956565 24.105618601665086 L -66.01009731496258 23.295215226933855 L -66.2917175229482 22.481285280375836 L -66.56330208622789 21.663951979672813 L -66.82480989067324 20.843339057727285 L -67.07620134763712 20.01957074393063 L -67.31743839994684 19.19277174535671 L -67.54848452766535 18.363067227883114 Z",
          "type": "path"
         },
         {
          "layer": "above",
          "line": {
           "color": "black",
           "width": 1
          },
          "path": "M -43.42402576778487 11.804828932210572 L -43.27549611425154 12.338210407729314 L -43.12041515205244 12.86972404966969 L -42.95880635828994 13.399289394253254 L -42.79069419828936 13.926826272646808 L -42.61610412189527 14.45225482309875 L -42.4350625596188 14.975495503028908 L -42.24759691863633 15.496469101070412 L -42.053735578640506 16.015096749061048 L -41.85350788754388 16.531299933982876 L -41.64694415703614 17.04500050984785 L -41.43407565799523 17.556120709528262 L -41.21493461575343 18.064583156529515 L -40.98955420521892 18.570310876703697 L -40.75796854585351 19.073227309902656 L -40.520212696507386 19.573256321568007 L -40.276322650111844 20.07032221425675 L -40.02633532823028 20.56434973910103 L -39.770288575468896 21.05526410719961 L -39.508221153747485 21.54299100093996 L -39.24017273643149 22.027456585248764 L -38.96618390232592 22.508587518769723 L -38.68629612953233 22.986310964966332 L -38.40055178916966 23.46055460314821 L -38.10899413895973 23.93124663941963 L -37.81166731667865 24.398315817548053 L -37.5086163334751 24.861691429751204 L -37.1998870670561 25.321303327401452 L -36.88552625474184 25.77708193164522 L -36.565581486390265 26.228958243936294 L -36.240101197192736 26.676863856481134 L -35.90913466034147 27.12073096259507 L -35.57273197957032 27.560492366967154 L -35.23094408156987 27.99608149583254 L -34.883822708277634 28.427432407051 L -34.53142040904521 28.85447980008955 L -34.17379053268303 29.27715902590796 L -33.81098721938398 29.695406096745888 L -33.44306539252741 30.109157695809685 L -33.070080750364546 30.518351186857522 L -32.69208975758643 30.922924623681904 L -32.309149636776006 31.322816759487274 L -31.921318359745424 31.71796705616203 L -31.528654638759964 32.108315693443025 L -31.131217917649693 32.493803577971704 L -30.72906836281055 32.87437235223991 L -30.3222668540961 33.24996440342433 L -29.910874975600965 33.62052287210846 L -29.494955006338007 33.98599166089017 L -29.074569910810048 34.34631544287421 L -28.649783329478073 34.7014396700477 L -28.220659569126724 35.05131058153826 L -27.78726359312938 35.395875211752376 L -27.349661011613414 35.73508139839384 L -26.907918071527828 36.06887779036029 L -26.462101646614357 36.39721385551716 L -26.012279227283795 36.720039888347344 L -25.55851891039874 37.03730701747618 L -25.100889388964738 37.34896721306973 L -24.639459941731236 37.654973294105815 L -24.17430042270353 37.95527893551668 L -23.70548125056798 38.249838675201886 L -23.233073398031532 38.53860792091068 L -22.757148381077574 38.82154295699255 L -22.277778248139196 39.09860095101532 L -21.795035569192166 39.36973996024927 L -21.30899342476896 39.63491893801668 L -20.819725394895155 39.89409773990581 L -20.327305547950562 40.14723712984815 L -19.831808429456387 40.394298786058194 L -19.333309050789882 40.635245306834875 L -18.831882877828765 40.87004021622367 L -18.32760581952683 41.09864796953844 L -17.820554216422202 41.321033958742575 L -17.31080482908054 41.53716451768804 L -16.798434826474516 41.74700692721201 L -16.283521774301654 41.950529420090085 L -15.76614362324171 42.14770118584541 L -15.246378697156164 42.338492375412976 L -14.724305681231161 42.52287410565828 L -14.200003610065478 42.70081846374993 L -13.673551855705892 42.8722985113852 L -13.145030115631316 43.037288288868126 L -12.614518400687839 43.195762819039416 L -12.082097022975939 43.34769811105771 L -11.547846583692646 43.493071164031385 L -11.011847960929378 43.631859970500635 L -10.474182297428278 43.76404351976906 L -9.93493098829824 43.8896018010844 L -9.394175668692995 44.00851580666788 L -8.851998201452433 44.12076753459172 L -8.308480664709837 44.22633999150442 L -7.7637053394665 44.32521719520322 L -7.2177546971353 44.41738417705371 L -6.670711387055825 44.502826984255776 L -6.122658223982332 44.58153268195589 L -5.5736781755469105 44.65348935520529 L -5.023854349699088 44.71868611076369 L -4.4732699821245685 44.77711307874842 L -3.922008423644621 44.82876141412855 L -6.100901992336078 69.7336288664222 L -6.958419972193774 69.65328701138644 L -7.814884543976359 69.56240061674353 L -8.67016605085075 69.46098344143044 L -9.524135015083628 69.34905083859806 L -10.376662157642393 69.22661975328676 L -11.227618417766022 69.09370871986133 L -12.076874972503445 68.950337859205 L -12.924303256215302 68.79652887567353 L -13.769774980037118 68.63230505380935 L -14.613162151300214 68.4576912548167 L -15.454337092908373 68.27271391279797 L -16.29317246266621 68.07740103075187 L -17.12954127255681 67.87178217633432 L -17.963316907966338 67.65588847738215 L -18.794373146851523 67.42975261720086 L -19.622584178847752 67.19340882961687 L -20.44782462431538 66.94689289379487 L -21.269969553320216 66.69024212882144 L -22.0888945045463 66.42349538805546 L -22.904475504137363 66.14669305324622 L -23.71658908446514 65.85987702842019 L -24.52511230282044 65.56309073353731 L -25.329922760024793 65.25637909791791 L -26.13089861896036 64.93978855344092 L -26.92791862301417 64.61336702751473 L -27.720862114434535 64.27716393582178 L -28.509609052597295 63.93123017483758 L -29.294040032178078 63.5756181141257 L -30.074036301228706 63.21038158840981 L -30.84947977915438 62.83557588942386 L -31.620253074589762 62.451257757541576 L -32.38623950317024 62.05748537318681 L -33.14732310519616 61.654318348025946 L -33.90338866318781 61.241817715943306 L -34.65432171932764 60.82004592380161 L -35.40000859278734 60.389066821988415 L -36.14033639693794 59.94894565474994 L -36.87519305643908 59.499749050314044 L -37.60446732420549 59.04154501080372 L -38.32804879824859 58.57440290194237 L -39.04582793838959 58.098393442552904 L -39.757696082842486 57.61358869385183 L -40.46354546466368 57.12006204854031 L -41.16326922806678 56.61788821969335 L -41.856761444598845 56.10714322944934 L -42.54391712917642 55.58790439750152 L -43.22463225597904 55.06025032939259 L -43.89880377419713 54.524260904615076 L -44.566329623632555 53.980017264518644 L -45.22710875014896 53.42760180002654 L -45.88104112097023 52.86709813916249 L -46.52802773982373 52.29859113439093 L -47.167970661927264 51.72216684977118 L -47.800773008816414 51.13791254792874 L -48.42633898301064 50.54591667684487 L -49.04457388251549 49.94626885646693 L -49.65538411515955 49.33905986514093 L -50.25867721276268 48.72438162586909 L -50.85436184513444 48.10232719239407 L -51.442347833900406 47.47299073511171 L -52.02254616615375 46.83646752681506 L -52.59486900793063 46.19285392827138 L -53.15922971750693 45.5422473736346 L -53.71554285851477 44.88474635569485 L -54.263724212876326 44.220450410968226 L -54.80369079355313 43.549460104628395 L -55.33536085710939 42.87187701528224 L -55.85865391608674 42.18780371959233 L -56.3734907511887 41.49734377674843 L -56.879793423273746 40.800601712789785 L -57.37748528515397 40.09768300478145 L -57.86649099319838 39.3886940648467 L -58.34673651873905 38.67374222405743 L -58.8181491592779 37.95293571618586 L -59.28065754949291 37.226383661319424 L -59.734191672041696 36.49419604934166 L -60.17868286816141 35.756483723280965 L -60.61406384806254 35.01335836253068 L -61.04026870111565 34.26493246594252 L -61.457232905829414 33.511319334795495 L -61.864893339618256 32.75263305564389 L -62.263188288358215 31.988988483046047 L -62.652057455729526 31.220501222177166 L -63.031441972344844 30.447287611327955 L -63.401284404661006 29.669464704293016 L -63.76152876367388 28.887150252650198 L -64.11212051339422 28.100462687934797 L -64.45300657910369 27.30952110371063 L -64.78413535538955 26.514445237541096 L -65.10545671395714 25.715355452862248 L -65.41692201121856 24.91237272076163 L -65.7184840956565 24.105618601665086 L -66.01009731496258 23.295215226933855 L -66.2917175229482 22.481285280375836 L -66.56330208622789 21.663951979672813 L -66.82480989067324 20.843339057727285 L -67.07620134763712 20.01957074393063 L -67.31743839994684 19.19277174535671 L -67.54848452766535 18.363067227883114 Z",
          "type": "path"
         }
        ],
        "showlegend": false,
        "template": {
         "data": {
          "bar": [
           {
            "error_x": {
             "color": "#2a3f5f"
            },
            "error_y": {
             "color": "#2a3f5f"
            },
            "marker": {
             "line": {
              "color": "#E5ECF6",
              "width": 0.5
             },
             "pattern": {
              "fillmode": "overlay",
              "size": 10,
              "solidity": 0.2
             }
            },
            "type": "bar"
           }
          ],
          "barpolar": [
           {
            "marker": {
             "line": {
              "color": "#E5ECF6",
              "width": 0.5
             },
             "pattern": {
              "fillmode": "overlay",
              "size": 10,
              "solidity": 0.2
             }
            },
            "type": "barpolar"
           }
          ],
          "carpet": [
           {
            "aaxis": {
             "endlinecolor": "#2a3f5f",
             "gridcolor": "white",
             "linecolor": "white",
             "minorgridcolor": "white",
             "startlinecolor": "#2a3f5f"
            },
            "baxis": {
             "endlinecolor": "#2a3f5f",
             "gridcolor": "white",
             "linecolor": "white",
             "minorgridcolor": "white",
             "startlinecolor": "#2a3f5f"
            },
            "type": "carpet"
           }
          ],
          "choropleth": [
           {
            "colorbar": {
             "outlinewidth": 0,
             "ticks": ""
            },
            "type": "choropleth"
           }
          ],
          "contour": [
           {
            "colorbar": {
             "outlinewidth": 0,
             "ticks": ""
            },
            "colorscale": [
             [
              0,
              "#0d0887"
             ],
             [
              0.1111111111111111,
              "#46039f"
             ],
             [
              0.2222222222222222,
              "#7201a8"
             ],
             [
              0.3333333333333333,
              "#9c179e"
             ],
             [
              0.4444444444444444,
              "#bd3786"
             ],
             [
              0.5555555555555556,
              "#d8576b"
             ],
             [
              0.6666666666666666,
              "#ed7953"
             ],
             [
              0.7777777777777778,
              "#fb9f3a"
             ],
             [
              0.8888888888888888,
              "#fdca26"
             ],
             [
              1,
              "#f0f921"
             ]
            ],
            "type": "contour"
           }
          ],
          "contourcarpet": [
           {
            "colorbar": {
             "outlinewidth": 0,
             "ticks": ""
            },
            "type": "contourcarpet"
           }
          ],
          "heatmap": [
           {
            "colorbar": {
             "outlinewidth": 0,
             "ticks": ""
            },
            "colorscale": [
             [
              0,
              "#0d0887"
             ],
             [
              0.1111111111111111,
              "#46039f"
             ],
             [
              0.2222222222222222,
              "#7201a8"
             ],
             [
              0.3333333333333333,
              "#9c179e"
             ],
             [
              0.4444444444444444,
              "#bd3786"
             ],
             [
              0.5555555555555556,
              "#d8576b"
             ],
             [
              0.6666666666666666,
              "#ed7953"
             ],
             [
              0.7777777777777778,
              "#fb9f3a"
             ],
             [
              0.8888888888888888,
              "#fdca26"
             ],
             [
              1,
              "#f0f921"
             ]
            ],
            "type": "heatmap"
           }
          ],
          "heatmapgl": [
           {
            "colorbar": {
             "outlinewidth": 0,
             "ticks": ""
            },
            "colorscale": [
             [
              0,
              "#0d0887"
             ],
             [
              0.1111111111111111,
              "#46039f"
             ],
             [
              0.2222222222222222,
              "#7201a8"
             ],
             [
              0.3333333333333333,
              "#9c179e"
             ],
             [
              0.4444444444444444,
              "#bd3786"
             ],
             [
              0.5555555555555556,
              "#d8576b"
             ],
             [
              0.6666666666666666,
              "#ed7953"
             ],
             [
              0.7777777777777778,
              "#fb9f3a"
             ],
             [
              0.8888888888888888,
              "#fdca26"
             ],
             [
              1,
              "#f0f921"
             ]
            ],
            "type": "heatmapgl"
           }
          ],
          "histogram": [
           {
            "marker": {
             "pattern": {
              "fillmode": "overlay",
              "size": 10,
              "solidity": 0.2
             }
            },
            "type": "histogram"
           }
          ],
          "histogram2d": [
           {
            "colorbar": {
             "outlinewidth": 0,
             "ticks": ""
            },
            "colorscale": [
             [
              0,
              "#0d0887"
             ],
             [
              0.1111111111111111,
              "#46039f"
             ],
             [
              0.2222222222222222,
              "#7201a8"
             ],
             [
              0.3333333333333333,
              "#9c179e"
             ],
             [
              0.4444444444444444,
              "#bd3786"
             ],
             [
              0.5555555555555556,
              "#d8576b"
             ],
             [
              0.6666666666666666,
              "#ed7953"
             ],
             [
              0.7777777777777778,
              "#fb9f3a"
             ],
             [
              0.8888888888888888,
              "#fdca26"
             ],
             [
              1,
              "#f0f921"
             ]
            ],
            "type": "histogram2d"
           }
          ],
          "histogram2dcontour": [
           {
            "colorbar": {
             "outlinewidth": 0,
             "ticks": ""
            },
            "colorscale": [
             [
              0,
              "#0d0887"
             ],
             [
              0.1111111111111111,
              "#46039f"
             ],
             [
              0.2222222222222222,
              "#7201a8"
             ],
             [
              0.3333333333333333,
              "#9c179e"
             ],
             [
              0.4444444444444444,
              "#bd3786"
             ],
             [
              0.5555555555555556,
              "#d8576b"
             ],
             [
              0.6666666666666666,
              "#ed7953"
             ],
             [
              0.7777777777777778,
              "#fb9f3a"
             ],
             [
              0.8888888888888888,
              "#fdca26"
             ],
             [
              1,
              "#f0f921"
             ]
            ],
            "type": "histogram2dcontour"
           }
          ],
          "mesh3d": [
           {
            "colorbar": {
             "outlinewidth": 0,
             "ticks": ""
            },
            "type": "mesh3d"
           }
          ],
          "parcoords": [
           {
            "line": {
             "colorbar": {
              "outlinewidth": 0,
              "ticks": ""
             }
            },
            "type": "parcoords"
           }
          ],
          "pie": [
           {
            "automargin": true,
            "type": "pie"
           }
          ],
          "scatter": [
           {
            "fillpattern": {
             "fillmode": "overlay",
             "size": 10,
             "solidity": 0.2
            },
            "type": "scatter"
           }
          ],
          "scatter3d": [
           {
            "line": {
             "colorbar": {
              "outlinewidth": 0,
              "ticks": ""
             }
            },
            "marker": {
             "colorbar": {
              "outlinewidth": 0,
              "ticks": ""
             }
            },
            "type": "scatter3d"
           }
          ],
          "scattercarpet": [
           {
            "marker": {
             "colorbar": {
              "outlinewidth": 0,
              "ticks": ""
             }
            },
            "type": "scattercarpet"
           }
          ],
          "scattergeo": [
           {
            "marker": {
             "colorbar": {
              "outlinewidth": 0,
              "ticks": ""
             }
            },
            "type": "scattergeo"
           }
          ],
          "scattergl": [
           {
            "marker": {
             "colorbar": {
              "outlinewidth": 0,
              "ticks": ""
             }
            },
            "type": "scattergl"
           }
          ],
          "scattermapbox": [
           {
            "marker": {
             "colorbar": {
              "outlinewidth": 0,
              "ticks": ""
             }
            },
            "type": "scattermapbox"
           }
          ],
          "scatterpolar": [
           {
            "marker": {
             "colorbar": {
              "outlinewidth": 0,
              "ticks": ""
             }
            },
            "type": "scatterpolar"
           }
          ],
          "scatterpolargl": [
           {
            "marker": {
             "colorbar": {
              "outlinewidth": 0,
              "ticks": ""
             }
            },
            "type": "scatterpolargl"
           }
          ],
          "scatterternary": [
           {
            "marker": {
             "colorbar": {
              "outlinewidth": 0,
              "ticks": ""
             }
            },
            "type": "scatterternary"
           }
          ],
          "surface": [
           {
            "colorbar": {
             "outlinewidth": 0,
             "ticks": ""
            },
            "colorscale": [
             [
              0,
              "#0d0887"
             ],
             [
              0.1111111111111111,
              "#46039f"
             ],
             [
              0.2222222222222222,
              "#7201a8"
             ],
             [
              0.3333333333333333,
              "#9c179e"
             ],
             [
              0.4444444444444444,
              "#bd3786"
             ],
             [
              0.5555555555555556,
              "#d8576b"
             ],
             [
              0.6666666666666666,
              "#ed7953"
             ],
             [
              0.7777777777777778,
              "#fb9f3a"
             ],
             [
              0.8888888888888888,
              "#fdca26"
             ],
             [
              1,
              "#f0f921"
             ]
            ],
            "type": "surface"
           }
          ],
          "table": [
           {
            "cells": {
             "fill": {
              "color": "#EBF0F8"
             },
             "line": {
              "color": "white"
             }
            },
            "header": {
             "fill": {
              "color": "#C8D4E3"
             },
             "line": {
              "color": "white"
             }
            },
            "type": "table"
           }
          ]
         },
         "layout": {
          "annotationdefaults": {
           "arrowcolor": "#2a3f5f",
           "arrowhead": 0,
           "arrowwidth": 1
          },
          "autotypenumbers": "strict",
          "coloraxis": {
           "colorbar": {
            "outlinewidth": 0,
            "ticks": ""
           }
          },
          "colorscale": {
           "diverging": [
            [
             0,
             "#8e0152"
            ],
            [
             0.1,
             "#c51b7d"
            ],
            [
             0.2,
             "#de77ae"
            ],
            [
             0.3,
             "#f1b6da"
            ],
            [
             0.4,
             "#fde0ef"
            ],
            [
             0.5,
             "#f7f7f7"
            ],
            [
             0.6,
             "#e6f5d0"
            ],
            [
             0.7,
             "#b8e186"
            ],
            [
             0.8,
             "#7fbc41"
            ],
            [
             0.9,
             "#4d9221"
            ],
            [
             1,
             "#276419"
            ]
           ],
           "sequential": [
            [
             0,
             "#0d0887"
            ],
            [
             0.1111111111111111,
             "#46039f"
            ],
            [
             0.2222222222222222,
             "#7201a8"
            ],
            [
             0.3333333333333333,
             "#9c179e"
            ],
            [
             0.4444444444444444,
             "#bd3786"
            ],
            [
             0.5555555555555556,
             "#d8576b"
            ],
            [
             0.6666666666666666,
             "#ed7953"
            ],
            [
             0.7777777777777778,
             "#fb9f3a"
            ],
            [
             0.8888888888888888,
             "#fdca26"
            ],
            [
             1,
             "#f0f921"
            ]
           ],
           "sequentialminus": [
            [
             0,
             "#0d0887"
            ],
            [
             0.1111111111111111,
             "#46039f"
            ],
            [
             0.2222222222222222,
             "#7201a8"
            ],
            [
             0.3333333333333333,
             "#9c179e"
            ],
            [
             0.4444444444444444,
             "#bd3786"
            ],
            [
             0.5555555555555556,
             "#d8576b"
            ],
            [
             0.6666666666666666,
             "#ed7953"
            ],
            [
             0.7777777777777778,
             "#fb9f3a"
            ],
            [
             0.8888888888888888,
             "#fdca26"
            ],
            [
             1,
             "#f0f921"
            ]
           ]
          },
          "colorway": [
           "#636efa",
           "#EF553B",
           "#00cc96",
           "#ab63fa",
           "#FFA15A",
           "#19d3f3",
           "#FF6692",
           "#B6E880",
           "#FF97FF",
           "#FECB52"
          ],
          "font": {
           "color": "#2a3f5f"
          },
          "geo": {
           "bgcolor": "white",
           "lakecolor": "white",
           "landcolor": "#E5ECF6",
           "showlakes": true,
           "showland": true,
           "subunitcolor": "white"
          },
          "hoverlabel": {
           "align": "left"
          },
          "hovermode": "closest",
          "mapbox": {
           "style": "light"
          },
          "paper_bgcolor": "white",
          "plot_bgcolor": "#E5ECF6",
          "polar": {
           "angularaxis": {
            "gridcolor": "white",
            "linecolor": "white",
            "ticks": ""
           },
           "bgcolor": "#E5ECF6",
           "radialaxis": {
            "gridcolor": "white",
            "linecolor": "white",
            "ticks": ""
           }
          },
          "scene": {
           "xaxis": {
            "backgroundcolor": "#E5ECF6",
            "gridcolor": "white",
            "gridwidth": 2,
            "linecolor": "white",
            "showbackground": true,
            "ticks": "",
            "zerolinecolor": "white"
           },
           "yaxis": {
            "backgroundcolor": "#E5ECF6",
            "gridcolor": "white",
            "gridwidth": 2,
            "linecolor": "white",
            "showbackground": true,
            "ticks": "",
            "zerolinecolor": "white"
           },
           "zaxis": {
            "backgroundcolor": "#E5ECF6",
            "gridcolor": "white",
            "gridwidth": 2,
            "linecolor": "white",
            "showbackground": true,
            "ticks": "",
            "zerolinecolor": "white"
           }
          },
          "shapedefaults": {
           "line": {
            "color": "#2a3f5f"
           }
          },
          "ternary": {
           "aaxis": {
            "gridcolor": "white",
            "linecolor": "white",
            "ticks": ""
           },
           "baxis": {
            "gridcolor": "white",
            "linecolor": "white",
            "ticks": ""
           },
           "bgcolor": "#E5ECF6",
           "caxis": {
            "gridcolor": "white",
            "linecolor": "white",
            "ticks": ""
           }
          },
          "title": {
           "x": 0.05
          },
          "xaxis": {
           "automargin": true,
           "gridcolor": "white",
           "linecolor": "white",
           "ticks": "",
           "title": {
            "standoff": 15
           },
           "zerolinecolor": "white",
           "zerolinewidth": 2
          },
          "yaxis": {
           "automargin": true,
           "gridcolor": "white",
           "linecolor": "white",
           "ticks": "",
           "title": {
            "standoff": 15
           },
           "zerolinecolor": "white",
           "zerolinewidth": 2
          }
         }
        },
        "title": {
         "font": {
          "color": "black",
          "family": "Times New Roman",
          "size": 18
         }
        },
        "width": 800,
        "xaxis": {
         "autorange": true,
         "range": [
          -110,
          110
         ],
         "showgrid": false,
         "showticklabels": false,
         "zeroline": false
        },
        "yaxis": {
         "autorange": true,
         "range": [
          -110,
          110
         ],
         "showgrid": false,
         "showticklabels": false,
         "zeroline": false
        }
       }
      }
     },
     "metadata": {},
     "output_type": "display_data"
    }
   ],
   "source": [
    "from pycirclizely import Circos\n",
    "import numpy as np\n",
    "np.random.seed(0)\n",
    "\n",
    "sectors = {\"A\": 10, \"B\": 15, \"C\": 12, \"D\": 20, \"E\": 15}\n",
    "circos = Circos(sectors, space=5)\n",
    "for sector in circos.sectors:\n",
    "    # Plot sector name\n",
    "    sector.text(f\"Sector: {sector.name}\", font=dict(size=20))\n",
    "    # Create x positions & randomized y values for data plotting\n",
    "    x = np.arange(sector.start, sector.end) + 0.5\n",
    "    y = np.random.randint(0, 100, len(x))\n",
    "    # Plot line\n",
    "    line_track = sector.add_track((75, 100), r_pad_ratio=0.1)\n",
    "    line_track.axis()\n",
    "    line_track.xticks_by_interval(1)\n",
    "    line_track.line(x, y)\n",
    "    # Plot points\n",
    "    points_track = sector.add_track((45, 70), r_pad_ratio=0.1)\n",
    "    points_track.axis()\n",
    "    points_track.scatter(x, y)\n",
    "    # # Plot bar\n",
    "    # bar_track = sector.add_track((15, 40), r_pad_ratio=0.1)\n",
    "    # bar_track.axis()\n",
    "    # bar_track.bar(x, y)\n",
    "\n",
    "fig = circos.plotfig()\n",
    "fig"
   ]
  },
  {
   "attachments": {},
   "cell_type": "markdown",
   "metadata": {},
   "source": [
    "User can also plot more data in a complex circular layout as follows."
   ]
  },
  {
   "cell_type": "code",
   "execution_count": null,
   "metadata": {},
   "outputs": [],
   "source": [
    "import numpy as np\n",
    "\n",
    "from pycirclizely import Circos\n",
    "from pycirclizely.utils import ColorCycler\n",
    "\n",
    "np.random.seed(0)\n",
    "ColorCycler.set_cmap(\"tab10\")\n",
    "\n",
    "sectors = {\"A\": 200, \"B\": 140, \"C\": 160}\n",
    "sector_colors = {\"A\": \"red\", \"B\": \"blue\", \"C\": \"green\"}\n",
    "circos = Circos(sectors, space=10, start=90, end=360, endspace=False)\n",
    "\n",
    "for sector in circos.sectors:\n",
    "    # Outer Track\n",
    "    outer_track = sector.add_track((95, 100))\n",
    "    outer_track.text(sector.name, color=\"white\")\n",
    "    outer_track.axis(fc=sector_colors[sector.name])\n",
    "    outer_track.xticks_by_interval(interval=10, label_orientation=\"vertical\")\n",
    "    # Rectangle Track\n",
    "    rect_track = sector.add_track((90, 95))\n",
    "    rect_size = 10\n",
    "    for i in range(int(rect_track.size / rect_size)):\n",
    "        x1, x2 = i * rect_size, i * rect_size + rect_size\n",
    "        rect_track.rect(x1, x2, ec=\"black\", lw=0.5, color=ColorCycler())\n",
    "        rect_track.text(str(i + 1), (x1 + x2) / 2, size=8, color=\"white\")\n",
    "    # Generate random x, y plot data\n",
    "    x = np.arange(1, int(sector.size), 2)\n",
    "    y = np.random.randint(0, 10, len(x))\n",
    "    # Line Track\n",
    "    line_track = sector.add_track((80, 90), r_pad_ratio=0.1)\n",
    "    line_track.axis()\n",
    "    line_track.line(x, y, color=\"blue\")\n",
    "    # Scatter Track\n",
    "    scatter_track = sector.add_track((70, 80), r_pad_ratio=0.1)\n",
    "    scatter_track.axis()\n",
    "    scatter_track.bar(x, y, width=0.8, color=\"orange\")\n",
    "    # Bar Track\n",
    "    bar_track = sector.add_track((60, 70), r_pad_ratio=0.1)\n",
    "    bar_track.axis()\n",
    "    bar_track.scatter(x, y, color=\"green\", s=3)\n",
    "    # Fill Track\n",
    "    fill_track = sector.add_track((50, 60), r_pad_ratio=0.1)\n",
    "    fill_track.axis()\n",
    "    fill_track.fill_between(x, y, y2=0, fc=\"red\", ec=\"black\", lw=0.5, alpha=0.5)\n",
    "    # Line + Bar + Scatter Track\n",
    "    line_bar_scatter_track = sector.add_track((40, 50), r_pad_ratio=0.1)\n",
    "    line_bar_scatter_track.axis()\n",
    "    line_bar_scatter_track.line(x, y, color=\"blue\")\n",
    "    line_bar_scatter_track.bar(x, y, width=0.8, color=\"orange\")\n",
    "    line_bar_scatter_track.scatter(x, y, color=\"green\", s=3)\n",
    "\n",
    "# Plot text description\n",
    "text_common_kws = dict(ha=\"left\", va=\"center\", size=8)\n",
    "circos.text(\" 01. Outer Track\", r=97.5, color=\"black\", **text_common_kws)\n",
    "circos.text(\" 02. Rectangle Track\", r=92.5, color=\"grey\", **text_common_kws)\n",
    "circos.text(\" 03. Line Track\", r=85, color=\"blue\", **text_common_kws)\n",
    "circos.text(\" 04. Bar Track\", r=75, color=\"orange\", **text_common_kws)\n",
    "circos.text(\" 05. Scatter Track\", r=65, color=\"green\", **text_common_kws)\n",
    "circos.text(\" 06. Fill between Track\", r=55, color=\"red\", **text_common_kws)\n",
    "circos.text(\" # points_track.axis()\n",
    "    # points_track.scatter(x, y) 07. Line + Bar + Scatter Track\", r=45, color=\"purple\", **text_common_kws)\n",
    "\n",
    "fig = circos.plotfig()"
   ]
  },
  {
   "attachments": {},
   "cell_type": "markdown",
   "metadata": {},
   "source": [
    "## 3. Plot Link\n",
    "\n",
    "pyCirclize implements the function to plot links within or between data in a sector.\n",
    "This function enables user to visualize interrelationships such as networks and flows between data."
   ]
  },
  {
   "cell_type": "code",
   "execution_count": null,
   "metadata": {},
   "outputs": [],
   "source": [
    "from pycirclizely import Circos\n",
    "\n",
    "sectors = {\"A\": 10, \"B\": 20, \"C\": 15}\n",
    "name2color = {\"A\": \"red\", \"B\": \"blue\", \"C\": \"green\"}\n",
    "circos = Circos(sectors, space=5)\n",
    "for sector in circos.sectors:\n",
    "    track = sector.add_track((95, 100))\n",
    "    track.axis(fc=name2color[sector.name])\n",
    "    track.text(sector.name, color=\"white\", size=12)\n",
    "    track.xticks_by_interval(1)\n",
    "\n",
    "# Plot links\n",
    "circos.link((\"A\", 0, 1), (\"A\", 7, 8))\n",
    "circos.link((\"A\", 1, 2), (\"A\", 7, 6))\n",
    "circos.link((\"A\", 9, 10), (\"B\", 4, 3))\n",
    "circos.link((\"B\", 5, 7), (\"C\", 6, 8))\n",
    "circos.link((\"B\", 18, 16), (\"B\", 11, 13))\n",
    "circos.link((\"C\", 1, 3), (\"B\", 2, 0))\n",
    "circos.link((\"C\", 11.5, 14), (\"A\", 4, 3))\n",
    "\n",
    "fig = circos.plotfig()"
   ]
  },
  {
   "attachments": {},
   "cell_type": "markdown",
   "metadata": {},
   "source": [
    "User can freely set the plotting style of each link, such as color, texture, and direction."
   ]
  },
  {
   "cell_type": "code",
   "execution_count": null,
   "metadata": {},
   "outputs": [],
   "source": [
    "from pycirclizely import Circos\n",
    "\n",
    "sectors = {\"A\": 10, \"B\": 20, \"C\": 15}\n",
    "name2color = {\"A\": \"red\", \"B\": \"blue\", \"C\": \"green\"}\n",
    "circos = Circos(sectors, space=5)\n",
    "for sector in circos.sectors:\n",
    "    track = sector.add_track((95, 100))\n",
    "    track.axis(fc=name2color[sector.name])\n",
    "    track.text(sector.name, color=\"white\", size=12)\n",
    "    track.xticks_by_interval(1)\n",
    "\n",
    "# Plot links with various styles\n",
    "circos.link((\"A\", 0, 1), (\"A\", 7, 8))\n",
    "circos.link((\"A\", 1, 2), (\"A\", 7, 6), color=\"skyblue\")\n",
    "circos.link((\"A\", 9, 10), (\"B\", 4, 3), direction=1, color=\"tomato\")\n",
    "circos.link((\"B\", 5, 7), (\"C\", 6, 8), direction=1, ec=\"black\", lw=1, hatch=\"//\")\n",
    "circos.link(\n",
    "    (\"B\", 18, 16),\n",
    "    (\"B\", 11, 13),\n",
    "    r1=90,\n",
    "    r2=90,\n",
    "    color=\"violet\",\n",
    "    ec=\"red\",\n",
    "    lw=2,\n",
    "    ls=\"dashed\",\n",
    ")\n",
    "circos.link((\"C\", 1, 3), (\"B\", 2, 0), direction=1, color=\"limegreen\")\n",
    "circos.link(\n",
    "    (\"C\", 11.5, 14),\n",
    "    (\"A\", 4, 3),\n",
    "    direction=2,\n",
    "    color=\"chocolate\",\n",
    "    ec=\"black\",\n",
    "    lw=1,\n",
    "    ls=\"dotted\",\n",
    ")\n",
    "\n",
    "fig = circos.plotfig()"
   ]
  },
  {
   "attachments": {},
   "cell_type": "markdown",
   "metadata": {},
   "source": [
    "Of course, it is also possible to combine data plots to track with link plots."
   ]
  },
  {
   "cell_type": "code",
   "execution_count": null,
   "metadata": {},
   "outputs": [],
   "source": [
    "import numpy as np\n",
    "\n",
    "from pycirclizely import Circos\n",
    "\n",
    "np.random.seed(0)\n",
    "\n",
    "# Initialize Circos sectors\n",
    "sectors = {\"A\": 10, \"B\": 15, \"C\": 12, \"D\": 20, \"E\": 15}\n",
    "circos = Circos(sectors, space=5)\n",
    "\n",
    "for sector in circos.sectors:\n",
    "    # Plot sector name\n",
    "    sector.text(f\"Sector: {sector.name}\", r=110, size=15)\n",
    "    # Create x positions & randomized y values\n",
    "    x = np.arange(sector.start, sector.end) + 0.5\n",
    "    y = np.random.randint(0, 100, len(x))\n",
    "    # Plot line track\n",
    "    line_track = sector.add_track((80, 100), r_pad_ratio=0.1)\n",
    "    line_track.xticks_by_interval(interval=1)\n",
    "    line_track.axis()\n",
    "    line_track.line(x, y)\n",
    "    # Plot points track\n",
    "    points_track = sector.add_track((55, 75), r_pad_ratio=0.1)\n",
    "    points_track.axis()\n",
    "    points_track.scatter(x, y)\n",
    "    # Plot bar track\n",
    "    bar_track = sector.add_track((30, 50), r_pad_ratio=0.1)\n",
    "    bar_track.axis()\n",
    "    bar_track.bar(x, y)\n",
    "\n",
    "# Plot links\n",
    "circos.link((\"A\", 0, 3), (\"B\", 15, 12))\n",
    "circos.link((\"B\", 0, 3), (\"C\", 7, 11), color=\"skyblue\")\n",
    "circos.link((\"C\", 2, 5), (\"E\", 15, 12), color=\"chocolate\", direction=1)\n",
    "circos.link(\n",
    "    (\"D\", 3, 5),\n",
    "    (\"D\", 18, 15),\n",
    "    color=\"lime\",\n",
    "    ec=\"black\",\n",
    "    lw=0.5,\n",
    "    hatch=\"//\",\n",
    "    direction=2,\n",
    ")\n",
    "circos.link((\"D\", 8, 10), (\"E\", 2, 8), color=\"violet\", ec=\"red\", lw=1.0, ls=\"dashed\")\n",
    "\n",
    "fig = circos.plotfig()"
   ]
  },
  {
   "attachments": {},
   "cell_type": "markdown",
   "metadata": {},
   "source": [
    "## 4. What's Next ?\n",
    "\n",
    "pyCirclize implements a variety of plotting functions. \n",
    "Only a few of the plotting functions are introduced in this section.\n",
    "If you want to know more about what kind of plotting function is available, \n",
    "I recommend you to look at the [Plot API Example](../plot_api_example/) next.\n",
    "\n",
    "If you are interested in the contents of the following sections, you may want to look at them next.\n",
    "\n",
    "- [Chord Diagram](../chord_diagram/)\n",
    "- [Radar Chart](../radar_chart/)\n",
    "- [Circos Plot (Genomics)](../circos_plot/)\n",
    "- [Comparative Genomics](../comparative_genomics)\n",
    "- [Phylogenetic Tree](../phylogenetic_tree/)"
   ]
  }
 ],
 "metadata": {
  "kernelspec": {
   "display_name": "pyCirclizely-ydjMXGRu",
   "language": "python",
   "name": "python3"
  },
  "language_info": {
   "codemirror_mode": {
    "name": "ipython",
    "version": 3
   },
   "file_extension": ".py",
   "mimetype": "text/x-python",
   "name": "python",
   "nbconvert_exporter": "python",
   "pygments_lexer": "ipython3",
   "version": "3.12.9"
  }
 },
 "nbformat": 4,
 "nbformat_minor": 2
}
